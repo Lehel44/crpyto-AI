{
  "nbformat": 4,
  "nbformat_minor": 0,
  "metadata": {
    "colab": {
      "name": "Predict BitCoin.ipynb",
      "provenance": [],
      "collapsed_sections": [],
      "toc_visible": true
    },
    "kernelspec": {
      "name": "python3",
      "display_name": "Python 3"
    },
    "accelerator": "GPU"
  },
  "cells": [
    {
      "cell_type": "code",
      "metadata": {
        "id": "AjnNx60adMo5"
      },
      "source": [
        "import json\n",
        "import requests\n",
        "from keras.models import Sequential\n",
        "from keras.layers import Activation, Dense, Dropout, LSTM\n",
        "import matplotlib.pyplot as plt\n",
        "import numpy as np\n",
        "import pandas as pd\n",
        "import seaborn as sns\n",
        "from sklearn.metrics import mean_absolute_error\n",
        "%matplotlib inline\n",
        "from sklearn.preprocessing import MinMaxScaler"
      ],
      "execution_count": 2,
      "outputs": []
    },
    {
      "cell_type": "code",
      "metadata": {
        "colab": {
          "base_uri": "https://localhost:8080/",
          "height": 450
        },
        "id": "SS6yHZW6dXAd",
        "outputId": "717d8fb2-ae07-4241-8c07-bdba6b1825a2"
      },
      "source": [
        "with open('/content/BTC_hist_daily_prices.json') as json_file:\n",
        "    data = json.load(json_file)\n",
        "\n",
        "df = pd.DataFrame(data['Data']['Data'])\n",
        "df = df.set_index('time')\n",
        "df.index = pd.to_datetime(df.index, unit='s')\n",
        "df = df.drop(['conversionType', 'conversionSymbol'], axis=1 )\n",
        "target_col = 'close'\n",
        "\n",
        "df.head(100)"
      ],
      "execution_count": 43,
      "outputs": [
        {
          "output_type": "execute_result",
          "data": {
            "text/html": [
              "<div>\n",
              "<style scoped>\n",
              "    .dataframe tbody tr th:only-of-type {\n",
              "        vertical-align: middle;\n",
              "    }\n",
              "\n",
              "    .dataframe tbody tr th {\n",
              "        vertical-align: top;\n",
              "    }\n",
              "\n",
              "    .dataframe thead th {\n",
              "        text-align: right;\n",
              "    }\n",
              "</style>\n",
              "<table border=\"1\" class=\"dataframe\">\n",
              "  <thead>\n",
              "    <tr style=\"text-align: right;\">\n",
              "      <th></th>\n",
              "      <th>high</th>\n",
              "      <th>low</th>\n",
              "      <th>open</th>\n",
              "      <th>volumefrom</th>\n",
              "      <th>volumeto</th>\n",
              "      <th>close</th>\n",
              "    </tr>\n",
              "    <tr>\n",
              "      <th>time</th>\n",
              "      <th></th>\n",
              "      <th></th>\n",
              "      <th></th>\n",
              "      <th></th>\n",
              "      <th></th>\n",
              "      <th></th>\n",
              "    </tr>\n",
              "  </thead>\n",
              "  <tbody>\n",
              "    <tr>\n",
              "      <th>2010-07-17</th>\n",
              "      <td>0.04951</td>\n",
              "      <td>0.04951</td>\n",
              "      <td>0.04951</td>\n",
              "      <td>20.00</td>\n",
              "      <td>0.9902</td>\n",
              "      <td>0.04951</td>\n",
              "    </tr>\n",
              "    <tr>\n",
              "      <th>2010-07-18</th>\n",
              "      <td>0.08585</td>\n",
              "      <td>0.05941</td>\n",
              "      <td>0.04951</td>\n",
              "      <td>75.01</td>\n",
              "      <td>5.0920</td>\n",
              "      <td>0.08584</td>\n",
              "    </tr>\n",
              "    <tr>\n",
              "      <th>2010-07-19</th>\n",
              "      <td>0.09307</td>\n",
              "      <td>0.07723</td>\n",
              "      <td>0.08584</td>\n",
              "      <td>574.00</td>\n",
              "      <td>49.6600</td>\n",
              "      <td>0.08080</td>\n",
              "    </tr>\n",
              "    <tr>\n",
              "      <th>2010-07-20</th>\n",
              "      <td>0.08181</td>\n",
              "      <td>0.07426</td>\n",
              "      <td>0.08080</td>\n",
              "      <td>262.00</td>\n",
              "      <td>20.5900</td>\n",
              "      <td>0.07474</td>\n",
              "    </tr>\n",
              "    <tr>\n",
              "      <th>2010-07-21</th>\n",
              "      <td>0.07921</td>\n",
              "      <td>0.06634</td>\n",
              "      <td>0.07474</td>\n",
              "      <td>575.00</td>\n",
              "      <td>42.2600</td>\n",
              "      <td>0.07921</td>\n",
              "    </tr>\n",
              "    <tr>\n",
              "      <th>...</th>\n",
              "      <td>...</td>\n",
              "      <td>...</td>\n",
              "      <td>...</td>\n",
              "      <td>...</td>\n",
              "      <td>...</td>\n",
              "      <td>...</td>\n",
              "    </tr>\n",
              "    <tr>\n",
              "      <th>2010-10-20</th>\n",
              "      <td>0.10300</td>\n",
              "      <td>0.09400</td>\n",
              "      <td>0.09700</td>\n",
              "      <td>31855.00</td>\n",
              "      <td>3221.0800</td>\n",
              "      <td>0.09900</td>\n",
              "    </tr>\n",
              "    <tr>\n",
              "      <th>2010-10-21</th>\n",
              "      <td>0.10900</td>\n",
              "      <td>0.09700</td>\n",
              "      <td>0.09900</td>\n",
              "      <td>44867.00</td>\n",
              "      <td>4616.8500</td>\n",
              "      <td>0.10700</td>\n",
              "    </tr>\n",
              "    <tr>\n",
              "      <th>2010-10-22</th>\n",
              "      <td>0.10900</td>\n",
              "      <td>0.10150</td>\n",
              "      <td>0.10700</td>\n",
              "      <td>34603.91</td>\n",
              "      <td>3665.4300</td>\n",
              "      <td>0.10250</td>\n",
              "    </tr>\n",
              "    <tr>\n",
              "      <th>2010-10-23</th>\n",
              "      <td>0.10900</td>\n",
              "      <td>0.10450</td>\n",
              "      <td>0.10250</td>\n",
              "      <td>4423.47</td>\n",
              "      <td>481.5200</td>\n",
              "      <td>0.10550</td>\n",
              "    </tr>\n",
              "    <tr>\n",
              "      <th>2010-10-24</th>\n",
              "      <td>0.19000</td>\n",
              "      <td>0.10800</td>\n",
              "      <td>0.10550</td>\n",
              "      <td>13800.23</td>\n",
              "      <td>1560.6100</td>\n",
              "      <td>0.11500</td>\n",
              "    </tr>\n",
              "  </tbody>\n",
              "</table>\n",
              "<p>100 rows × 6 columns</p>\n",
              "</div>"
            ],
            "text/plain": [
              "               high      low     open  volumefrom   volumeto    close\n",
              "time                                                                 \n",
              "2010-07-17  0.04951  0.04951  0.04951       20.00     0.9902  0.04951\n",
              "2010-07-18  0.08585  0.05941  0.04951       75.01     5.0920  0.08584\n",
              "2010-07-19  0.09307  0.07723  0.08584      574.00    49.6600  0.08080\n",
              "2010-07-20  0.08181  0.07426  0.08080      262.00    20.5900  0.07474\n",
              "2010-07-21  0.07921  0.06634  0.07474      575.00    42.2600  0.07921\n",
              "...             ...      ...      ...         ...        ...      ...\n",
              "2010-10-20  0.10300  0.09400  0.09700    31855.00  3221.0800  0.09900\n",
              "2010-10-21  0.10900  0.09700  0.09900    44867.00  4616.8500  0.10700\n",
              "2010-10-22  0.10900  0.10150  0.10700    34603.91  3665.4300  0.10250\n",
              "2010-10-23  0.10900  0.10450  0.10250     4423.47   481.5200  0.10550\n",
              "2010-10-24  0.19000  0.10800  0.10550    13800.23  1560.6100  0.11500\n",
              "\n",
              "[100 rows x 6 columns]"
            ]
          },
          "metadata": {
            "tags": []
          },
          "execution_count": 43
        }
      ]
    },
    {
      "cell_type": "code",
      "metadata": {
        "colab": {
          "base_uri": "https://localhost:8080/",
          "height": 235
        },
        "id": "_RVTUoyLc5tu",
        "outputId": "1c789da1-c675-4a21-f560-dc4ddc2815a4"
      },
      "source": [
        "# Normalize values between 0-1 for every feature (each column is divided by column max value).\r\n",
        "\r\n",
        "scaler = MinMaxScaler()\r\n",
        "array_scaled = scaler.fit_transform(df)\r\n",
        "df_scaled = pd.DataFrame(array_scaled, columns=df.columns,index=df.index)\r\n",
        "df_scaled.head()"
      ],
      "execution_count": 44,
      "outputs": [
        {
          "output_type": "execute_result",
          "data": {
            "text/html": [
              "<div>\n",
              "<style scoped>\n",
              "    .dataframe tbody tr th:only-of-type {\n",
              "        vertical-align: middle;\n",
              "    }\n",
              "\n",
              "    .dataframe tbody tr th {\n",
              "        vertical-align: top;\n",
              "    }\n",
              "\n",
              "    .dataframe thead th {\n",
              "        text-align: right;\n",
              "    }\n",
              "</style>\n",
              "<table border=\"1\" class=\"dataframe\">\n",
              "  <thead>\n",
              "    <tr style=\"text-align: right;\">\n",
              "      <th></th>\n",
              "      <th>high</th>\n",
              "      <th>low</th>\n",
              "      <th>open</th>\n",
              "      <th>volumefrom</th>\n",
              "      <th>volumeto</th>\n",
              "      <th>close</th>\n",
              "    </tr>\n",
              "    <tr>\n",
              "      <th>time</th>\n",
              "      <th></th>\n",
              "      <th></th>\n",
              "      <th></th>\n",
              "      <th></th>\n",
              "      <th></th>\n",
              "      <th></th>\n",
              "    </tr>\n",
              "  </thead>\n",
              "  <tbody>\n",
              "    <tr>\n",
              "      <th>2010-07-17</th>\n",
              "      <td>0.000000</td>\n",
              "      <td>0.000002</td>\n",
              "      <td>0.000000</td>\n",
              "      <td>0.000035</td>\n",
              "      <td>1.585403e-10</td>\n",
              "      <td>0.000000</td>\n",
              "    </tr>\n",
              "    <tr>\n",
              "      <th>2010-07-18</th>\n",
              "      <td>0.000002</td>\n",
              "      <td>0.000003</td>\n",
              "      <td>0.000000</td>\n",
              "      <td>0.000131</td>\n",
              "      <td>8.152768e-10</td>\n",
              "      <td>0.000002</td>\n",
              "    </tr>\n",
              "    <tr>\n",
              "      <th>2010-07-19</th>\n",
              "      <td>0.000002</td>\n",
              "      <td>0.000004</td>\n",
              "      <td>0.000002</td>\n",
              "      <td>0.001003</td>\n",
              "      <td>7.951030e-09</td>\n",
              "      <td>0.000002</td>\n",
              "    </tr>\n",
              "    <tr>\n",
              "      <th>2010-07-20</th>\n",
              "      <td>0.000002</td>\n",
              "      <td>0.000003</td>\n",
              "      <td>0.000002</td>\n",
              "      <td>0.000458</td>\n",
              "      <td>3.296651e-09</td>\n",
              "      <td>0.000001</td>\n",
              "    </tr>\n",
              "    <tr>\n",
              "      <th>2010-07-21</th>\n",
              "      <td>0.000001</td>\n",
              "      <td>0.000003</td>\n",
              "      <td>0.000001</td>\n",
              "      <td>0.001005</td>\n",
              "      <td>6.766221e-09</td>\n",
              "      <td>0.000002</td>\n",
              "    </tr>\n",
              "  </tbody>\n",
              "</table>\n",
              "</div>"
            ],
            "text/plain": [
              "                high       low      open  volumefrom      volumeto     close\n",
              "time                                                                        \n",
              "2010-07-17  0.000000  0.000002  0.000000    0.000035  1.585403e-10  0.000000\n",
              "2010-07-18  0.000002  0.000003  0.000000    0.000131  8.152768e-10  0.000002\n",
              "2010-07-19  0.000002  0.000004  0.000002    0.001003  7.951030e-09  0.000002\n",
              "2010-07-20  0.000002  0.000003  0.000002    0.000458  3.296651e-09  0.000001\n",
              "2010-07-21  0.000001  0.000003  0.000001    0.001005  6.766221e-09  0.000002"
            ]
          },
          "metadata": {
            "tags": []
          },
          "execution_count": 44
        }
      ]
    },
    {
      "cell_type": "code",
      "metadata": {
        "id": "kYYKJk4jd8LK"
      },
      "source": [
        "def train_test_split(df, test_size=0.2):\n",
        "    split_row = len(df) - int(test_size * len(df))\n",
        "    train_data = df.iloc[:split_row]\n",
        "    test_data = df.iloc[split_row:]\n",
        "    return train_data, test_data\n",
        "\n",
        "train_orig, test_orig = train_test_split(df, test_size=0.2)\n",
        "train, test = train_test_split(df_scaled, test_size=0.2)"
      ],
      "execution_count": 66,
      "outputs": []
    },
    {
      "cell_type": "code",
      "metadata": {
        "id": "mqgciSpHfoy8",
        "colab": {
          "base_uri": "https://localhost:8080/",
          "height": 428
        },
        "outputId": "ca305c34-c016-46ba-fe97-dba8ca89251f"
      },
      "source": [
        "def line_plot(line1, line2, label1=None, label2=None, title='', lw=2):\n",
        "    fig, ax = plt.subplots(1, figsize=(13, 7))\n",
        "    ax.plot(line1, label=label1, linewidth=lw)\n",
        "    ax.plot(line2, label=label2, linewidth=lw)\n",
        "    ax.set_ylabel('price [CAD]', fontsize=14)\n",
        "    ax.set_title(title, fontsize=16)\n",
        "    ax.legend(loc='best', fontsize=16)\n",
        "    \n",
        "line_plot(train[target_col], test[target_col], 'training', 'test', title='')"
      ],
      "execution_count": 46,
      "outputs": [
        {
          "output_type": "display_data",
          "data": {
            "image/png": "[encoded data removed]",
            "text/plain": [
              "<Figure size 936x504 with 1 Axes>"
            ]
          },
          "metadata": {
            "tags": [],
            "needs_background": "light"
          }
        }
      ]
    },
    {
      "cell_type": "code",
      "metadata": {
        "id": "u3EtleUrgD3l"
      },
      "source": [
        "def extract_window_data(df, window_len=5):\n",
        "    window_data = []\n",
        "    for idx in range(len(df) - window_len):\n",
        "        tmp = df[idx: (idx + window_len)].copy()\n",
        "        window_data.append(tmp.values)\n",
        "    \n",
        "    return np.array(window_data)\n",
        "\n",
        "def prepare_data(df, target_col, window_len=10, test_size=0.2):\n",
        "    train_data, test_data = train_test_split(df, test_size=test_size)\n",
        "    X_train = extract_window_data(train_data, window_len)\n",
        "    X_test = extract_window_data(test_data, window_len)\n",
        "    y_train = train_data[target_col][window_len:].values\n",
        "    y_test = test_data[target_col][window_len:].values\n",
        "\n",
        "    return train_data, test_data, X_train, X_test, y_train, y_test\n",
        "\n",
        "def build_lstm_model(input_data, output_size, neurons=100, activ_func='linear', dropout=0.2, loss='mse', optimizer='adam'):\n",
        "    model = Sequential()\n",
        "    model.add(LSTM(neurons, input_shape =(input_data.shape[1],input_data.shape[2])))\n",
        "    model.add(Dropout(dropout))\n",
        "    model.add(Dense(units=output_size))\n",
        "    model.add(Activation(activ_func))\n",
        "    model.compile(loss=loss, optimizer=optimizer)\n",
        "    \n",
        "    return model"
      ],
      "execution_count": 47,
      "outputs": []
    },
    {
      "cell_type": "code",
      "metadata": {
        "id": "VWxIw0FCgUUa"
      },
      "source": [
        "np.random.seed(42)\n",
        "window_len = 5\n",
        "test_size = 0.2\n",
        "lstm_neurons = 100\n",
        "epochs = 20\n",
        "batch_size = 32\n",
        "loss = 'mse'\n",
        "dropout = 0.2\n",
        "optimizer = 'adam'"
      ],
      "execution_count": 48,
      "outputs": []
    },
    {
      "cell_type": "code",
      "metadata": {
        "id": "aI9RtVclghX0"
      },
      "source": [
        "train, test, X_train, X_test, y_train, y_test = prepare_data(df_scaled, target_col, window_len=window_len, test_size=test_size)"
      ],
      "execution_count": 62,
      "outputs": []
    },
    {
      "cell_type": "code",
      "metadata": {
        "colab": {
          "base_uri": "https://localhost:8080/"
        },
        "id": "t5ghdGoTDiFc",
        "outputId": "8ba208be-9bd0-41c2-fcaf-9c4480da4b0c"
      },
      "source": [
        "model = build_lstm_model(X_train, output_size=1, neurons=lstm_neurons, dropout=dropout, loss=loss, optimizer=optimizer)\r\n",
        "history = model.fit(X_train, y_train, epochs=epochs, batch_size=batch_size, verbose=1, shuffle=True)"
      ],
      "execution_count": 63,
      "outputs": [
        {
          "output_type": "stream",
          "text": [
            "Epoch 1/20\n",
            "95/95 [==============================] - 2s 3ms/step - loss: 0.0046\n",
            "Epoch 2/20\n",
            "95/95 [==============================] - 0s 3ms/step - loss: 5.5989e-04\n",
            "Epoch 3/20\n",
            "95/95 [==============================] - 0s 4ms/step - loss: 3.3552e-04\n",
            "Epoch 4/20\n",
            "95/95 [==============================] - 0s 3ms/step - loss: 4.4072e-04\n",
            "Epoch 5/20\n",
            "95/95 [==============================] - 0s 3ms/step - loss: 3.8377e-04\n",
            "Epoch 6/20\n",
            "95/95 [==============================] - 0s 3ms/step - loss: 3.5627e-04\n",
            "Epoch 7/20\n",
            "95/95 [==============================] - 0s 3ms/step - loss: 3.2542e-04\n",
            "Epoch 8/20\n",
            "95/95 [==============================] - 0s 3ms/step - loss: 3.3483e-04\n",
            "Epoch 9/20\n",
            "95/95 [==============================] - 0s 3ms/step - loss: 2.8921e-04\n",
            "Epoch 10/20\n",
            "95/95 [==============================] - 0s 3ms/step - loss: 2.3941e-04\n",
            "Epoch 11/20\n",
            "95/95 [==============================] - 0s 3ms/step - loss: 3.1159e-04\n",
            "Epoch 12/20\n",
            "95/95 [==============================] - 0s 3ms/step - loss: 2.6411e-04\n",
            "Epoch 13/20\n",
            "95/95 [==============================] - 0s 3ms/step - loss: 2.9070e-04\n",
            "Epoch 14/20\n",
            "95/95 [==============================] - 0s 3ms/step - loss: 2.9801e-04\n",
            "Epoch 15/20\n",
            "95/95 [==============================] - 0s 3ms/step - loss: 2.4538e-04\n",
            "Epoch 16/20\n",
            "95/95 [==============================] - 0s 3ms/step - loss: 2.3173e-04\n",
            "Epoch 17/20\n",
            "95/95 [==============================] - 0s 3ms/step - loss: 3.0396e-04\n",
            "Epoch 18/20\n",
            "95/95 [==============================] - 0s 3ms/step - loss: 2.4208e-04\n",
            "Epoch 19/20\n",
            "95/95 [==============================] - 0s 3ms/step - loss: 2.7013e-04\n",
            "Epoch 20/20\n",
            "95/95 [==============================] - 0s 3ms/step - loss: 2.4109e-04\n"
          ],
          "name": "stdout"
        }
      ]
    },
    {
      "cell_type": "code",
      "metadata": {
        "colab": {
          "base_uri": "https://localhost:8080/",
          "height": 204
        },
        "id": "8yi9lvtOmRRM",
        "outputId": "0ddb8993-5eca-48dc-fec1-8d9b17b2c649"
      },
      "source": [
        "preds = model.predict(X_test).squeeze()\n",
        "\n",
        "arr = np.zeros([preds.shape[0], 6])\n",
        "arr[:, 5] = preds\n",
        "\n",
        "res = scaler.inverse_transform(arr)\n",
        "\n",
        "df_res = pd.DataFrame(res, columns=df.columns)\n",
        "\n",
        "df_res.head()"
      ],
      "execution_count": 68,
      "outputs": [
        {
          "output_type": "execute_result",
          "data": {
            "text/html": [
              "<div>\n",
              "<style scoped>\n",
              "    .dataframe tbody tr th:only-of-type {\n",
              "        vertical-align: middle;\n",
              "    }\n",
              "\n",
              "    .dataframe tbody tr th {\n",
              "        vertical-align: top;\n",
              "    }\n",
              "\n",
              "    .dataframe thead th {\n",
              "        text-align: right;\n",
              "    }\n",
              "</style>\n",
              "<table border=\"1\" class=\"dataframe\">\n",
              "  <thead>\n",
              "    <tr style=\"text-align: right;\">\n",
              "      <th></th>\n",
              "      <th>high</th>\n",
              "      <th>low</th>\n",
              "      <th>open</th>\n",
              "      <th>volumefrom</th>\n",
              "      <th>volumeto</th>\n",
              "      <th>close</th>\n",
              "    </tr>\n",
              "  </thead>\n",
              "  <tbody>\n",
              "    <tr>\n",
              "      <th>0</th>\n",
              "      <td>0.04951</td>\n",
              "      <td>0.01</td>\n",
              "      <td>0.04951</td>\n",
              "      <td>0.0</td>\n",
              "      <td>0.0</td>\n",
              "      <td>6677.259687</td>\n",
              "    </tr>\n",
              "    <tr>\n",
              "      <th>1</th>\n",
              "      <td>0.04951</td>\n",
              "      <td>0.01</td>\n",
              "      <td>0.04951</td>\n",
              "      <td>0.0</td>\n",
              "      <td>0.0</td>\n",
              "      <td>6656.014810</td>\n",
              "    </tr>\n",
              "    <tr>\n",
              "      <th>2</th>\n",
              "      <td>0.04951</td>\n",
              "      <td>0.01</td>\n",
              "      <td>0.04951</td>\n",
              "      <td>0.0</td>\n",
              "      <td>0.0</td>\n",
              "      <td>6619.991220</td>\n",
              "    </tr>\n",
              "    <tr>\n",
              "      <th>3</th>\n",
              "      <td>0.04951</td>\n",
              "      <td>0.01</td>\n",
              "      <td>0.04951</td>\n",
              "      <td>0.0</td>\n",
              "      <td>0.0</td>\n",
              "      <td>6596.626550</td>\n",
              "    </tr>\n",
              "    <tr>\n",
              "      <th>4</th>\n",
              "      <td>0.04951</td>\n",
              "      <td>0.01</td>\n",
              "      <td>0.04951</td>\n",
              "      <td>0.0</td>\n",
              "      <td>0.0</td>\n",
              "      <td>6568.669090</td>\n",
              "    </tr>\n",
              "  </tbody>\n",
              "</table>\n",
              "</div>"
            ],
            "text/plain": [
              "      high   low     open  volumefrom  volumeto        close\n",
              "0  0.04951  0.01  0.04951         0.0       0.0  6677.259687\n",
              "1  0.04951  0.01  0.04951         0.0       0.0  6656.014810\n",
              "2  0.04951  0.01  0.04951         0.0       0.0  6619.991220\n",
              "3  0.04951  0.01  0.04951         0.0       0.0  6596.626550\n",
              "4  0.04951  0.01  0.04951         0.0       0.0  6568.669090"
            ]
          },
          "metadata": {
            "tags": []
          },
          "execution_count": 68
        }
      ]
    },
    {
      "cell_type": "code",
      "metadata": {
        "colab": {
          "base_uri": "https://localhost:8080/",
          "height": 428
        },
        "id": "vMMtJeVAhDRT",
        "outputId": "8a372ea3-1c1d-48d9-8f71-c64db999f230"
      },
      "source": [
        "predicted_closing_prices = df_res[target_col].values\r\n",
        "actual_closing_prices = test_orig[target_col][window_len:]\r\n",
        "\r\n",
        "predicted_closing_prices = pd.Series(index=actual_closing_prices.index, data=predicted_closing_prices)\r\n",
        "\r\n",
        "line_plot(actual_closing_prices, predicted_closing_prices, 'actual', 'predicted', lw=3)"
      ],
      "execution_count": 69,
      "outputs": [
        {
          "output_type": "display_data",
          "data": {
            "image/png": "[encoded data removed]",
            "text/plain": [
              "<Figure size 936x504 with 1 Axes>"
            ]
          },
          "metadata": {
            "tags": [],
            "needs_background": "light"
          }
        }
      ]
    }
  ]
}