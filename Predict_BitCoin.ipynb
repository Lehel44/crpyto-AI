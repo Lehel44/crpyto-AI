{
 "cells": [
  {
   "cell_type": "code",
   "execution_count": 1,
   "metadata": {
    "id": "AjnNx60adMo5"
   },
   "outputs": [],
   "source": [
    "import json\n",
    "import requests\n",
    "from keras.models import Sequential\n",
    "from keras.layers import Activation, Dense, Dropout, LSTM\n",
    "from keras.callbacks import EarlyStopping\n",
    "import matplotlib.pyplot as plt\n",
    "import numpy as np\n",
    "import pandas as pd\n",
    "import seaborn as sns\n",
    "from sklearn.metrics import mean_absolute_error\n",
    "from sklearn.preprocessing import MinMaxScaler\n",
    "from keras.models import load_model\n",
    "import tensorflow as tf\n",
    "%matplotlib inline"
   ]
  },
  {
   "cell_type": "code",
   "execution_count": 2,
   "metadata": {
    "colab": {
     "base_uri": "https://localhost:8080/",
     "height": 450
    },
    "id": "SS6yHZW6dXAd",
    "outputId": "f1e998f7-bcb5-4007-9b33-b8200175a723",
    "scrolled": true
   },
   "outputs": [],
   "source": [
    "target_col = 'close_btc'"
   ]
  },
  {
   "cell_type": "code",
   "execution_count": 3,
   "metadata": {
    "scrolled": true
   },
   "outputs": [
    {
     "data": {
      "text/html": [
       "<div>\n",
       "<style scoped>\n",
       "    .dataframe tbody tr th:only-of-type {\n",
       "        vertical-align: middle;\n",
       "    }\n",
       "\n",
       "    .dataframe tbody tr th {\n",
       "        vertical-align: top;\n",
       "    }\n",
       "\n",
       "    .dataframe thead th {\n",
       "        text-align: right;\n",
       "    }\n",
       "</style>\n",
       "<table border=\"1\" class=\"dataframe\">\n",
       "  <thead>\n",
       "    <tr style=\"text-align: right;\">\n",
       "      <th></th>\n",
       "      <th>open_btc</th>\n",
       "      <th>high_btc</th>\n",
       "      <th>low_btc</th>\n",
       "      <th>close_btc</th>\n",
       "      <th>volume_btc</th>\n",
       "    </tr>\n",
       "    <tr>\n",
       "      <th>time</th>\n",
       "      <th></th>\n",
       "      <th></th>\n",
       "      <th></th>\n",
       "      <th></th>\n",
       "      <th></th>\n",
       "    </tr>\n",
       "  </thead>\n",
       "  <tbody>\n",
       "    <tr>\n",
       "      <th>2014-09-17</th>\n",
       "      <td>465.864014</td>\n",
       "      <td>468.174011</td>\n",
       "      <td>452.421997</td>\n",
       "      <td>457.334015</td>\n",
       "      <td>21056800.0</td>\n",
       "    </tr>\n",
       "    <tr>\n",
       "      <th>2014-09-18</th>\n",
       "      <td>456.859985</td>\n",
       "      <td>456.859985</td>\n",
       "      <td>413.104004</td>\n",
       "      <td>424.440002</td>\n",
       "      <td>34483200.0</td>\n",
       "    </tr>\n",
       "    <tr>\n",
       "      <th>2014-09-19</th>\n",
       "      <td>424.102997</td>\n",
       "      <td>427.834991</td>\n",
       "      <td>384.532013</td>\n",
       "      <td>394.795990</td>\n",
       "      <td>37919700.0</td>\n",
       "    </tr>\n",
       "    <tr>\n",
       "      <th>2014-09-20</th>\n",
       "      <td>394.673004</td>\n",
       "      <td>423.295990</td>\n",
       "      <td>389.882996</td>\n",
       "      <td>408.903992</td>\n",
       "      <td>36863600.0</td>\n",
       "    </tr>\n",
       "    <tr>\n",
       "      <th>2014-09-21</th>\n",
       "      <td>408.084991</td>\n",
       "      <td>412.425995</td>\n",
       "      <td>393.181000</td>\n",
       "      <td>398.821014</td>\n",
       "      <td>26580100.0</td>\n",
       "    </tr>\n",
       "  </tbody>\n",
       "</table>\n",
       "</div>"
      ],
      "text/plain": [
       "              open_btc    high_btc     low_btc   close_btc  volume_btc\n",
       "time                                                                  \n",
       "2014-09-17  465.864014  468.174011  452.421997  457.334015  21056800.0\n",
       "2014-09-18  456.859985  456.859985  413.104004  424.440002  34483200.0\n",
       "2014-09-19  424.102997  427.834991  384.532013  394.795990  37919700.0\n",
       "2014-09-20  394.673004  423.295990  389.882996  408.903992  36863600.0\n",
       "2014-09-21  408.084991  412.425995  393.181000  398.821014  26580100.0"
      ]
     },
     "execution_count": 3,
     "metadata": {},
     "output_type": "execute_result"
    }
   ],
   "source": [
    "df2 = pd.read_csv('contents/BTC-USD.csv')\n",
    "df2 = df2.rename(columns={\"Date\":\"time\", \"Open\":\"open_btc\", \"High\":\"high_btc\", \"Low\":\"low_btc\", \"Close\":\"close_btc\", \"Volume\":\"volume_btc\"})\n",
    "df2 = df2.drop('Adj Close', axis=1)\n",
    "df2 = df2.set_index('time')\n",
    "df2.head()"
   ]
  },
  {
   "cell_type": "code",
   "execution_count": 4,
   "metadata": {},
   "outputs": [
    {
     "data": {
      "text/html": [
       "<div>\n",
       "<style scoped>\n",
       "    .dataframe tbody tr th:only-of-type {\n",
       "        vertical-align: middle;\n",
       "    }\n",
       "\n",
       "    .dataframe tbody tr th {\n",
       "        vertical-align: top;\n",
       "    }\n",
       "\n",
       "    .dataframe thead th {\n",
       "        text-align: right;\n",
       "    }\n",
       "</style>\n",
       "<table border=\"1\" class=\"dataframe\">\n",
       "  <thead>\n",
       "    <tr style=\"text-align: right;\">\n",
       "      <th></th>\n",
       "      <th>close_eur</th>\n",
       "    </tr>\n",
       "    <tr>\n",
       "      <th>time</th>\n",
       "      <th></th>\n",
       "    </tr>\n",
       "  </thead>\n",
       "  <tbody>\n",
       "    <tr>\n",
       "      <th>2014-12-09</th>\n",
       "      <td>1.231512</td>\n",
       "    </tr>\n",
       "    <tr>\n",
       "      <th>2014-12-10</th>\n",
       "      <td>1.239495</td>\n",
       "    </tr>\n",
       "    <tr>\n",
       "      <th>2014-12-11</th>\n",
       "      <td>1.247396</td>\n",
       "    </tr>\n",
       "    <tr>\n",
       "      <th>2014-12-12</th>\n",
       "      <td>1.239495</td>\n",
       "    </tr>\n",
       "    <tr>\n",
       "      <th>2014-12-15</th>\n",
       "      <td>1.246354</td>\n",
       "    </tr>\n",
       "  </tbody>\n",
       "</table>\n",
       "</div>"
      ],
      "text/plain": [
       "            close_eur\n",
       "time                 \n",
       "2014-12-09   1.231512\n",
       "2014-12-10   1.239495\n",
       "2014-12-11   1.247396\n",
       "2014-12-12   1.239495\n",
       "2014-12-15   1.246354"
      ]
     },
     "execution_count": 4,
     "metadata": {},
     "output_type": "execute_result"
    }
   ],
   "source": [
    "df_eur = pd.read_csv('contents/EURUSD=X.csv')\n",
    "df_eur = df_eur.rename(columns={\"Date\":\"time\", \"Close\":\"close_eur\"})\n",
    "df_eur = df_eur.set_index('time')\n",
    "df3 = df_eur[['close_eur']]\n",
    "df3.head()"
   ]
  },
  {
   "cell_type": "code",
   "execution_count": 5,
   "metadata": {},
   "outputs": [
    {
     "data": {
      "text/html": [
       "<div>\n",
       "<style scoped>\n",
       "    .dataframe tbody tr th:only-of-type {\n",
       "        vertical-align: middle;\n",
       "    }\n",
       "\n",
       "    .dataframe tbody tr th {\n",
       "        vertical-align: top;\n",
       "    }\n",
       "\n",
       "    .dataframe thead th {\n",
       "        text-align: right;\n",
       "    }\n",
       "</style>\n",
       "<table border=\"1\" class=\"dataframe\">\n",
       "  <thead>\n",
       "    <tr style=\"text-align: right;\">\n",
       "      <th></th>\n",
       "      <th>close_cny</th>\n",
       "    </tr>\n",
       "    <tr>\n",
       "      <th>time</th>\n",
       "      <th></th>\n",
       "    </tr>\n",
       "  </thead>\n",
       "  <tbody>\n",
       "    <tr>\n",
       "      <th>2014-12-09</th>\n",
       "      <td>6.1630</td>\n",
       "    </tr>\n",
       "    <tr>\n",
       "      <th>2014-12-10</th>\n",
       "      <td>6.1778</td>\n",
       "    </tr>\n",
       "    <tr>\n",
       "      <th>2014-12-11</th>\n",
       "      <td>6.1666</td>\n",
       "    </tr>\n",
       "    <tr>\n",
       "      <th>2014-12-12</th>\n",
       "      <td>6.1786</td>\n",
       "    </tr>\n",
       "    <tr>\n",
       "      <th>2014-12-15</th>\n",
       "      <td>6.1769</td>\n",
       "    </tr>\n",
       "  </tbody>\n",
       "</table>\n",
       "</div>"
      ],
      "text/plain": [
       "            close_cny\n",
       "time                 \n",
       "2014-12-09     6.1630\n",
       "2014-12-10     6.1778\n",
       "2014-12-11     6.1666\n",
       "2014-12-12     6.1786\n",
       "2014-12-15     6.1769"
      ]
     },
     "execution_count": 5,
     "metadata": {},
     "output_type": "execute_result"
    }
   ],
   "source": [
    "df_cny = pd.read_csv('contents/CNY=X.csv')\n",
    "df_cny = df_cny.rename(columns={\"Date\":\"time\", \"Close\":\"close_cny\"})\n",
    "df_cny = df_cny.set_index('time')\n",
    "df4 = df_cny[['close_cny']]\n",
    "df4.head()"
   ]
  },
  {
   "cell_type": "code",
   "execution_count": 6,
   "metadata": {},
   "outputs": [
    {
     "data": {
      "text/html": [
       "<div>\n",
       "<style scoped>\n",
       "    .dataframe tbody tr th:only-of-type {\n",
       "        vertical-align: middle;\n",
       "    }\n",
       "\n",
       "    .dataframe tbody tr th {\n",
       "        vertical-align: top;\n",
       "    }\n",
       "\n",
       "    .dataframe thead th {\n",
       "        text-align: right;\n",
       "    }\n",
       "</style>\n",
       "<table border=\"1\" class=\"dataframe\">\n",
       "  <thead>\n",
       "    <tr style=\"text-align: right;\">\n",
       "      <th></th>\n",
       "      <th>open_btc</th>\n",
       "      <th>high_btc</th>\n",
       "      <th>low_btc</th>\n",
       "      <th>close_btc</th>\n",
       "      <th>volume_btc</th>\n",
       "      <th>close_eur</th>\n",
       "      <th>close_cny</th>\n",
       "    </tr>\n",
       "    <tr>\n",
       "      <th>time</th>\n",
       "      <th></th>\n",
       "      <th></th>\n",
       "      <th></th>\n",
       "      <th></th>\n",
       "      <th></th>\n",
       "      <th></th>\n",
       "      <th></th>\n",
       "    </tr>\n",
       "  </thead>\n",
       "  <tbody>\n",
       "    <tr>\n",
       "      <th>2014-12-09</th>\n",
       "      <td>361.894989</td>\n",
       "      <td>363.066986</td>\n",
       "      <td>344.950989</td>\n",
       "      <td>352.218994</td>\n",
       "      <td>32915500.0</td>\n",
       "      <td>1.231512</td>\n",
       "      <td>6.1630</td>\n",
       "    </tr>\n",
       "    <tr>\n",
       "      <th>2014-12-10</th>\n",
       "      <td>352.204987</td>\n",
       "      <td>352.384003</td>\n",
       "      <td>346.364990</td>\n",
       "      <td>346.364990</td>\n",
       "      <td>16427700.0</td>\n",
       "      <td>1.239495</td>\n",
       "      <td>6.1778</td>\n",
       "    </tr>\n",
       "    <tr>\n",
       "      <th>2014-12-11</th>\n",
       "      <td>344.339996</td>\n",
       "      <td>361.356995</td>\n",
       "      <td>338.763000</td>\n",
       "      <td>350.506012</td>\n",
       "      <td>32431300.0</td>\n",
       "      <td>1.247396</td>\n",
       "      <td>6.1666</td>\n",
       "    </tr>\n",
       "    <tr>\n",
       "      <th>2014-12-12</th>\n",
       "      <td>350.833008</td>\n",
       "      <td>352.983002</td>\n",
       "      <td>349.290985</td>\n",
       "      <td>352.541992</td>\n",
       "      <td>16989800.0</td>\n",
       "      <td>1.239495</td>\n",
       "      <td>6.1786</td>\n",
       "    </tr>\n",
       "    <tr>\n",
       "      <th>2014-12-15</th>\n",
       "      <td>351.360992</td>\n",
       "      <td>351.815002</td>\n",
       "      <td>344.933990</td>\n",
       "      <td>345.345001</td>\n",
       "      <td>17264200.0</td>\n",
       "      <td>1.246354</td>\n",
       "      <td>6.1769</td>\n",
       "    </tr>\n",
       "  </tbody>\n",
       "</table>\n",
       "</div>"
      ],
      "text/plain": [
       "              open_btc    high_btc     low_btc   close_btc  volume_btc  \\\n",
       "time                                                                     \n",
       "2014-12-09  361.894989  363.066986  344.950989  352.218994  32915500.0   \n",
       "2014-12-10  352.204987  352.384003  346.364990  346.364990  16427700.0   \n",
       "2014-12-11  344.339996  361.356995  338.763000  350.506012  32431300.0   \n",
       "2014-12-12  350.833008  352.983002  349.290985  352.541992  16989800.0   \n",
       "2014-12-15  351.360992  351.815002  344.933990  345.345001  17264200.0   \n",
       "\n",
       "            close_eur  close_cny  \n",
       "time                              \n",
       "2014-12-09   1.231512     6.1630  \n",
       "2014-12-10   1.239495     6.1778  \n",
       "2014-12-11   1.247396     6.1666  \n",
       "2014-12-12   1.239495     6.1786  \n",
       "2014-12-15   1.246354     6.1769  "
      ]
     },
     "execution_count": 6,
     "metadata": {},
     "output_type": "execute_result"
    }
   ],
   "source": [
    "df = pd.concat([df2, df3, df4], axis=1)\n",
    "df = df.dropna()\n",
    "df.head()"
   ]
  },
  {
   "cell_type": "code",
   "execution_count": 7,
   "metadata": {},
   "outputs": [],
   "source": [
    "# Splits and shuffles the dataset into train, validation and test sets.\n",
    "\n",
    "def train_val_test_split(df, validation_size=0.2, test_size=0.2):\n",
    "    return np.split(df, [int(.8*len(df)), int(.9*len(df))]) \n",
    "\n",
    "train_df, validation_df, test_df = train_val_test_split(df)"
   ]
  },
  {
   "cell_type": "code",
   "execution_count": 8,
   "metadata": {},
   "outputs": [
    {
     "data": {
      "text/html": [
       "<div>\n",
       "<style scoped>\n",
       "    .dataframe tbody tr th:only-of-type {\n",
       "        vertical-align: middle;\n",
       "    }\n",
       "\n",
       "    .dataframe tbody tr th {\n",
       "        vertical-align: top;\n",
       "    }\n",
       "\n",
       "    .dataframe thead th {\n",
       "        text-align: right;\n",
       "    }\n",
       "</style>\n",
       "<table border=\"1\" class=\"dataframe\">\n",
       "  <thead>\n",
       "    <tr style=\"text-align: right;\">\n",
       "      <th></th>\n",
       "      <th>open_btc</th>\n",
       "      <th>high_btc</th>\n",
       "      <th>low_btc</th>\n",
       "      <th>close_btc</th>\n",
       "      <th>volume_btc</th>\n",
       "      <th>close_eur</th>\n",
       "      <th>close_cny</th>\n",
       "    </tr>\n",
       "    <tr>\n",
       "      <th>time</th>\n",
       "      <th></th>\n",
       "      <th></th>\n",
       "      <th></th>\n",
       "      <th></th>\n",
       "      <th></th>\n",
       "      <th></th>\n",
       "      <th></th>\n",
       "    </tr>\n",
       "  </thead>\n",
       "  <tbody>\n",
       "    <tr>\n",
       "      <th>2014-12-09</th>\n",
       "      <td>361.894989</td>\n",
       "      <td>363.066986</td>\n",
       "      <td>344.950989</td>\n",
       "      <td>352.218994</td>\n",
       "      <td>3.291550e+07</td>\n",
       "      <td>1.231512</td>\n",
       "      <td>6.1630</td>\n",
       "    </tr>\n",
       "    <tr>\n",
       "      <th>2014-12-10</th>\n",
       "      <td>352.204987</td>\n",
       "      <td>352.384003</td>\n",
       "      <td>346.364990</td>\n",
       "      <td>346.364990</td>\n",
       "      <td>1.642770e+07</td>\n",
       "      <td>1.239495</td>\n",
       "      <td>6.1778</td>\n",
       "    </tr>\n",
       "    <tr>\n",
       "      <th>2014-12-11</th>\n",
       "      <td>344.339996</td>\n",
       "      <td>361.356995</td>\n",
       "      <td>338.763000</td>\n",
       "      <td>350.506012</td>\n",
       "      <td>3.243130e+07</td>\n",
       "      <td>1.247396</td>\n",
       "      <td>6.1666</td>\n",
       "    </tr>\n",
       "    <tr>\n",
       "      <th>2014-12-12</th>\n",
       "      <td>350.833008</td>\n",
       "      <td>352.983002</td>\n",
       "      <td>349.290985</td>\n",
       "      <td>352.541992</td>\n",
       "      <td>1.698980e+07</td>\n",
       "      <td>1.239495</td>\n",
       "      <td>6.1786</td>\n",
       "    </tr>\n",
       "    <tr>\n",
       "      <th>2014-12-15</th>\n",
       "      <td>351.360992</td>\n",
       "      <td>351.815002</td>\n",
       "      <td>344.933990</td>\n",
       "      <td>345.345001</td>\n",
       "      <td>1.726420e+07</td>\n",
       "      <td>1.246354</td>\n",
       "      <td>6.1769</td>\n",
       "    </tr>\n",
       "    <tr>\n",
       "      <th>...</th>\n",
       "      <td>...</td>\n",
       "      <td>...</td>\n",
       "      <td>...</td>\n",
       "      <td>...</td>\n",
       "      <td>...</td>\n",
       "      <td>...</td>\n",
       "      <td>...</td>\n",
       "    </tr>\n",
       "    <tr>\n",
       "      <th>2019-10-23</th>\n",
       "      <td>8076.228516</td>\n",
       "      <td>8092.999512</td>\n",
       "      <td>7469.322754</td>\n",
       "      <td>7514.671875</td>\n",
       "      <td>2.194288e+10</td>\n",
       "      <td>1.112929</td>\n",
       "      <td>7.0762</td>\n",
       "    </tr>\n",
       "    <tr>\n",
       "      <th>2019-10-24</th>\n",
       "      <td>7509.728027</td>\n",
       "      <td>7532.867676</td>\n",
       "      <td>7446.988770</td>\n",
       "      <td>7493.488770</td>\n",
       "      <td>1.626871e+10</td>\n",
       "      <td>1.113239</td>\n",
       "      <td>7.0646</td>\n",
       "    </tr>\n",
       "    <tr>\n",
       "      <th>2019-10-25</th>\n",
       "      <td>7490.703125</td>\n",
       "      <td>8691.540039</td>\n",
       "      <td>7479.984375</td>\n",
       "      <td>8660.700195</td>\n",
       "      <td>2.870507e+10</td>\n",
       "      <td>1.110396</td>\n",
       "      <td>7.0681</td>\n",
       "    </tr>\n",
       "    <tr>\n",
       "      <th>2019-10-28</th>\n",
       "      <td>9565.101563</td>\n",
       "      <td>9805.118164</td>\n",
       "      <td>9256.148438</td>\n",
       "      <td>9256.148438</td>\n",
       "      <td>3.094826e+10</td>\n",
       "      <td>1.108426</td>\n",
       "      <td>7.0647</td>\n",
       "    </tr>\n",
       "    <tr>\n",
       "      <th>2019-10-29</th>\n",
       "      <td>9248.440430</td>\n",
       "      <td>9516.180664</td>\n",
       "      <td>9232.648438</td>\n",
       "      <td>9427.687500</td>\n",
       "      <td>2.842678e+10</td>\n",
       "      <td>1.109915</td>\n",
       "      <td>7.0669</td>\n",
       "    </tr>\n",
       "  </tbody>\n",
       "</table>\n",
       "<p>1273 rows × 7 columns</p>\n",
       "</div>"
      ],
      "text/plain": [
       "               open_btc     high_btc      low_btc    close_btc    volume_btc  \\\n",
       "time                                                                           \n",
       "2014-12-09   361.894989   363.066986   344.950989   352.218994  3.291550e+07   \n",
       "2014-12-10   352.204987   352.384003   346.364990   346.364990  1.642770e+07   \n",
       "2014-12-11   344.339996   361.356995   338.763000   350.506012  3.243130e+07   \n",
       "2014-12-12   350.833008   352.983002   349.290985   352.541992  1.698980e+07   \n",
       "2014-12-15   351.360992   351.815002   344.933990   345.345001  1.726420e+07   \n",
       "...                 ...          ...          ...          ...           ...   \n",
       "2019-10-23  8076.228516  8092.999512  7469.322754  7514.671875  2.194288e+10   \n",
       "2019-10-24  7509.728027  7532.867676  7446.988770  7493.488770  1.626871e+10   \n",
       "2019-10-25  7490.703125  8691.540039  7479.984375  8660.700195  2.870507e+10   \n",
       "2019-10-28  9565.101563  9805.118164  9256.148438  9256.148438  3.094826e+10   \n",
       "2019-10-29  9248.440430  9516.180664  9232.648438  9427.687500  2.842678e+10   \n",
       "\n",
       "            close_eur  close_cny  \n",
       "time                              \n",
       "2014-12-09   1.231512     6.1630  \n",
       "2014-12-10   1.239495     6.1778  \n",
       "2014-12-11   1.247396     6.1666  \n",
       "2014-12-12   1.239495     6.1786  \n",
       "2014-12-15   1.246354     6.1769  \n",
       "...               ...        ...  \n",
       "2019-10-23   1.112929     7.0762  \n",
       "2019-10-24   1.113239     7.0646  \n",
       "2019-10-25   1.110396     7.0681  \n",
       "2019-10-28   1.108426     7.0647  \n",
       "2019-10-29   1.109915     7.0669  \n",
       "\n",
       "[1273 rows x 7 columns]"
      ]
     },
     "execution_count": 8,
     "metadata": {},
     "output_type": "execute_result"
    }
   ],
   "source": [
    "train_df"
   ]
  },
  {
   "cell_type": "code",
   "execution_count": 9,
   "metadata": {},
   "outputs": [
    {
     "data": {
      "text/plain": [
       "(1273, 7)"
      ]
     },
     "execution_count": 9,
     "metadata": {},
     "output_type": "execute_result"
    }
   ],
   "source": [
    "train_df.shape"
   ]
  },
  {
   "cell_type": "code",
   "execution_count": 10,
   "metadata": {},
   "outputs": [
    {
     "data": {
      "text/plain": [
       "(159, 7)"
      ]
     },
     "execution_count": 10,
     "metadata": {},
     "output_type": "execute_result"
    }
   ],
   "source": [
    "validation_df.shape"
   ]
  },
  {
   "cell_type": "code",
   "execution_count": 11,
   "metadata": {},
   "outputs": [
    {
     "data": {
      "text/plain": [
       "(160, 7)"
      ]
     },
     "execution_count": 11,
     "metadata": {},
     "output_type": "execute_result"
    }
   ],
   "source": [
    "test_df.shape"
   ]
  },
  {
   "cell_type": "code",
   "execution_count": 12,
   "metadata": {
    "colab": {
     "base_uri": "https://localhost:8080/",
     "height": 235
    },
    "id": "_RVTUoyLc5tu",
    "outputId": "49a1f3fd-88c0-424f-aec0-3dd44e7df507"
   },
   "outputs": [
    {
     "data": {
      "text/html": [
       "<div>\n",
       "<style scoped>\n",
       "    .dataframe tbody tr th:only-of-type {\n",
       "        vertical-align: middle;\n",
       "    }\n",
       "\n",
       "    .dataframe tbody tr th {\n",
       "        vertical-align: top;\n",
       "    }\n",
       "\n",
       "    .dataframe thead th {\n",
       "        text-align: right;\n",
       "    }\n",
       "</style>\n",
       "<table border=\"1\" class=\"dataframe\">\n",
       "  <thead>\n",
       "    <tr style=\"text-align: right;\">\n",
       "      <th></th>\n",
       "      <th>open_btc</th>\n",
       "      <th>high_btc</th>\n",
       "      <th>low_btc</th>\n",
       "      <th>close_btc</th>\n",
       "      <th>volume_btc</th>\n",
       "      <th>close_eur</th>\n",
       "      <th>close_cny</th>\n",
       "    </tr>\n",
       "    <tr>\n",
       "      <th>time</th>\n",
       "      <th></th>\n",
       "      <th></th>\n",
       "      <th></th>\n",
       "      <th></th>\n",
       "      <th></th>\n",
       "      <th></th>\n",
       "      <th></th>\n",
       "    </tr>\n",
       "  </thead>\n",
       "  <tbody>\n",
       "    <tr>\n",
       "      <th>2014-12-09</th>\n",
       "      <td>0.009767</td>\n",
       "      <td>0.007717</td>\n",
       "      <td>0.009538</td>\n",
       "      <td>0.009195</td>\n",
       "      <td>0.000556</td>\n",
       "      <td>0.907182</td>\n",
       "      <td>0.000000</td>\n",
       "    </tr>\n",
       "    <tr>\n",
       "      <th>2014-12-10</th>\n",
       "      <td>0.009255</td>\n",
       "      <td>0.007159</td>\n",
       "      <td>0.009616</td>\n",
       "      <td>0.008886</td>\n",
       "      <td>0.000190</td>\n",
       "      <td>0.944810</td>\n",
       "      <td>0.014581</td>\n",
       "    </tr>\n",
       "    <tr>\n",
       "      <th>2014-12-11</th>\n",
       "      <td>0.008840</td>\n",
       "      <td>0.007628</td>\n",
       "      <td>0.009198</td>\n",
       "      <td>0.009104</td>\n",
       "      <td>0.000545</td>\n",
       "      <td>0.982051</td>\n",
       "      <td>0.003547</td>\n",
       "    </tr>\n",
       "    <tr>\n",
       "      <th>2014-12-12</th>\n",
       "      <td>0.009183</td>\n",
       "      <td>0.007191</td>\n",
       "      <td>0.009777</td>\n",
       "      <td>0.009212</td>\n",
       "      <td>0.000202</td>\n",
       "      <td>0.944810</td>\n",
       "      <td>0.015369</td>\n",
       "    </tr>\n",
       "    <tr>\n",
       "      <th>2014-12-15</th>\n",
       "      <td>0.009211</td>\n",
       "      <td>0.007130</td>\n",
       "      <td>0.009537</td>\n",
       "      <td>0.008832</td>\n",
       "      <td>0.000209</td>\n",
       "      <td>0.977140</td>\n",
       "      <td>0.013695</td>\n",
       "    </tr>\n",
       "  </tbody>\n",
       "</table>\n",
       "</div>"
      ],
      "text/plain": [
       "            open_btc  high_btc   low_btc  close_btc  volume_btc  close_eur  \\\n",
       "time                                                                         \n",
       "2014-12-09  0.009767  0.007717  0.009538   0.009195    0.000556   0.907182   \n",
       "2014-12-10  0.009255  0.007159  0.009616   0.008886    0.000190   0.944810   \n",
       "2014-12-11  0.008840  0.007628  0.009198   0.009104    0.000545   0.982051   \n",
       "2014-12-12  0.009183  0.007191  0.009777   0.009212    0.000202   0.944810   \n",
       "2014-12-15  0.009211  0.007130  0.009537   0.008832    0.000209   0.977140   \n",
       "\n",
       "            close_cny  \n",
       "time                   \n",
       "2014-12-09   0.000000  \n",
       "2014-12-10   0.014581  \n",
       "2014-12-11   0.003547  \n",
       "2014-12-12   0.015369  \n",
       "2014-12-15   0.013695  "
      ]
     },
     "execution_count": 12,
     "metadata": {},
     "output_type": "execute_result"
    }
   ],
   "source": [
    "# Normalize values between 0-1 for every feature (each column is divided by column max value).\n",
    "\n",
    "scaler = MinMaxScaler()\n",
    "scaler.fit(train_df)\n",
    "\n",
    "train_scaled = scaler.transform(train_df)\n",
    "validation_scaled = scaler.transform(validation_df)\n",
    "test_scaled = scaler.transform(test_df)\n",
    "\n",
    "train_scaled_df = pd.DataFrame(train_scaled, columns=train_df.columns,index=train_df.index)\n",
    "validation_scaled_df = pd.DataFrame(validation_scaled, columns=validation_df.columns,index=validation_df.index)\n",
    "test_scaled_df = pd.DataFrame(test_scaled, columns=test_df.columns,index=test_df.index)\n",
    "\n",
    "train_scaled_df.head()"
   ]
  },
  {
   "cell_type": "code",
   "execution_count": 13,
   "metadata": {
    "colab": {
     "base_uri": "https://localhost:8080/",
     "height": 428
    },
    "id": "mqgciSpHfoy8",
    "outputId": "e6a9add6-ea9b-4834-f50b-e7d8a916b865",
    "scrolled": true
   },
   "outputs": [
    {
     "data": {
      "image/png": "[encoded data removed]",
      "text/plain": [
       "<Figure size 936x504 with 1 Axes>"
      ]
     },
     "metadata": {
      "needs_background": "light"
     },
     "output_type": "display_data"
    }
   ],
   "source": [
    "def line_plot(line1, line2, line3, label1=None, label2=None, label3=None, title='', lw=2):\n",
    "    fig, ax = plt.subplots(1, figsize=(13, 7))\n",
    "    ax.plot(line1, label=label1, linewidth=lw)\n",
    "    ax.plot(line2, label=label2, linewidth=lw)\n",
    "    ax.plot(line3, label=label3, linewidth=lw)\n",
    "    ax.set_ylabel('price [USD]', fontsize=14)\n",
    "    ax.set_title(title, fontsize=16)\n",
    "    ax.legend(loc='best', fontsize=16)\n",
    "    \n",
    "line_plot(train_df[target_col], validation_df[target_col], test_df[target_col], 'training', 'validation', 'test', title='')"
   ]
  },
  {
   "cell_type": "code",
   "execution_count": 14,
   "metadata": {
    "id": "u3EtleUrgD3l"
   },
   "outputs": [],
   "source": [
    "def extract_window_data(df, window_len=5):\n",
    "    window_data = []\n",
    "    for idx in range(len(df) - window_len):\n",
    "        tmp = df[idx: (idx + window_len)].copy()\n",
    "        window_data.append(tmp.values)\n",
    "    \n",
    "    return np.array(window_data)\n",
    "\n",
    "def prepare_data(df, target_col, window_len=10):\n",
    "#    train_data, validation_data, test_data = train_val_test_split(df)\n",
    "#    X_train = extract_window_data(train_data, window_len)\n",
    "#    X_val = extract_window_data(validation_data, window_len)\n",
    "#    X_test = extract_window_data(test_data, window_len)\n",
    "#    y_train = train_data[target_col][window_len:].values\n",
    "#    y_val = validation_data[target_col][window_len:].values\n",
    "#    y_test = test_data[target_col][window_len:].values\n",
    "\n",
    "#    return X_train, X_val, X_test, y_train, y_val, y_test\n",
    "\n",
    "    x = extract_window_data(df, window_len)\n",
    "    y = df[target_col][window_len:].values\n",
    "    \n",
    "    return x, y\n",
    "\n",
    "def build_lstm_model(input_data, output_size, neurons=100, activ_func='linear', dropout=0.2, loss='mse', optimizer='adam'):\n",
    "    model = Sequential()\n",
    "    model.add(LSTM(neurons, input_shape =(input_data.shape[1],input_data.shape[2])))\n",
    "    model.add(Dropout(dropout))\n",
    "    model.add(Dense(units=output_size))\n",
    "    model.add(Activation(activ_func))\n",
    "    model.compile(loss=loss, optimizer=optimizer)\n",
    "    \n",
    "    return model"
   ]
  },
  {
   "cell_type": "code",
   "execution_count": 15,
   "metadata": {
    "id": "VWxIw0FCgUUa"
   },
   "outputs": [],
   "source": [
    "np.random.seed(42)\n",
    "window_len = 5\n",
    "lstm_neurons = 200\n",
    "epochs = 200\n",
    "batch_size = 32\n",
    "loss = 'mse'\n",
    "dropout = 0.2\n",
    "optimizer = 'adam'"
   ]
  },
  {
   "cell_type": "code",
   "execution_count": 16,
   "metadata": {
    "id": "xfREDGbRV0Yv"
   },
   "outputs": [],
   "source": [
    "es = EarlyStopping(monitor='val_loss', mode='min', verbose=1, patience=10)\n",
    "#mc = ModelCheckpoint('best_model.h5', monitor='val_loss', mode='min', verbose=1, save_best_only=True)\n",
    "mc = tf.keras.callbacks.ModelCheckpoint('best_model.h5', monitor='val_loss', mode='min', verbose=1, save_best_only=True)"
   ]
  },
  {
   "cell_type": "code",
   "execution_count": 17,
   "metadata": {
    "id": "aI9RtVclghX0"
   },
   "outputs": [],
   "source": [
    "#X_train, X_val, X_test, y_train, y_val, y_test = prepare_data(df_scaled, target_col, window_len=window_len)\n",
    "\n",
    "X_train, y_train = prepare_data(train_scaled_df, target_col, window_len=window_len)\n",
    "X_val, y_val = prepare_data(validation_scaled_df, target_col, window_len=window_len)\n",
    "X_test, y_test = prepare_data(test_scaled_df, target_col, window_len=window_len)"
   ]
  },
  {
   "cell_type": "code",
   "execution_count": 18,
   "metadata": {
    "colab": {
     "base_uri": "https://localhost:8080/"
    },
    "id": "t5ghdGoTDiFc",
    "outputId": "e48eaa2f-7443-4627-f878-481f085d4ff0"
   },
   "outputs": [
    {
     "name": "stdout",
     "output_type": "stream",
     "text": [
      "Epoch 1/200\n",
      "40/40 [==============================] - ETA: 0s - loss: 0.0090\n",
      "Epoch 00001: val_loss improved from inf to 0.00357, saving model to best_model.h5\n",
      "40/40 [==============================] - 1s 21ms/step - loss: 0.0090 - val_loss: 0.0036\n",
      "Epoch 2/200\n",
      "39/40 [============================>.] - ETA: 0s - loss: 0.0042\n",
      "Epoch 00002: val_loss did not improve from 0.00357\n",
      "40/40 [==============================] - 0s 11ms/step - loss: 0.0041 - val_loss: 0.0090\n",
      "Epoch 3/200\n",
      "40/40 [==============================] - ETA: 0s - loss: 0.0071   \n",
      "Epoch 00003: val_loss improved from 0.00357 to 0.00171, saving model to best_model.h5\n",
      "40/40 [==============================] - 0s 7ms/step - loss: 0.0071 - val_loss: 0.0017\n",
      "Epoch 4/200\n",
      "38/40 [===========================>..] - ETA: 0s - loss: 0.0035\n",
      "Epoch 00004: val_loss improved from 0.00171 to 0.00140, saving model to best_model.h5\n",
      "40/40 [==============================] - 0s 6ms/step - loss: 0.0035 - val_loss: 0.0014\n",
      "Epoch 5/200\n",
      "38/40 [===========================>..] - ETA: 0s - loss: 0.0030  \n",
      "Epoch 00005: val_loss improved from 0.00140 to 0.00139, saving model to best_model.h5\n",
      "40/40 [==============================] - 0s 10ms/step - loss: 0.0030 - val_loss: 0.0014\n",
      "Epoch 6/200\n",
      "36/40 [==========================>...] - ETA: 0s - loss: 0.0027   \n",
      "Epoch 00006: val_loss improved from 0.00139 to 0.00098, saving model to best_model.h5\n",
      "40/40 [==============================] - 0s 7ms/step - loss: 0.0027 - val_loss: 9.7670e-04\n",
      "Epoch 7/200\n",
      "36/40 [==========================>...] - ETA: 0s - loss: 0.0019   \n",
      "Epoch 00007: val_loss improved from 0.00098 to 0.00097, saving model to best_model.h5\n",
      "40/40 [==============================] - 0s 7ms/step - loss: 0.0020 - val_loss: 9.6511e-04\n",
      "Epoch 8/200\n",
      "33/40 [=======================>......] - ETA: 0s - loss: 0.0012   \n",
      "Epoch 00008: val_loss did not improve from 0.00097\n",
      "40/40 [==============================] - 0s 7ms/step - loss: 0.0012 - val_loss: 0.0010\n",
      "Epoch 9/200\n",
      "32/40 [=======================>......] - ETA: 0s - loss: 0.0011    \n",
      "Epoch 00009: val_loss improved from 0.00097 to 0.00087, saving model to best_model.h5\n",
      "40/40 [==============================] - 0s 9ms/step - loss: 0.0011 - val_loss: 8.6893e-04\n",
      "Epoch 10/200\n",
      "38/40 [===========================>..] - ETA: 0s - loss: 0.0011   \n",
      "Epoch 00010: val_loss did not improve from 0.00087\n",
      "40/40 [==============================] - 0s 7ms/step - loss: 0.0011 - val_loss: 0.0012\n",
      "Epoch 11/200\n",
      "37/40 [==========================>...] - ETA: 0s - loss: 0.0012   \n",
      "Epoch 00011: val_loss did not improve from 0.00087\n",
      "40/40 [==============================] - 0s 6ms/step - loss: 0.0012 - val_loss: 0.0018\n",
      "Epoch 12/200\n",
      "37/40 [==========================>...] - ETA: 0s - loss: 9.9026e-04\n",
      "Epoch 00012: val_loss did not improve from 0.00087\n",
      "40/40 [==============================] - 0s 7ms/step - loss: 0.0010 - val_loss: 0.0019\n",
      "Epoch 13/200\n",
      "36/40 [==========================>...] - ETA: 0s - loss: 7.7207e-04\n",
      "Epoch 00013: val_loss did not improve from 0.00087\n",
      "40/40 [==============================] - 0s 6ms/step - loss: 8.9870e-04 - val_loss: 0.0017\n",
      "Epoch 14/200\n",
      "38/40 [===========================>..] - ETA: 0s - loss: 9.3198e-04\n",
      "Epoch 00014: val_loss did not improve from 0.00087\n",
      "40/40 [==============================] - 0s 6ms/step - loss: 9.4175e-04 - val_loss: 0.0019\n",
      "Epoch 15/200\n",
      "38/40 [===========================>..] - ETA: 0s - loss: 8.2559e-04\n",
      "Epoch 00015: val_loss did not improve from 0.00087\n",
      "40/40 [==============================] - 0s 7ms/step - loss: 8.5733e-04 - val_loss: 0.0018\n",
      "Epoch 16/200\n",
      "35/40 [=========================>....] - ETA: 0s - loss: 6.4886e-04\n",
      "Epoch 00016: val_loss did not improve from 0.00087\n",
      "40/40 [==============================] - 0s 7ms/step - loss: 7.6405e-04 - val_loss: 0.0013\n",
      "Epoch 17/200\n",
      "37/40 [==========================>...] - ETA: 0s - loss: 9.2661e-04\n",
      "Epoch 00017: val_loss did not improve from 0.00087\n",
      "40/40 [==============================] - 0s 6ms/step - loss: 9.8684e-04 - val_loss: 0.0015\n",
      "Epoch 18/200\n",
      "36/40 [==========================>...] - ETA: 0s - loss: 7.4836e-04\n",
      "Epoch 00018: val_loss did not improve from 0.00087\n",
      "40/40 [==============================] - 0s 7ms/step - loss: 8.3995e-04 - val_loss: 0.0020\n",
      "Epoch 19/200\n",
      "32/40 [=======================>......] - ETA: 0s - loss: 0.0011    \n",
      "Epoch 00019: val_loss did not improve from 0.00087\n",
      "40/40 [==============================] - 0s 5ms/step - loss: 0.0011 - val_loss: 0.0012\n",
      "Epoch 00019: early stopping\n"
     ]
    }
   ],
   "source": [
    "model = build_lstm_model(X_train, output_size=1, neurons=lstm_neurons, dropout=dropout, loss=loss, optimizer=optimizer)\n",
    "history = model.fit(X_train, y_train, validation_data=(X_val, y_val), epochs=epochs, batch_size=batch_size, verbose=1, shuffle=False, callbacks=[es, mc])"
   ]
  },
  {
   "cell_type": "code",
   "execution_count": 19,
   "metadata": {},
   "outputs": [
    {
     "name": "stdout",
     "output_type": "stream",
     "text": [
      "Train: 0.001, Test: 0.003\n"
     ]
    }
   ],
   "source": [
    "# load the best modell\n",
    "model = load_model('best_model.h5')\n",
    "\n",
    "# evaluate the model\n",
    "train_acc = model.evaluate(X_train, y_train, verbose=0)\n",
    "test_acc = model.evaluate(X_test, y_test, verbose=0)\n",
    "print('Train: %.3f, Test: %.3f' % (train_acc, test_acc))"
   ]
  },
  {
   "cell_type": "code",
   "execution_count": 20,
   "metadata": {
    "colab": {
     "base_uri": "https://localhost:8080/",
     "height": 204
    },
    "id": "8yi9lvtOmRRM",
    "outputId": "0abee8bb-e7a8-4729-d35e-40d7bde97d40"
   },
   "outputs": [
    {
     "data": {
      "text/html": [
       "<div>\n",
       "<style scoped>\n",
       "    .dataframe tbody tr th:only-of-type {\n",
       "        vertical-align: middle;\n",
       "    }\n",
       "\n",
       "    .dataframe tbody tr th {\n",
       "        vertical-align: top;\n",
       "    }\n",
       "\n",
       "    .dataframe thead th {\n",
       "        text-align: right;\n",
       "    }\n",
       "</style>\n",
       "<table border=\"1\" class=\"dataframe\">\n",
       "  <thead>\n",
       "    <tr style=\"text-align: right;\">\n",
       "      <th></th>\n",
       "      <th>open_btc</th>\n",
       "      <th>high_btc</th>\n",
       "      <th>low_btc</th>\n",
       "      <th>close_btc</th>\n",
       "      <th>volume_btc</th>\n",
       "      <th>close_eur</th>\n",
       "      <th>close_cny</th>\n",
       "    </tr>\n",
       "  </thead>\n",
       "  <tbody>\n",
       "    <tr>\n",
       "      <th>0</th>\n",
       "      <td>176.897003</td>\n",
       "      <td>215.240997</td>\n",
       "      <td>171.509995</td>\n",
       "      <td>9506.221400</td>\n",
       "      <td>7860650.0</td>\n",
       "      <td>1.039047</td>\n",
       "      <td>6.163</td>\n",
       "    </tr>\n",
       "    <tr>\n",
       "      <th>1</th>\n",
       "      <td>176.897003</td>\n",
       "      <td>215.240997</td>\n",
       "      <td>171.509995</td>\n",
       "      <td>9455.153177</td>\n",
       "      <td>7860650.0</td>\n",
       "      <td>1.039047</td>\n",
       "      <td>6.163</td>\n",
       "    </tr>\n",
       "    <tr>\n",
       "      <th>2</th>\n",
       "      <td>176.897003</td>\n",
       "      <td>215.240997</td>\n",
       "      <td>171.509995</td>\n",
       "      <td>9450.980450</td>\n",
       "      <td>7860650.0</td>\n",
       "      <td>1.039047</td>\n",
       "      <td>6.163</td>\n",
       "    </tr>\n",
       "    <tr>\n",
       "      <th>3</th>\n",
       "      <td>176.897003</td>\n",
       "      <td>215.240997</td>\n",
       "      <td>171.509995</td>\n",
       "      <td>9475.172562</td>\n",
       "      <td>7860650.0</td>\n",
       "      <td>1.039047</td>\n",
       "      <td>6.163</td>\n",
       "    </tr>\n",
       "    <tr>\n",
       "      <th>4</th>\n",
       "      <td>176.897003</td>\n",
       "      <td>215.240997</td>\n",
       "      <td>171.509995</td>\n",
       "      <td>9611.354490</td>\n",
       "      <td>7860650.0</td>\n",
       "      <td>1.039047</td>\n",
       "      <td>6.163</td>\n",
       "    </tr>\n",
       "  </tbody>\n",
       "</table>\n",
       "</div>"
      ],
      "text/plain": [
       "     open_btc    high_btc     low_btc    close_btc  volume_btc  close_eur  \\\n",
       "0  176.897003  215.240997  171.509995  9506.221400   7860650.0   1.039047   \n",
       "1  176.897003  215.240997  171.509995  9455.153177   7860650.0   1.039047   \n",
       "2  176.897003  215.240997  171.509995  9450.980450   7860650.0   1.039047   \n",
       "3  176.897003  215.240997  171.509995  9475.172562   7860650.0   1.039047   \n",
       "4  176.897003  215.240997  171.509995  9611.354490   7860650.0   1.039047   \n",
       "\n",
       "   close_cny  \n",
       "0      6.163  \n",
       "1      6.163  \n",
       "2      6.163  \n",
       "3      6.163  \n",
       "4      6.163  "
      ]
     },
     "execution_count": 20,
     "metadata": {},
     "output_type": "execute_result"
    }
   ],
   "source": [
    "preds = model.predict(X_test).squeeze()\n",
    "\n",
    "arr = np.zeros([preds.shape[0], 7])\n",
    "arr[:, 3] = preds\n",
    "\n",
    "res = scaler.inverse_transform(arr)\n",
    "\n",
    "df_res = pd.DataFrame(res, columns=df.columns)\n",
    "\n",
    "df_res.head()"
   ]
  },
  {
   "cell_type": "code",
   "execution_count": 21,
   "metadata": {},
   "outputs": [
    {
     "data": {
      "text/plain": [
       "array([[1.76897003e+02, 2.15240997e+02, 1.71509995e+02, ...,\n",
       "        7.86065000e+06, 1.03904700e+00, 6.16300000e+00],\n",
       "       [1.76897003e+02, 2.15240997e+02, 1.71509995e+02, ...,\n",
       "        7.86065000e+06, 1.03904700e+00, 6.16300000e+00],\n",
       "       [1.76897003e+02, 2.15240997e+02, 1.71509995e+02, ...,\n",
       "        7.86065000e+06, 1.03904700e+00, 6.16300000e+00],\n",
       "       ...,\n",
       "       [1.76897003e+02, 2.15240997e+02, 1.71509995e+02, ...,\n",
       "        7.86065000e+06, 1.03904700e+00, 6.16300000e+00],\n",
       "       [1.76897003e+02, 2.15240997e+02, 1.71509995e+02, ...,\n",
       "        7.86065000e+06, 1.03904700e+00, 6.16300000e+00],\n",
       "       [1.76897003e+02, 2.15240997e+02, 1.71509995e+02, ...,\n",
       "        7.86065000e+06, 1.03904700e+00, 6.16300000e+00]])"
      ]
     },
     "execution_count": 21,
     "metadata": {},
     "output_type": "execute_result"
    }
   ],
   "source": [
    "res"
   ]
  },
  {
   "cell_type": "code",
   "execution_count": 22,
   "metadata": {
    "colab": {
     "base_uri": "https://localhost:8080/",
     "height": 446
    },
    "id": "vMMtJeVAhDRT",
    "outputId": "a435c2bc-52d7-4547-a60b-315357c7cd9f",
    "scrolled": true
   },
   "outputs": [
    {
     "data": {
      "image/png": "[encoded data removed]",
      "text/plain": [
       "<Figure size 936x504 with 1 Axes>"
      ]
     },
     "metadata": {
      "needs_background": "light"
     },
     "output_type": "display_data"
    }
   ],
   "source": [
    "predicted_closing_prices = df_res[target_col].values\n",
    "actual_closing_prices = test_df[target_col][window_len:]\n",
    "predicted_closing_prices = pd.Series(index=actual_closing_prices.index, data=predicted_closing_prices)\n",
    "\n",
    "fig, ax = plt.subplots(1, figsize=(13, 7))\n",
    "ax.plot(actual_closing_prices, label='actual')\n",
    "ax.plot(predicted_closing_prices, label='predicted')\n",
    "ax.set_ylabel('price [USD]', fontsize=14)\n",
    "ax.set_title('Evaluation', fontsize=16)\n",
    "ax.legend(loc='best', fontsize=16)\n",
    "plt.show()"
   ]
  },
  {
   "cell_type": "code",
   "execution_count": 23,
   "metadata": {
    "scrolled": true
   },
   "outputs": [],
   "source": [
    "res_data = {'time': test_df.index[window_len:], 'actual': test_df[target_col][window_len:], 'preds' :predicted_closing_prices}\n",
    "res_df = pd.DataFrame(data=res_data)\n",
    "res_df = res_df.set_index('time')"
   ]
  },
  {
   "cell_type": "code",
   "execution_count": 24,
   "metadata": {
    "scrolled": true
   },
   "outputs": [
    {
     "data": {
      "text/html": [
       "<div>\n",
       "<style scoped>\n",
       "    .dataframe tbody tr th:only-of-type {\n",
       "        vertical-align: middle;\n",
       "    }\n",
       "\n",
       "    .dataframe tbody tr th {\n",
       "        vertical-align: top;\n",
       "    }\n",
       "\n",
       "    .dataframe thead th {\n",
       "        text-align: right;\n",
       "    }\n",
       "</style>\n",
       "<table border=\"1\" class=\"dataframe\">\n",
       "  <thead>\n",
       "    <tr style=\"text-align: right;\">\n",
       "      <th></th>\n",
       "      <th>actual</th>\n",
       "      <th>preds</th>\n",
       "    </tr>\n",
       "    <tr>\n",
       "      <th>time</th>\n",
       "      <th></th>\n",
       "      <th></th>\n",
       "    </tr>\n",
       "  </thead>\n",
       "  <tbody>\n",
       "    <tr>\n",
       "      <th>2020-06-17</th>\n",
       "      <td>9480.254883</td>\n",
       "      <td>9506.221400</td>\n",
       "    </tr>\n",
       "    <tr>\n",
       "      <th>2020-06-18</th>\n",
       "      <td>9411.840820</td>\n",
       "      <td>9455.153177</td>\n",
       "    </tr>\n",
       "    <tr>\n",
       "      <th>2020-06-19</th>\n",
       "      <td>9288.018555</td>\n",
       "      <td>9450.980450</td>\n",
       "    </tr>\n",
       "    <tr>\n",
       "      <th>2020-06-22</th>\n",
       "      <td>9648.717773</td>\n",
       "      <td>9475.172562</td>\n",
       "    </tr>\n",
       "    <tr>\n",
       "      <th>2020-06-23</th>\n",
       "      <td>9629.658203</td>\n",
       "      <td>9611.354490</td>\n",
       "    </tr>\n",
       "  </tbody>\n",
       "</table>\n",
       "</div>"
      ],
      "text/plain": [
       "                 actual        preds\n",
       "time                                \n",
       "2020-06-17  9480.254883  9506.221400\n",
       "2020-06-18  9411.840820  9455.153177\n",
       "2020-06-19  9288.018555  9450.980450\n",
       "2020-06-22  9648.717773  9475.172562\n",
       "2020-06-23  9629.658203  9611.354490"
      ]
     },
     "execution_count": 24,
     "metadata": {},
     "output_type": "execute_result"
    }
   ],
   "source": [
    "res_df.head()"
   ]
  },
  {
   "cell_type": "code",
   "execution_count": 25,
   "metadata": {},
   "outputs": [],
   "source": [
    "res_df.to_json(r'results.json')"
   ]
  },
  {
   "cell_type": "code",
   "execution_count": null,
   "metadata": {},
   "outputs": [],
   "source": []
  }
 ],
 "metadata": {
  "accelerator": "GPU",
  "colab": {
   "collapsed_sections": [],
   "name": "Predict BitCoin.ipynb",
   "provenance": [],
   "toc_visible": true
  },
  "kernelspec": {
   "display_name": "Python 3",
   "language": "python",
   "name": "python3"
  },
  "language_info": {
   "codemirror_mode": {
    "name": "ipython",
    "version": 3
   },
   "file_extension": ".py",
   "mimetype": "text/x-python",
   "name": "python",
   "nbconvert_exporter": "python",
   "pygments_lexer": "ipython3",
   "version": "3.8.5"
  }
 },
 "nbformat": 4,
 "nbformat_minor": 1
}
