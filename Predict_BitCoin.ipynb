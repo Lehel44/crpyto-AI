{
 "cells": [
  {
   "cell_type": "code",
   "execution_count": 1,
   "metadata": {
    "id": "AjnNx60adMo5"
   },
   "outputs": [],
   "source": [
    "import json\n",
    "import requests\n",
    "from keras.models import Sequential\n",
    "from keras.layers import Activation, Dense, Dropout, LSTM\n",
    "from keras.callbacks import EarlyStopping\n",
    "import matplotlib.pyplot as plt\n",
    "import numpy as np\n",
    "import pandas as pd\n",
    "import seaborn as sns\n",
    "from sklearn.metrics import mean_absolute_error\n",
    "from sklearn.preprocessing import MinMaxScaler\n",
    "from sklearn.preprocessing import StandardScaler\n",
    "from keras.models import load_model\n",
    "import tensorflow as tf\n",
    "from pickle import dump\n",
    "%matplotlib inline"
   ]
  },
  {
   "cell_type": "code",
   "execution_count": 2,
   "metadata": {
    "colab": {
     "base_uri": "https://localhost:8080/",
     "height": 204
    },
    "id": "SS6yHZW6dXAd",
    "outputId": "4c13872b-61fd-4783-c822-21b835f1c3f3",
    "scrolled": true
   },
   "outputs": [
    {
     "data": {
      "text/html": [
       "<div>\n",
       "<style scoped>\n",
       "    .dataframe tbody tr th:only-of-type {\n",
       "        vertical-align: middle;\n",
       "    }\n",
       "\n",
       "    .dataframe tbody tr th {\n",
       "        vertical-align: top;\n",
       "    }\n",
       "\n",
       "    .dataframe thead th {\n",
       "        text-align: right;\n",
       "    }\n",
       "</style>\n",
       "<table border=\"1\" class=\"dataframe\">\n",
       "  <thead>\n",
       "    <tr style=\"text-align: right;\">\n",
       "      <th></th>\n",
       "      <th>high</th>\n",
       "      <th>low</th>\n",
       "      <th>open</th>\n",
       "      <th>volumefrom</th>\n",
       "      <th>volumeto</th>\n",
       "      <th>close</th>\n",
       "    </tr>\n",
       "  </thead>\n",
       "  <tbody>\n",
       "    <tr>\n",
       "      <th>2010-07-17</th>\n",
       "      <td>0.04951</td>\n",
       "      <td>0.04951</td>\n",
       "      <td>0.04951</td>\n",
       "      <td>20.00</td>\n",
       "      <td>0.9902</td>\n",
       "      <td>0.04951</td>\n",
       "    </tr>\n",
       "    <tr>\n",
       "      <th>2010-07-18</th>\n",
       "      <td>0.08585</td>\n",
       "      <td>0.05941</td>\n",
       "      <td>0.04951</td>\n",
       "      <td>75.01</td>\n",
       "      <td>5.0920</td>\n",
       "      <td>0.08584</td>\n",
       "    </tr>\n",
       "    <tr>\n",
       "      <th>2010-07-19</th>\n",
       "      <td>0.09307</td>\n",
       "      <td>0.07723</td>\n",
       "      <td>0.08584</td>\n",
       "      <td>574.00</td>\n",
       "      <td>49.6600</td>\n",
       "      <td>0.08080</td>\n",
       "    </tr>\n",
       "    <tr>\n",
       "      <th>2010-07-20</th>\n",
       "      <td>0.08181</td>\n",
       "      <td>0.07426</td>\n",
       "      <td>0.08080</td>\n",
       "      <td>262.00</td>\n",
       "      <td>20.5900</td>\n",
       "      <td>0.07474</td>\n",
       "    </tr>\n",
       "    <tr>\n",
       "      <th>2010-07-21</th>\n",
       "      <td>0.07921</td>\n",
       "      <td>0.06634</td>\n",
       "      <td>0.07474</td>\n",
       "      <td>575.00</td>\n",
       "      <td>42.2600</td>\n",
       "      <td>0.07921</td>\n",
       "    </tr>\n",
       "  </tbody>\n",
       "</table>\n",
       "</div>"
      ],
      "text/plain": [
       "               high      low     open  volumefrom  volumeto    close\n",
       "2010-07-17  0.04951  0.04951  0.04951       20.00    0.9902  0.04951\n",
       "2010-07-18  0.08585  0.05941  0.04951       75.01    5.0920  0.08584\n",
       "2010-07-19  0.09307  0.07723  0.08584      574.00   49.6600  0.08080\n",
       "2010-07-20  0.08181  0.07426  0.08080      262.00   20.5900  0.07474\n",
       "2010-07-21  0.07921  0.06634  0.07474      575.00   42.2600  0.07921"
      ]
     },
     "execution_count": 2,
     "metadata": {},
     "output_type": "execute_result"
    }
   ],
   "source": [
    "df = pd.read_json('content/btc_ohlc_daily.json')\n",
    "df.rename_axis('time', axis=0)\n",
    "target_col = 'close'\n",
    "\n",
    "df.head()"
   ]
  },
  {
   "cell_type": "code",
   "execution_count": 3,
   "metadata": {
    "id": "aDyt_7pOM4jy"
   },
   "outputs": [],
   "source": [
    "# Splits and shuffles the dataset into train, validation and test sets.\n",
    "\n",
    "def train_val_test_split(df, valid_percent=0.1, test_percent=0.05):\n",
    "    split_idx_1 = int((1-valid_percent-test_percent)*len(df))\n",
    "    split_idx_2 = int(split_idx_1 + len(df)*valid_percent)\n",
    "    return np.split(df, [split_idx_1, split_idx_2]) \n",
    "\n",
    "train_df, validation_df, test_df = train_val_test_split(df)"
   ]
  },
  {
   "cell_type": "code",
   "execution_count": 4,
   "metadata": {
    "colab": {
     "base_uri": "https://localhost:8080/"
    },
    "id": "EKqEsiHOM4jz",
    "outputId": "7448fcf6-303c-47f7-b64b-e835bf4a11a5"
   },
   "outputs": [
    {
     "name": "stdout",
     "output_type": "stream",
     "text": [
      "train: (3327, 6)\n",
      "validation: (391, 6)\n",
      "test: (197, 6)\n"
     ]
    }
   ],
   "source": [
    "print('train:', train_df.shape)\n",
    "print('validation:', validation_df.shape)\n",
    "print('test:', test_df.shape)"
   ]
  },
  {
   "cell_type": "code",
   "execution_count": 5,
   "metadata": {
    "colab": {
     "base_uri": "https://localhost:8080/",
     "height": 204
    },
    "id": "_RVTUoyLc5tu",
    "outputId": "369f159d-6d09-4a93-9695-c2138e1da9da"
   },
   "outputs": [
    {
     "data": {
      "text/html": [
       "<div>\n",
       "<style scoped>\n",
       "    .dataframe tbody tr th:only-of-type {\n",
       "        vertical-align: middle;\n",
       "    }\n",
       "\n",
       "    .dataframe tbody tr th {\n",
       "        vertical-align: top;\n",
       "    }\n",
       "\n",
       "    .dataframe thead th {\n",
       "        text-align: right;\n",
       "    }\n",
       "</style>\n",
       "<table border=\"1\" class=\"dataframe\">\n",
       "  <thead>\n",
       "    <tr style=\"text-align: right;\">\n",
       "      <th></th>\n",
       "      <th>high</th>\n",
       "      <th>low</th>\n",
       "      <th>open</th>\n",
       "      <th>volumefrom</th>\n",
       "      <th>volumeto</th>\n",
       "      <th>close</th>\n",
       "    </tr>\n",
       "  </thead>\n",
       "  <tbody>\n",
       "    <tr>\n",
       "      <th>2010-07-17</th>\n",
       "      <td>0.000000e+00</td>\n",
       "      <td>6.698774e-07</td>\n",
       "      <td>0.000000e+00</td>\n",
       "      <td>0.000035</td>\n",
       "      <td>1.222345e-10</td>\n",
       "      <td>0.000000e+00</td>\n",
       "    </tr>\n",
       "    <tr>\n",
       "      <th>2010-07-18</th>\n",
       "      <td>5.885106e-07</td>\n",
       "      <td>8.377283e-07</td>\n",
       "      <td>0.000000e+00</td>\n",
       "      <td>0.000131</td>\n",
       "      <td>6.285784e-10</td>\n",
       "      <td>5.938240e-07</td>\n",
       "    </tr>\n",
       "    <tr>\n",
       "      <th>2010-07-19</th>\n",
       "      <td>7.054354e-07</td>\n",
       "      <td>1.139860e-06</td>\n",
       "      <td>5.938240e-07</td>\n",
       "      <td>0.001003</td>\n",
       "      <td>6.130244e-09</td>\n",
       "      <td>5.114438e-07</td>\n",
       "    </tr>\n",
       "    <tr>\n",
       "      <th>2010-07-20</th>\n",
       "      <td>5.230845e-07</td>\n",
       "      <td>1.089505e-06</td>\n",
       "      <td>5.114438e-07</td>\n",
       "      <td>0.000458</td>\n",
       "      <td>2.541718e-09</td>\n",
       "      <td>4.123914e-07</td>\n",
       "    </tr>\n",
       "    <tr>\n",
       "      <th>2010-07-21</th>\n",
       "      <td>4.809787e-07</td>\n",
       "      <td>9.552238e-07</td>\n",
       "      <td>4.123914e-07</td>\n",
       "      <td>0.001005</td>\n",
       "      <td>5.216756e-09</td>\n",
       "      <td>4.854548e-07</td>\n",
       "    </tr>\n",
       "  </tbody>\n",
       "</table>\n",
       "</div>"
      ],
      "text/plain": [
       "                    high           low          open  volumefrom  \\\n",
       "2010-07-17  0.000000e+00  6.698774e-07  0.000000e+00    0.000035   \n",
       "2010-07-18  5.885106e-07  8.377283e-07  0.000000e+00    0.000131   \n",
       "2010-07-19  7.054354e-07  1.139860e-06  5.938240e-07    0.001003   \n",
       "2010-07-20  5.230845e-07  1.089505e-06  5.114438e-07    0.000458   \n",
       "2010-07-21  4.809787e-07  9.552238e-07  4.123914e-07    0.001005   \n",
       "\n",
       "                volumeto         close  \n",
       "2010-07-17  1.222345e-10  0.000000e+00  \n",
       "2010-07-18  6.285784e-10  5.938240e-07  \n",
       "2010-07-19  6.130244e-09  5.114438e-07  \n",
       "2010-07-20  2.541718e-09  4.123914e-07  \n",
       "2010-07-21  5.216756e-09  4.854548e-07  "
      ]
     },
     "execution_count": 5,
     "metadata": {},
     "output_type": "execute_result"
    }
   ],
   "source": [
    "# Normalize values between 0-1 for every feature (each column is divided by column max value).\n",
    "\n",
    "scaler = MinMaxScaler()\n",
    "#scaler = StandardScaler()\n",
    "#scaler.fit(train_df)\n",
    "scaler.fit(df)\n",
    "\n",
    "train_scaled = scaler.transform(train_df)\n",
    "validation_scaled = scaler.transform(validation_df)\n",
    "test_scaled = scaler.transform(test_df)\n",
    "\n",
    "train_scaled_df = pd.DataFrame(train_scaled, columns=train_df.columns,index=train_df.index)\n",
    "validation_scaled_df = pd.DataFrame(validation_scaled, columns=validation_df.columns,index=validation_df.index)\n",
    "test_scaled_df = pd.DataFrame(test_scaled, columns=test_df.columns,index=test_df.index)\n",
    "\n",
    "train_scaled_df.head()"
   ]
  },
  {
   "cell_type": "code",
   "execution_count": 6,
   "metadata": {
    "colab": {
     "base_uri": "https://localhost:8080/",
     "height": 428
    },
    "id": "mqgciSpHfoy8",
    "outputId": "50be6ac9-ffa2-4c90-840a-158816e35f6c",
    "scrolled": true
   },
   "outputs": [
    {
     "data": {
      "image/png": "[encoded data removed]",
      "text/plain": [
       "<Figure size 936x504 with 1 Axes>"
      ]
     },
     "metadata": {
      "needs_background": "light"
     },
     "output_type": "display_data"
    }
   ],
   "source": [
    "def line_plot(line1, line2, line3, label1=None, label2=None, label3=None, title='', lw=2):\n",
    "    fig, ax = plt.subplots(1, figsize=(13, 7))\n",
    "    ax.plot(line1, label=label1, linewidth=lw)\n",
    "    ax.plot(line2, label=label2, linewidth=lw)\n",
    "    ax.plot(line3, label=label3, linewidth=lw)\n",
    "    ax.set_ylabel('price [USD]', fontsize=14)\n",
    "    ax.set_title(title, fontsize=16)\n",
    "    ax.legend(loc='best', fontsize=16)\n",
    "    \n",
    "line_plot(train_df[target_col], validation_df[target_col], test_df[target_col], 'training', 'validation', 'test', title='')"
   ]
  },
  {
   "cell_type": "code",
   "execution_count": 7,
   "metadata": {
    "id": "u3EtleUrgD3l"
   },
   "outputs": [],
   "source": [
    "def extract_window_data(df, window_len=5):\n",
    "    window_data = []\n",
    "    for idx in range(len(df) - window_len):\n",
    "        tmp = df[idx: (idx + window_len)].copy()\n",
    "        window_data.append(tmp.values)\n",
    "    return np.array(window_data)\n",
    "\n",
    "def prepare_data(df, target_col, window_len=10):\n",
    "    x = extract_window_data(df, window_len)\n",
    "    y = df[target_col][window_len:].values\n",
    "    return x, y\n",
    "\n",
    "def build_lstm_model(input_data, output_size, neurons=100, activ_func='linear', dropout=0.2, loss='mse', optimizer='adam'):\n",
    "    model = Sequential()\n",
    "    model.add(LSTM(neurons, input_shape =(input_data.shape[1],input_data.shape[2])))\n",
    "    #model.add(LSTM(neurons, return_sequences=True, input_shape =(input_data.shape[1],input_data.shape[2])))\n",
    "    #model.add(Dropout(dropout))\n",
    "    #model.add(LSTM(neurons))\n",
    "    model.add(Dropout(dropout))\n",
    "    model.add(Dense(units=output_size))\n",
    "    model.add(Activation(activ_func))\n",
    "    model.compile(loss=loss, optimizer=optimizer)\n",
    "    \n",
    "    return model"
   ]
  },
  {
   "cell_type": "code",
   "execution_count": 8,
   "metadata": {
    "id": "VWxIw0FCgUUa"
   },
   "outputs": [],
   "source": [
    "np.random.seed(42)\n",
    "window_len = 10\n",
    "lstm_neurons = 100\n",
    "epochs = 200\n",
    "batch_size = 32\n",
    "loss = 'mse'\n",
    "dropout = 0.2\n",
    "optimizer = 'adam'"
   ]
  },
  {
   "cell_type": "code",
   "execution_count": 9,
   "metadata": {
    "id": "xfREDGbRV0Yv"
   },
   "outputs": [],
   "source": [
    "es = EarlyStopping(monitor='val_loss', mode='min', verbose=1, patience=10)\n",
    "#mc = ModelCheckpoint('best_model.h5', monitor='val_loss', mode='min', verbose=1, save_best_only=True)\n",
    "mc = tf.keras.callbacks.ModelCheckpoint('best_model.h5', monitor='val_loss', mode='min', verbose=1, save_best_only=True)"
   ]
  },
  {
   "cell_type": "code",
   "execution_count": 10,
   "metadata": {
    "id": "aI9RtVclghX0"
   },
   "outputs": [],
   "source": [
    "#X_train, X_val, X_test, y_train, y_val, y_test = prepare_data(df_scaled, target_col, window_len=window_len)\n",
    "\n",
    "X_train, y_train = prepare_data(train_scaled_df, target_col, window_len=window_len)\n",
    "X_val, y_val = prepare_data(validation_scaled_df, target_col, window_len=window_len)\n",
    "X_test, y_test = prepare_data(test_scaled_df, target_col, window_len=window_len)"
   ]
  },
  {
   "cell_type": "code",
   "execution_count": 11,
   "metadata": {
    "colab": {
     "base_uri": "https://localhost:8080/"
    },
    "id": "t5ghdGoTDiFc",
    "outputId": "8fb5f80e-0585-4e6b-e662-f829ebc5d304",
    "scrolled": true
   },
   "outputs": [
    {
     "name": "stdout",
     "output_type": "stream",
     "text": [
      "Epoch 1/200\n",
      "104/104 [==============================] - ETA: 0s - loss: 2.6554e-04\n",
      "Epoch 00001: val_loss improved from inf to 0.00021, saving model to best_model.h5\n",
      "104/104 [==============================] - 1s 12ms/step - loss: 2.6554e-04 - val_loss: 2.1289e-04\n",
      "Epoch 2/200\n",
      " 96/104 [==========================>...] - ETA: 0s - loss: 2.0778e-04\n",
      "Epoch 00002: val_loss improved from 0.00021 to 0.00006, saving model to best_model.h5\n",
      "104/104 [==============================] - 1s 6ms/step - loss: 2.0589e-04 - val_loss: 6.3775e-05\n",
      "Epoch 3/200\n",
      " 96/104 [==========================>...] - ETA: 0s - loss: 7.5244e-05\n",
      "Epoch 00003: val_loss did not improve from 0.00006\n",
      "104/104 [==============================] - 1s 6ms/step - loss: 9.4040e-05 - val_loss: 7.0332e-05\n",
      "Epoch 4/200\n",
      "102/104 [============================>.] - ETA: 0s - loss: 1.6120e-04\n",
      "Epoch 00004: val_loss improved from 0.00006 to 0.00006, saving model to best_model.h5\n",
      "104/104 [==============================] - 1s 8ms/step - loss: 1.6377e-04 - val_loss: 6.0230e-05\n",
      "Epoch 5/200\n",
      " 97/104 [==========================>...] - ETA: 0s - loss: 9.1096e-05\n",
      "Epoch 00005: val_loss did not improve from 0.00006\n",
      "104/104 [==============================] - 1s 6ms/step - loss: 1.1947e-04 - val_loss: 1.8537e-04\n",
      "Epoch 6/200\n",
      "100/104 [===========================>..] - ETA: 0s - loss: 1.1860e-04\n",
      "Epoch 00006: val_loss did not improve from 0.00006\n",
      "104/104 [==============================] - 1s 9ms/step - loss: 1.2598e-04 - val_loss: 6.1930e-05\n",
      "Epoch 7/200\n",
      "103/104 [============================>.] - ETA: 0s - loss: 8.3466e-05\n",
      "Epoch 00007: val_loss did not improve from 0.00006\n",
      "104/104 [==============================] - 1s 9ms/step - loss: 8.6629e-05 - val_loss: 1.5772e-04\n",
      "Epoch 8/200\n",
      "104/104 [==============================] - ETA: 0s - loss: 1.0025e-04\n",
      "Epoch 00008: val_loss did not improve from 0.00006\n",
      "104/104 [==============================] - 1s 8ms/step - loss: 1.0025e-04 - val_loss: 6.2768e-05\n",
      "Epoch 9/200\n",
      "101/104 [============================>.] - ETA: 0s - loss: 6.3919e-05\n",
      "Epoch 00009: val_loss did not improve from 0.00006\n",
      "104/104 [==============================] - 1s 12ms/step - loss: 7.9037e-05 - val_loss: 1.6144e-04\n",
      "Epoch 10/200\n",
      "104/104 [==============================] - ETA: 0s - loss: 9.5281e-05\n",
      "Epoch 00010: val_loss did not improve from 0.00006\n",
      "104/104 [==============================] - 2s 15ms/step - loss: 9.5281e-05 - val_loss: 6.5932e-05\n",
      "Epoch 11/200\n",
      " 98/104 [===========================>..] - ETA: 0s - loss: 6.7305e-05\n",
      "Epoch 00011: val_loss did not improve from 0.00006\n",
      "104/104 [==============================] - 1s 14ms/step - loss: 8.3288e-05 - val_loss: 1.9835e-04\n",
      "Epoch 12/200\n",
      "100/104 [===========================>..] - ETA: 0s - loss: 6.1125e-05\n",
      "Epoch 00012: val_loss improved from 0.00006 to 0.00006, saving model to best_model.h5\n",
      "104/104 [==============================] - 1s 7ms/step - loss: 6.6061e-05 - val_loss: 5.7514e-05\n",
      "Epoch 13/200\n",
      "101/104 [============================>.] - ETA: 0s - loss: 4.4900e-05\n",
      "Epoch 00013: val_loss did not improve from 0.00006\n",
      "104/104 [==============================] - 1s 8ms/step - loss: 5.4619e-05 - val_loss: 8.3292e-05\n",
      "Epoch 14/200\n",
      "103/104 [============================>.] - ETA: 0s - loss: 5.5632e-05\n",
      "Epoch 00014: val_loss improved from 0.00006 to 0.00006, saving model to best_model.h5\n",
      "104/104 [==============================] - 1s 8ms/step - loss: 5.7430e-05 - val_loss: 5.6255e-05\n",
      "Epoch 15/200\n",
      "104/104 [==============================] - ETA: 0s - loss: 5.7576e-05\n",
      "Epoch 00015: val_loss did not improve from 0.00006\n",
      "104/104 [==============================] - 1s 11ms/step - loss: 5.7576e-05 - val_loss: 7.5813e-05\n",
      "Epoch 16/200\n",
      "104/104 [==============================] - ETA: 0s - loss: 6.8197e-05\n",
      "Epoch 00016: val_loss improved from 0.00006 to 0.00004, saving model to best_model.h5\n",
      "104/104 [==============================] - 1s 12ms/step - loss: 6.8197e-05 - val_loss: 4.3945e-05\n",
      "Epoch 17/200\n",
      " 98/104 [===========================>..] - ETA: 0s - loss: 6.8520e-05\n",
      "Epoch 00017: val_loss did not improve from 0.00004\n",
      "104/104 [==============================] - 1s 14ms/step - loss: 8.7302e-05 - val_loss: 1.1025e-04\n",
      "Epoch 18/200\n",
      "104/104 [==============================] - ETA: 0s - loss: 8.6461e-05\n",
      "Epoch 00018: val_loss improved from 0.00004 to 0.00004, saving model to best_model.h5\n",
      "104/104 [==============================] - 2s 16ms/step - loss: 8.6461e-05 - val_loss: 3.6628e-05\n",
      "Epoch 19/200\n",
      "104/104 [==============================] - ETA: 0s - loss: 9.3485e-05\n",
      "Epoch 00019: val_loss did not improve from 0.00004\n",
      "104/104 [==============================] - 3s 24ms/step - loss: 9.3485e-05 - val_loss: 1.7396e-04\n",
      "Epoch 20/200\n",
      "103/104 [============================>.] - ETA: 0s - loss: 8.1988e-05\n",
      "Epoch 00020: val_loss did not improve from 0.00004\n",
      "104/104 [==============================] - 2s 16ms/step - loss: 8.2971e-05 - val_loss: 5.6190e-05\n",
      "Epoch 21/200\n",
      " 99/104 [===========================>..] - ETA: 0s - loss: 5.5721e-05\n",
      "Epoch 00021: val_loss did not improve from 0.00004\n",
      "104/104 [==============================] - 1s 11ms/step - loss: 6.8594e-05 - val_loss: 1.1267e-04\n",
      "Epoch 22/200\n",
      "103/104 [============================>.] - ETA: 0s - loss: 6.5272e-05\n",
      "Epoch 00022: val_loss did not improve from 0.00004\n",
      "104/104 [==============================] - 1s 9ms/step - loss: 6.6763e-05 - val_loss: 7.1647e-05\n",
      "Epoch 23/200\n",
      " 98/104 [===========================>..] - ETA: 0s - loss: 5.5103e-05\n",
      "Epoch 00023: val_loss did not improve from 0.00004\n",
      "104/104 [==============================] - 1s 8ms/step - loss: 6.7292e-05 - val_loss: 1.5992e-04\n",
      "Epoch 24/200\n",
      "100/104 [===========================>..] - ETA: 0s - loss: 4.7910e-05\n",
      "Epoch 00024: val_loss did not improve from 0.00004\n",
      "104/104 [==============================] - 1s 10ms/step - loss: 5.2790e-05 - val_loss: 6.7013e-05\n",
      "Epoch 25/200\n",
      "102/104 [============================>.] - ETA: 0s - loss: 3.8070e-05\n",
      "Epoch 00025: val_loss did not improve from 0.00004\n",
      "104/104 [==============================] - 1s 7ms/step - loss: 4.0921e-05 - val_loss: 5.2836e-05\n",
      "Epoch 26/200\n",
      " 98/104 [===========================>..] - ETA: 0s - loss: 3.5600e-05\n",
      "Epoch 00026: val_loss did not improve from 0.00004\n",
      "104/104 [==============================] - 1s 6ms/step - loss: 4.0586e-05 - val_loss: 5.9184e-05\n",
      "Epoch 27/200\n",
      " 96/104 [==========================>...] - ETA: 0s - loss: 4.1351e-05\n",
      "Epoch 00027: val_loss did not improve from 0.00004\n",
      "104/104 [==============================] - 1s 6ms/step - loss: 4.9338e-05 - val_loss: 7.2839e-05\n",
      "Epoch 28/200\n",
      " 97/104 [==========================>...] - ETA: 0s - loss: 4.2839e-05\n",
      "Epoch 00028: val_loss did not improve from 0.00004\n",
      "104/104 [==============================] - 1s 6ms/step - loss: 4.8346e-05 - val_loss: 5.4122e-05\n",
      "Epoch 00028: early stopping\n"
     ]
    }
   ],
   "source": [
    "model = build_lstm_model(X_train, output_size=1, neurons=lstm_neurons, dropout=dropout, loss=loss, optimizer=optimizer)\n",
    "history = model.fit(X_train, y_train, validation_data=(X_val, y_val), epochs=epochs, batch_size=batch_size, verbose=1, shuffle=False, callbacks=[es, mc])"
   ]
  },
  {
   "cell_type": "code",
   "execution_count": 12,
   "metadata": {
    "colab": {
     "base_uri": "https://localhost:8080/"
    },
    "id": "nINgEWMMM4j3",
    "outputId": "b557d9fa-410b-422c-c815-fe2bf21a894e"
   },
   "outputs": [
    {
     "name": "stdout",
     "output_type": "stream",
     "text": [
      "Train: 0.000, Test: 0.005\n"
     ]
    }
   ],
   "source": [
    "# load the best modell\n",
    "model = load_model('best_model.h5')\n",
    "\n",
    "# evaluate the model\n",
    "train_acc = model.evaluate(X_train, y_train, verbose=0)\n",
    "test_acc = model.evaluate(X_test, y_test, verbose=0)\n",
    "print('Train: %.3f, Test: %.3f' % (train_acc, test_acc))"
   ]
  },
  {
   "cell_type": "code",
   "execution_count": 13,
   "metadata": {
    "colab": {
     "base_uri": "https://localhost:8080/"
    },
    "id": "7BqGSYWIM4j3",
    "outputId": "75730a80-0f56-4dbc-e310-81239d29062d"
   },
   "outputs": [
    {
     "data": {
      "text/plain": [
       "(187, 10, 6)"
      ]
     },
     "execution_count": 13,
     "metadata": {},
     "output_type": "execute_result"
    }
   ],
   "source": [
    "X_test.shape"
   ]
  },
  {
   "cell_type": "code",
   "execution_count": 14,
   "metadata": {
    "colab": {
     "base_uri": "https://localhost:8080/",
     "height": 204
    },
    "id": "8yi9lvtOmRRM",
    "outputId": "6c508ea8-c3d6-4cfc-e5f7-e167297bdcdc"
   },
   "outputs": [
    {
     "data": {
      "text/html": [
       "<div>\n",
       "<style scoped>\n",
       "    .dataframe tbody tr th:only-of-type {\n",
       "        vertical-align: middle;\n",
       "    }\n",
       "\n",
       "    .dataframe tbody tr th {\n",
       "        vertical-align: top;\n",
       "    }\n",
       "\n",
       "    .dataframe thead th {\n",
       "        text-align: right;\n",
       "    }\n",
       "</style>\n",
       "<table border=\"1\" class=\"dataframe\">\n",
       "  <thead>\n",
       "    <tr style=\"text-align: right;\">\n",
       "      <th></th>\n",
       "      <th>high</th>\n",
       "      <th>low</th>\n",
       "      <th>open</th>\n",
       "      <th>volumefrom</th>\n",
       "      <th>volumeto</th>\n",
       "      <th>close</th>\n",
       "    </tr>\n",
       "  </thead>\n",
       "  <tbody>\n",
       "    <tr>\n",
       "      <th>0</th>\n",
       "      <td>0.04951</td>\n",
       "      <td>0.01</td>\n",
       "      <td>0.04951</td>\n",
       "      <td>0.0</td>\n",
       "      <td>0.0</td>\n",
       "      <td>10728.254039</td>\n",
       "    </tr>\n",
       "    <tr>\n",
       "      <th>1</th>\n",
       "      <td>0.04951</td>\n",
       "      <td>0.01</td>\n",
       "      <td>0.04951</td>\n",
       "      <td>0.0</td>\n",
       "      <td>0.0</td>\n",
       "      <td>10746.592774</td>\n",
       "    </tr>\n",
       "    <tr>\n",
       "      <th>2</th>\n",
       "      <td>0.04951</td>\n",
       "      <td>0.01</td>\n",
       "      <td>0.04951</td>\n",
       "      <td>0.0</td>\n",
       "      <td>0.0</td>\n",
       "      <td>10687.123164</td>\n",
       "    </tr>\n",
       "    <tr>\n",
       "      <th>3</th>\n",
       "      <td>0.04951</td>\n",
       "      <td>0.01</td>\n",
       "      <td>0.04951</td>\n",
       "      <td>0.0</td>\n",
       "      <td>0.0</td>\n",
       "      <td>10591.334362</td>\n",
       "    </tr>\n",
       "    <tr>\n",
       "      <th>4</th>\n",
       "      <td>0.04951</td>\n",
       "      <td>0.01</td>\n",
       "      <td>0.04951</td>\n",
       "      <td>0.0</td>\n",
       "      <td>0.0</td>\n",
       "      <td>10562.413203</td>\n",
       "    </tr>\n",
       "  </tbody>\n",
       "</table>\n",
       "</div>"
      ],
      "text/plain": [
       "      high   low     open  volumefrom  volumeto         close\n",
       "0  0.04951  0.01  0.04951         0.0       0.0  10728.254039\n",
       "1  0.04951  0.01  0.04951         0.0       0.0  10746.592774\n",
       "2  0.04951  0.01  0.04951         0.0       0.0  10687.123164\n",
       "3  0.04951  0.01  0.04951         0.0       0.0  10591.334362\n",
       "4  0.04951  0.01  0.04951         0.0       0.0  10562.413203"
      ]
     },
     "execution_count": 14,
     "metadata": {},
     "output_type": "execute_result"
    }
   ],
   "source": [
    "preds = model.predict(X_test).squeeze()\n",
    "\n",
    "arr = np.zeros([preds.shape[0], 6])\n",
    "arr[:, 5] = preds\n",
    "\n",
    "res = scaler.inverse_transform(arr)\n",
    "\n",
    "df_res = pd.DataFrame(res, columns=df.columns)\n",
    "\n",
    "df_res.head()"
   ]
  },
  {
   "cell_type": "code",
   "execution_count": 15,
   "metadata": {
    "colab": {
     "base_uri": "https://localhost:8080/",
     "height": 446
    },
    "id": "vMMtJeVAhDRT",
    "outputId": "ba0656ef-35fa-43ca-a2cf-9ef0f99aa2ff",
    "scrolled": true
   },
   "outputs": [
    {
     "data": {
      "image/png": "[encoded data removed]",
      "text/plain": [
       "<Figure size 936x504 with 1 Axes>"
      ]
     },
     "metadata": {
      "needs_background": "light"
     },
     "output_type": "display_data"
    }
   ],
   "source": [
    "predicted_closing_prices = df_res[target_col].values\n",
    "actual_closing_prices = test_df[target_col][window_len:]\n",
    "predicted_closing_prices = pd.Series(index=actual_closing_prices.index, data=predicted_closing_prices)\n",
    "\n",
    "fig, ax = plt.subplots(1, figsize=(13, 7))\n",
    "ax.plot(actual_closing_prices, label='actual')\n",
    "ax.plot(predicted_closing_prices, label='predicted')\n",
    "ax.set_ylabel('price [USD]', fontsize=14)\n",
    "ax.set_title('Evaluation', fontsize=16)\n",
    "ax.legend(loc='best', fontsize=16)\n",
    "plt.show()"
   ]
  },
  {
   "cell_type": "code",
   "execution_count": 16,
   "metadata": {
    "id": "EfOvme7sM4j4",
    "scrolled": true
   },
   "outputs": [],
   "source": [
    "res_data = {'time': test_df.index[window_len:], 'actual': test_df[target_col][window_len:], 'preds' :predicted_closing_prices}\n",
    "res_df = pd.DataFrame(data=res_data)\n",
    "res_df = res_df.set_index('time')"
   ]
  },
  {
   "cell_type": "code",
   "execution_count": 17,
   "metadata": {
    "colab": {
     "base_uri": "https://localhost:8080/",
     "height": 235
    },
    "id": "-1vSQBq6M4j5",
    "outputId": "e721c3e5-d7dc-41f8-b167-b5ad12f30e23",
    "scrolled": true
   },
   "outputs": [
    {
     "data": {
      "text/html": [
       "<div>\n",
       "<style scoped>\n",
       "    .dataframe tbody tr th:only-of-type {\n",
       "        vertical-align: middle;\n",
       "    }\n",
       "\n",
       "    .dataframe tbody tr th {\n",
       "        vertical-align: top;\n",
       "    }\n",
       "\n",
       "    .dataframe thead th {\n",
       "        text-align: right;\n",
       "    }\n",
       "</style>\n",
       "<table border=\"1\" class=\"dataframe\">\n",
       "  <thead>\n",
       "    <tr style=\"text-align: right;\">\n",
       "      <th></th>\n",
       "      <th>actual</th>\n",
       "      <th>preds</th>\n",
       "    </tr>\n",
       "    <tr>\n",
       "      <th>time</th>\n",
       "      <th></th>\n",
       "      <th></th>\n",
       "    </tr>\n",
       "  </thead>\n",
       "  <tbody>\n",
       "    <tr>\n",
       "      <th>2020-09-30</th>\n",
       "      <td>10779.42</td>\n",
       "      <td>10728.254039</td>\n",
       "    </tr>\n",
       "    <tr>\n",
       "      <th>2020-10-01</th>\n",
       "      <td>10622.79</td>\n",
       "      <td>10746.592774</td>\n",
       "    </tr>\n",
       "    <tr>\n",
       "      <th>2020-10-02</th>\n",
       "      <td>10576.64</td>\n",
       "      <td>10687.123164</td>\n",
       "    </tr>\n",
       "    <tr>\n",
       "      <th>2020-10-03</th>\n",
       "      <td>10552.04</td>\n",
       "      <td>10591.334362</td>\n",
       "    </tr>\n",
       "    <tr>\n",
       "      <th>2020-10-04</th>\n",
       "      <td>10675.52</td>\n",
       "      <td>10562.413203</td>\n",
       "    </tr>\n",
       "  </tbody>\n",
       "</table>\n",
       "</div>"
      ],
      "text/plain": [
       "              actual         preds\n",
       "time                              \n",
       "2020-09-30  10779.42  10728.254039\n",
       "2020-10-01  10622.79  10746.592774\n",
       "2020-10-02  10576.64  10687.123164\n",
       "2020-10-03  10552.04  10591.334362\n",
       "2020-10-04  10675.52  10562.413203"
      ]
     },
     "execution_count": 17,
     "metadata": {},
     "output_type": "execute_result"
    }
   ],
   "source": [
    "res_df.head()"
   ]
  },
  {
   "cell_type": "code",
   "execution_count": 18,
   "metadata": {
    "id": "luJig1jtM4j5"
   },
   "outputs": [],
   "source": [
    "res_df.to_json(r'results.json')"
   ]
  },
  {
   "cell_type": "code",
   "execution_count": 19,
   "metadata": {
    "colab": {
     "base_uri": "https://localhost:8080/",
     "height": 533
    },
    "id": "feZTCAj-M4j6",
    "outputId": "4c987ae0-0e02-45f0-fed7-827cee42554e"
   },
   "outputs": [
    {
     "name": "stdout",
     "output_type": "stream",
     "text": [
      "('Failed to import pydot. You must `pip install pydot` and install graphviz (https://graphviz.gitlab.io/download/), ', 'for `pydotprint` to work.')\n"
     ]
    }
   ],
   "source": [
    "tf.keras.utils.plot_model(model, to_file='model.png', show_shapes=True)"
   ]
  },
  {
   "cell_type": "code",
   "execution_count": 20,
   "metadata": {
    "colab": {
     "base_uri": "https://localhost:8080/"
    },
    "id": "DKaLn60zM4j6",
    "lines_to_next_cell": 2,
    "outputId": "4265b041-9c57-47ad-a0c5-b8e27329b85c"
   },
   "outputs": [
    {
     "name": "stdout",
     "output_type": "stream",
     "text": [
      "<tensorflow.python.keras.layers.recurrent_v2.LSTM object at 0x7f2cd0ff2eb0>\n",
      "<tensorflow.python.keras.layers.core.Dropout object at 0x7f2cd0fd4ca0>\n",
      "<tensorflow.python.keras.layers.core.Dense object at 0x7f2cb82ff8e0>\n",
      "<tensorflow.python.keras.layers.core.Activation object at 0x7f2cd0fd4dc0>\n"
     ]
    }
   ],
   "source": [
    "for layer in model.layers:\n",
    "    print(layer)"
   ]
  },
  {
   "cell_type": "code",
   "execution_count": 21,
   "metadata": {
    "colab": {
     "base_uri": "https://localhost:8080/"
    },
    "id": "APAKM4k8M4j6",
    "lines_to_next_cell": 2,
    "outputId": "be711283-320e-4c73-92f4-5d05afaf9341"
   },
   "outputs": [
    {
     "name": "stdout",
     "output_type": "stream",
     "text": [
      "input (None, 10, 6)\n",
      "output (None, 100)\n",
      "input (None, 100)\n",
      "output (None, 100)\n",
      "input (None, 100)\n",
      "output (None, 1)\n",
      "input (None, 1)\n",
      "output (None, 1)\n"
     ]
    }
   ],
   "source": [
    "for layer in model.layers:\n",
    "    print('input', layer.input_shape)\n",
    "    print('output', layer.output_shape)"
   ]
  },
  {
   "cell_type": "code",
   "execution_count": 22,
   "metadata": {
    "id": "wKaH3EgBM4j7"
   },
   "outputs": [],
   "source": [
    "# save the scaler\n",
    "dump(scaler, open('scaler.pkl', 'wb'))"
   ]
  },
  {
   "cell_type": "code",
   "execution_count": null,
   "metadata": {
    "id": "kN0UBcnmM4j7"
   },
   "outputs": [],
   "source": []
  }
 ],
 "metadata": {
  "accelerator": "GPU",
  "colab": {
   "collapsed_sections": [],
   "name": "Predict_BitCoin.ipynb",
   "provenance": [],
   "toc_visible": true
  },
  "jupytext": {
   "formats": "ipynb,py"
  },
  "kernelspec": {
   "display_name": "crypto-v3.8",
   "language": "python",
   "name": "crypto-v3.8"
  },
  "language_info": {
   "codemirror_mode": {
    "name": "ipython",
    "version": 3
   },
   "file_extension": ".py",
   "mimetype": "text/x-python",
   "name": "python",
   "nbconvert_exporter": "python",
   "pygments_lexer": "ipython3",
   "version": "3.8.5"
  }
 },
 "nbformat": 4,
 "nbformat_minor": 4
}
