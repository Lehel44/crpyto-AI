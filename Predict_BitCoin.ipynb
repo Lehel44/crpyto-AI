{
 "cells": [
  {
   "cell_type": "code",
   "execution_count": 1,
   "metadata": {
    "id": "AjnNx60adMo5"
   },
   "outputs": [],
   "source": [
    "import json\n",
    "import requests\n",
    "from keras.models import Sequential\n",
    "from keras.layers import Activation, Dense, Dropout, LSTM\n",
    "from keras.callbacks import EarlyStopping\n",
    "import matplotlib.pyplot as plt\n",
    "import numpy as np\n",
    "import pandas as pd\n",
    "import seaborn as sns\n",
    "from sklearn.metrics import mean_absolute_error\n",
    "from sklearn.preprocessing import MinMaxScaler\n",
    "from keras.models import load_model\n",
    "import tensorflow as tf\n",
    "%matplotlib inline"
   ]
  },
  {
   "cell_type": "code",
   "execution_count": 2,
   "metadata": {
    "colab": {
     "base_uri": "https://localhost:8080/",
     "height": 450
    },
    "id": "SS6yHZW6dXAd",
    "outputId": "f1e998f7-bcb5-4007-9b33-b8200175a723",
    "scrolled": true
   },
   "outputs": [
    {
     "data": {
      "text/html": [
       "<div>\n",
       "<style scoped>\n",
       "    .dataframe tbody tr th:only-of-type {\n",
       "        vertical-align: middle;\n",
       "    }\n",
       "\n",
       "    .dataframe tbody tr th {\n",
       "        vertical-align: top;\n",
       "    }\n",
       "\n",
       "    .dataframe thead th {\n",
       "        text-align: right;\n",
       "    }\n",
       "</style>\n",
       "<table border=\"1\" class=\"dataframe\">\n",
       "  <thead>\n",
       "    <tr style=\"text-align: right;\">\n",
       "      <th></th>\n",
       "      <th>high</th>\n",
       "      <th>low</th>\n",
       "      <th>open</th>\n",
       "      <th>volumefrom</th>\n",
       "      <th>volumeto</th>\n",
       "      <th>close</th>\n",
       "    </tr>\n",
       "    <tr>\n",
       "      <th>time</th>\n",
       "      <th></th>\n",
       "      <th></th>\n",
       "      <th></th>\n",
       "      <th></th>\n",
       "      <th></th>\n",
       "      <th></th>\n",
       "    </tr>\n",
       "  </thead>\n",
       "  <tbody>\n",
       "    <tr>\n",
       "      <th>2010-07-17</th>\n",
       "      <td>0.04951</td>\n",
       "      <td>0.04951</td>\n",
       "      <td>0.04951</td>\n",
       "      <td>20.00</td>\n",
       "      <td>0.9902</td>\n",
       "      <td>0.04951</td>\n",
       "    </tr>\n",
       "    <tr>\n",
       "      <th>2010-07-18</th>\n",
       "      <td>0.08585</td>\n",
       "      <td>0.05941</td>\n",
       "      <td>0.04951</td>\n",
       "      <td>75.01</td>\n",
       "      <td>5.0920</td>\n",
       "      <td>0.08584</td>\n",
       "    </tr>\n",
       "    <tr>\n",
       "      <th>2010-07-19</th>\n",
       "      <td>0.09307</td>\n",
       "      <td>0.07723</td>\n",
       "      <td>0.08584</td>\n",
       "      <td>574.00</td>\n",
       "      <td>49.6600</td>\n",
       "      <td>0.08080</td>\n",
       "    </tr>\n",
       "    <tr>\n",
       "      <th>2010-07-20</th>\n",
       "      <td>0.08181</td>\n",
       "      <td>0.07426</td>\n",
       "      <td>0.08080</td>\n",
       "      <td>262.00</td>\n",
       "      <td>20.5900</td>\n",
       "      <td>0.07474</td>\n",
       "    </tr>\n",
       "    <tr>\n",
       "      <th>2010-07-21</th>\n",
       "      <td>0.07921</td>\n",
       "      <td>0.06634</td>\n",
       "      <td>0.07474</td>\n",
       "      <td>575.00</td>\n",
       "      <td>42.2600</td>\n",
       "      <td>0.07921</td>\n",
       "    </tr>\n",
       "    <tr>\n",
       "      <th>...</th>\n",
       "      <td>...</td>\n",
       "      <td>...</td>\n",
       "      <td>...</td>\n",
       "      <td>...</td>\n",
       "      <td>...</td>\n",
       "      <td>...</td>\n",
       "    </tr>\n",
       "    <tr>\n",
       "      <th>2010-10-20</th>\n",
       "      <td>0.10300</td>\n",
       "      <td>0.09400</td>\n",
       "      <td>0.09700</td>\n",
       "      <td>31855.00</td>\n",
       "      <td>3221.0800</td>\n",
       "      <td>0.09900</td>\n",
       "    </tr>\n",
       "    <tr>\n",
       "      <th>2010-10-21</th>\n",
       "      <td>0.10900</td>\n",
       "      <td>0.09700</td>\n",
       "      <td>0.09900</td>\n",
       "      <td>44867.00</td>\n",
       "      <td>4616.8500</td>\n",
       "      <td>0.10700</td>\n",
       "    </tr>\n",
       "    <tr>\n",
       "      <th>2010-10-22</th>\n",
       "      <td>0.10900</td>\n",
       "      <td>0.10150</td>\n",
       "      <td>0.10700</td>\n",
       "      <td>34603.91</td>\n",
       "      <td>3665.4300</td>\n",
       "      <td>0.10250</td>\n",
       "    </tr>\n",
       "    <tr>\n",
       "      <th>2010-10-23</th>\n",
       "      <td>0.10900</td>\n",
       "      <td>0.10450</td>\n",
       "      <td>0.10250</td>\n",
       "      <td>4423.47</td>\n",
       "      <td>481.5200</td>\n",
       "      <td>0.10550</td>\n",
       "    </tr>\n",
       "    <tr>\n",
       "      <th>2010-10-24</th>\n",
       "      <td>0.19000</td>\n",
       "      <td>0.10800</td>\n",
       "      <td>0.10550</td>\n",
       "      <td>13800.23</td>\n",
       "      <td>1560.6100</td>\n",
       "      <td>0.11500</td>\n",
       "    </tr>\n",
       "  </tbody>\n",
       "</table>\n",
       "<p>100 rows × 6 columns</p>\n",
       "</div>"
      ],
      "text/plain": [
       "               high      low     open  volumefrom   volumeto    close\n",
       "time                                                                 \n",
       "2010-07-17  0.04951  0.04951  0.04951       20.00     0.9902  0.04951\n",
       "2010-07-18  0.08585  0.05941  0.04951       75.01     5.0920  0.08584\n",
       "2010-07-19  0.09307  0.07723  0.08584      574.00    49.6600  0.08080\n",
       "2010-07-20  0.08181  0.07426  0.08080      262.00    20.5900  0.07474\n",
       "2010-07-21  0.07921  0.06634  0.07474      575.00    42.2600  0.07921\n",
       "...             ...      ...      ...         ...        ...      ...\n",
       "2010-10-20  0.10300  0.09400  0.09700    31855.00  3221.0800  0.09900\n",
       "2010-10-21  0.10900  0.09700  0.09900    44867.00  4616.8500  0.10700\n",
       "2010-10-22  0.10900  0.10150  0.10700    34603.91  3665.4300  0.10250\n",
       "2010-10-23  0.10900  0.10450  0.10250     4423.47   481.5200  0.10550\n",
       "2010-10-24  0.19000  0.10800  0.10550    13800.23  1560.6100  0.11500\n",
       "\n",
       "[100 rows x 6 columns]"
      ]
     },
     "execution_count": 2,
     "metadata": {},
     "output_type": "execute_result"
    }
   ],
   "source": [
    "with open('BTC_hist_daily_prices.json') as json_file:\n",
    "    data = json.load(json_file)\n",
    "\n",
    "df = pd.DataFrame(data['Data']['Data'])\n",
    "df = df.set_index('time')\n",
    "df.index = pd.to_datetime(df.index, unit='s')\n",
    "df = df.drop(['conversionType', 'conversionSymbol'], axis=1 )\n",
    "target_col = 'close'\n",
    "\n",
    "df.head(100)"
   ]
  },
  {
   "cell_type": "code",
   "execution_count": 3,
   "metadata": {},
   "outputs": [],
   "source": [
    "# Splits and shuffles the dataset into train, validation and test sets.\n",
    "\n",
    "def train_val_test_split(df, validation_size=0.1, test_size=0.05):\n",
    "    return np.split(df, [int((1-validation_size)*len(df)), int((1-test_size)*len(df))]) \n",
    "\n",
    "train_df, validation_df, test_df = train_val_test_split(df)"
   ]
  },
  {
   "cell_type": "code",
   "execution_count": 4,
   "metadata": {},
   "outputs": [
    {
     "name": "stdout",
     "output_type": "stream",
     "text": [
      "train: (3411, 6)\n",
      "validation: (190, 6)\n",
      "test: (190, 6)\n"
     ]
    }
   ],
   "source": [
    "print('train:', train_df.shape)\n",
    "print('validation:', validation_df.shape)\n",
    "print('test:', test_df.shape)"
   ]
  },
  {
   "cell_type": "code",
   "execution_count": 5,
   "metadata": {
    "colab": {
     "base_uri": "https://localhost:8080/",
     "height": 235
    },
    "id": "_RVTUoyLc5tu",
    "outputId": "49a1f3fd-88c0-424f-aec0-3dd44e7df507"
   },
   "outputs": [
    {
     "data": {
      "text/html": [
       "<div>\n",
       "<style scoped>\n",
       "    .dataframe tbody tr th:only-of-type {\n",
       "        vertical-align: middle;\n",
       "    }\n",
       "\n",
       "    .dataframe tbody tr th {\n",
       "        vertical-align: top;\n",
       "    }\n",
       "\n",
       "    .dataframe thead th {\n",
       "        text-align: right;\n",
       "    }\n",
       "</style>\n",
       "<table border=\"1\" class=\"dataframe\">\n",
       "  <thead>\n",
       "    <tr style=\"text-align: right;\">\n",
       "      <th></th>\n",
       "      <th>high</th>\n",
       "      <th>low</th>\n",
       "      <th>open</th>\n",
       "      <th>volumefrom</th>\n",
       "      <th>volumeto</th>\n",
       "      <th>close</th>\n",
       "    </tr>\n",
       "    <tr>\n",
       "      <th>time</th>\n",
       "      <th></th>\n",
       "      <th></th>\n",
       "      <th></th>\n",
       "      <th></th>\n",
       "      <th></th>\n",
       "      <th></th>\n",
       "    </tr>\n",
       "  </thead>\n",
       "  <tbody>\n",
       "    <tr>\n",
       "      <th>2010-07-17</th>\n",
       "      <td>0.000000</td>\n",
       "      <td>0.000002</td>\n",
       "      <td>0.000000</td>\n",
       "      <td>0.000035</td>\n",
       "      <td>1.585403e-10</td>\n",
       "      <td>0.000000</td>\n",
       "    </tr>\n",
       "    <tr>\n",
       "      <th>2010-07-18</th>\n",
       "      <td>0.000002</td>\n",
       "      <td>0.000003</td>\n",
       "      <td>0.000000</td>\n",
       "      <td>0.000131</td>\n",
       "      <td>8.152768e-10</td>\n",
       "      <td>0.000002</td>\n",
       "    </tr>\n",
       "    <tr>\n",
       "      <th>2010-07-19</th>\n",
       "      <td>0.000002</td>\n",
       "      <td>0.000004</td>\n",
       "      <td>0.000002</td>\n",
       "      <td>0.001003</td>\n",
       "      <td>7.951030e-09</td>\n",
       "      <td>0.000002</td>\n",
       "    </tr>\n",
       "    <tr>\n",
       "      <th>2010-07-20</th>\n",
       "      <td>0.000002</td>\n",
       "      <td>0.000003</td>\n",
       "      <td>0.000002</td>\n",
       "      <td>0.000458</td>\n",
       "      <td>3.296651e-09</td>\n",
       "      <td>0.000001</td>\n",
       "    </tr>\n",
       "    <tr>\n",
       "      <th>2010-07-21</th>\n",
       "      <td>0.000001</td>\n",
       "      <td>0.000003</td>\n",
       "      <td>0.000001</td>\n",
       "      <td>0.001005</td>\n",
       "      <td>6.766221e-09</td>\n",
       "      <td>0.000002</td>\n",
       "    </tr>\n",
       "  </tbody>\n",
       "</table>\n",
       "</div>"
      ],
      "text/plain": [
       "                high       low      open  volumefrom      volumeto     close\n",
       "time                                                                        \n",
       "2010-07-17  0.000000  0.000002  0.000000    0.000035  1.585403e-10  0.000000\n",
       "2010-07-18  0.000002  0.000003  0.000000    0.000131  8.152768e-10  0.000002\n",
       "2010-07-19  0.000002  0.000004  0.000002    0.001003  7.951030e-09  0.000002\n",
       "2010-07-20  0.000002  0.000003  0.000002    0.000458  3.296651e-09  0.000001\n",
       "2010-07-21  0.000001  0.000003  0.000001    0.001005  6.766221e-09  0.000002"
      ]
     },
     "execution_count": 5,
     "metadata": {},
     "output_type": "execute_result"
    }
   ],
   "source": [
    "# Normalize values between 0-1 for every feature (each column is divided by column max value).\n",
    "\n",
    "scaler = MinMaxScaler()\n",
    "scaler.fit(train_df)\n",
    "\n",
    "train_scaled = scaler.transform(train_df)\n",
    "validation_scaled = scaler.transform(validation_df)\n",
    "test_scaled = scaler.transform(test_df)\n",
    "\n",
    "train_scaled_df = pd.DataFrame(train_scaled, columns=train_df.columns,index=train_df.index)\n",
    "validation_scaled_df = pd.DataFrame(validation_scaled, columns=validation_df.columns,index=validation_df.index)\n",
    "test_scaled_df = pd.DataFrame(test_scaled, columns=test_df.columns,index=test_df.index)\n",
    "\n",
    "train_scaled_df.head()"
   ]
  },
  {
   "cell_type": "code",
   "execution_count": 6,
   "metadata": {
    "colab": {
     "base_uri": "https://localhost:8080/",
     "height": 428
    },
    "id": "mqgciSpHfoy8",
    "outputId": "e6a9add6-ea9b-4834-f50b-e7d8a916b865",
    "scrolled": true
   },
   "outputs": [
    {
     "data": {
      "image/png": "[encoded data removed]",
      "text/plain": [
       "<Figure size 936x504 with 1 Axes>"
      ]
     },
     "metadata": {
      "needs_background": "light"
     },
     "output_type": "display_data"
    }
   ],
   "source": [
    "def line_plot(line1, line2, line3, label1=None, label2=None, label3=None, title='', lw=2):\n",
    "    fig, ax = plt.subplots(1, figsize=(13, 7))\n",
    "    ax.plot(line1, label=label1, linewidth=lw)\n",
    "    ax.plot(line2, label=label2, linewidth=lw)\n",
    "    ax.plot(line3, label=label3, linewidth=lw)\n",
    "    ax.set_ylabel('price [USD]', fontsize=14)\n",
    "    ax.set_title(title, fontsize=16)\n",
    "    ax.legend(loc='best', fontsize=16)\n",
    "    \n",
    "line_plot(train_df[target_col], validation_df[target_col], test_df[target_col], 'training', 'validation', 'test', title='')"
   ]
  },
  {
   "cell_type": "code",
   "execution_count": 7,
   "metadata": {
    "id": "u3EtleUrgD3l"
   },
   "outputs": [],
   "source": [
    "def extract_window_data(df, window_len=5):\n",
    "    window_data = []\n",
    "    for idx in range(len(df) - window_len):\n",
    "        tmp = df[idx: (idx + window_len)].copy()\n",
    "        window_data.append(tmp.values)\n",
    "    \n",
    "    return np.array(window_data)\n",
    "\n",
    "def prepare_data(df, target_col, window_len=10):\n",
    "#    train_data, validation_data, test_data = train_val_test_split(df)\n",
    "#    X_train = extract_window_data(train_data, window_len)\n",
    "#    X_val = extract_window_data(validation_data, window_len)\n",
    "#    X_test = extract_window_data(test_data, window_len)\n",
    "#    y_train = train_data[target_col][window_len:].values\n",
    "#    y_val = validation_data[target_col][window_len:].values\n",
    "#    y_test = test_data[target_col][window_len:].values\n",
    "\n",
    "#    return X_train, X_val, X_test, y_train, y_val, y_test\n",
    "\n",
    "    x = extract_window_data(df, window_len)\n",
    "    y = df[target_col][window_len:].values\n",
    "    \n",
    "    return x, y\n",
    "\n",
    "def build_lstm_model(input_data, output_size, neurons=100, activ_func='linear', dropout=0.2, loss='mse', optimizer='adam'):\n",
    "    model = Sequential()\n",
    "    #model.add(LSTM(neurons, input_shape =(input_data.shape[1],input_data.shape[2])))\n",
    "    model.add(LSTM(neurons, return_sequences=True, input_shape =(input_data.shape[1],input_data.shape[2])))\n",
    "    #model.add(Dropout(dropout))\n",
    "    model.add(LSTM(neurons))\n",
    "    model.add(Dropout(dropout))\n",
    "    model.add(Dense(units=output_size))\n",
    "    model.add(Activation(activ_func))\n",
    "    model.compile(loss=loss, optimizer=optimizer)\n",
    "    \n",
    "    return model"
   ]
  },
  {
   "cell_type": "code",
   "execution_count": 8,
   "metadata": {
    "id": "VWxIw0FCgUUa"
   },
   "outputs": [],
   "source": [
    "np.random.seed(42)\n",
    "window_len = 15\n",
    "lstm_neurons = 100\n",
    "epochs = 200\n",
    "batch_size = 32\n",
    "loss = 'mse'\n",
    "dropout = 0.2\n",
    "optimizer = 'adam'"
   ]
  },
  {
   "cell_type": "code",
   "execution_count": 9,
   "metadata": {
    "id": "xfREDGbRV0Yv"
   },
   "outputs": [],
   "source": [
    "es = EarlyStopping(monitor='val_loss', mode='min', verbose=1, patience=10)\n",
    "#mc = ModelCheckpoint('best_model.h5', monitor='val_loss', mode='min', verbose=1, save_best_only=True)\n",
    "mc = tf.keras.callbacks.ModelCheckpoint('best_model.h5', monitor='val_loss', mode='min', verbose=1, save_best_only=True)"
   ]
  },
  {
   "cell_type": "code",
   "execution_count": 10,
   "metadata": {
    "id": "aI9RtVclghX0"
   },
   "outputs": [],
   "source": [
    "#X_train, X_val, X_test, y_train, y_val, y_test = prepare_data(df_scaled, target_col, window_len=window_len)\n",
    "\n",
    "X_train, y_train = prepare_data(train_scaled_df, target_col, window_len=window_len)\n",
    "X_val, y_val = prepare_data(validation_scaled_df, target_col, window_len=window_len)\n",
    "X_test, y_test = prepare_data(test_scaled_df, target_col, window_len=window_len)"
   ]
  },
  {
   "cell_type": "code",
   "execution_count": 11,
   "metadata": {
    "colab": {
     "base_uri": "https://localhost:8080/"
    },
    "id": "t5ghdGoTDiFc",
    "outputId": "e48eaa2f-7443-4627-f878-481f085d4ff0",
    "scrolled": true
   },
   "outputs": [
    {
     "name": "stdout",
     "output_type": "stream",
     "text": [
      "Epoch 1/200\n",
      "104/107 [============================>.] - ETA: 0s - loss: 0.0030\n",
      "Epoch 00001: val_loss improved from inf to 0.01027, saving model to best_model.h5\n",
      "107/107 [==============================] - 2s 17ms/step - loss: 0.0030 - val_loss: 0.0103\n",
      "Epoch 2/200\n",
      "103/107 [===========================>..] - ETA: 0s - loss: 0.0017 \n",
      "Epoch 00002: val_loss improved from 0.01027 to 0.00164, saving model to best_model.h5\n",
      "107/107 [==============================] - 1s 13ms/step - loss: 0.0017 - val_loss: 0.0016\n",
      "Epoch 3/200\n",
      "104/107 [============================>.] - ETA: 0s - loss: 0.0027\n",
      "Epoch 00003: val_loss did not improve from 0.00164\n",
      "107/107 [==============================] - 1s 13ms/step - loss: 0.0027 - val_loss: 0.0110\n",
      "Epoch 4/200\n",
      "106/107 [============================>.] - ETA: 0s - loss: 0.0014\n",
      "Epoch 00004: val_loss did not improve from 0.00164\n",
      "107/107 [==============================] - 2s 16ms/step - loss: 0.0014 - val_loss: 0.0023\n",
      "Epoch 5/200\n",
      "104/107 [============================>.] - ETA: 0s - loss: 0.0022\n",
      "Epoch 00005: val_loss did not improve from 0.00164\n",
      "107/107 [==============================] - 2s 16ms/step - loss: 0.0022 - val_loss: 0.0061\n",
      "Epoch 6/200\n",
      "105/107 [============================>.] - ETA: 0s - loss: 0.0015\n",
      "Epoch 00006: val_loss did not improve from 0.00164\n",
      "107/107 [==============================] - 2s 18ms/step - loss: 0.0015 - val_loss: 0.0022\n",
      "Epoch 7/200\n",
      "106/107 [============================>.] - ETA: 0s - loss: 0.0016\n",
      "Epoch 00007: val_loss did not improve from 0.00164\n",
      "107/107 [==============================] - 2s 17ms/step - loss: 0.0016 - val_loss: 0.0036\n",
      "Epoch 8/200\n",
      "106/107 [============================>.] - ETA: 0s - loss: 0.0019\n",
      "Epoch 00008: val_loss did not improve from 0.00164\n",
      "107/107 [==============================] - 2s 18ms/step - loss: 0.0019 - val_loss: 0.0025\n",
      "Epoch 9/200\n",
      "107/107 [==============================] - ETA: 0s - loss: 0.0020\n",
      "Epoch 00009: val_loss improved from 0.00164 to 0.00122, saving model to best_model.h5\n",
      "107/107 [==============================] - 2s 19ms/step - loss: 0.0020 - val_loss: 0.0012\n",
      "Epoch 10/200\n",
      "106/107 [============================>.] - ETA: 0s - loss: 0.0018\n",
      "Epoch 00010: val_loss improved from 0.00122 to 0.00081, saving model to best_model.h5\n",
      "107/107 [==============================] - 2s 15ms/step - loss: 0.0018 - val_loss: 8.0782e-04\n",
      "Epoch 11/200\n",
      "107/107 [==============================] - ETA: 0s - loss: 0.0018\n",
      "Epoch 00011: val_loss did not improve from 0.00081\n",
      "107/107 [==============================] - 2s 16ms/step - loss: 0.0018 - val_loss: 8.5764e-04\n",
      "Epoch 12/200\n",
      "106/107 [============================>.] - ETA: 0s - loss: 0.0013\n",
      "Epoch 00012: val_loss did not improve from 0.00081\n",
      "107/107 [==============================] - 2s 19ms/step - loss: 0.0013 - val_loss: 0.0017\n",
      "Epoch 13/200\n",
      "106/107 [============================>.] - ETA: 0s - loss: 0.0010    \n",
      "Epoch 00013: val_loss did not improve from 0.00081\n",
      "107/107 [==============================] - 2s 19ms/step - loss: 0.0010 - val_loss: 9.8038e-04\n",
      "Epoch 14/200\n",
      "105/107 [============================>.] - ETA: 0s - loss: 7.6390e-04\n",
      "Epoch 00014: val_loss did not improve from 0.00081\n",
      "107/107 [==============================] - 3s 28ms/step - loss: 7.8108e-04 - val_loss: 0.0011\n",
      "Epoch 15/200\n",
      "106/107 [============================>.] - ETA: 0s - loss: 8.4179e-04\n",
      "Epoch 00015: val_loss improved from 0.00081 to 0.00067, saving model to best_model.h5\n",
      "107/107 [==============================] - 2s 15ms/step - loss: 8.4153e-04 - val_loss: 6.7368e-04\n",
      "Epoch 16/200\n",
      "104/107 [============================>.] - ETA: 0s - loss: 5.2306e-04\n",
      "Epoch 00016: val_loss did not improve from 0.00067\n",
      "107/107 [==============================] - 2s 15ms/step - loss: 5.4639e-04 - val_loss: 9.4424e-04\n",
      "Epoch 17/200\n",
      "104/107 [============================>.] - ETA: 0s - loss: 5.1238e-04\n",
      "Epoch 00017: val_loss did not improve from 0.00067\n",
      "107/107 [==============================] - 1s 13ms/step - loss: 5.2594e-04 - val_loss: 9.9720e-04\n",
      "Epoch 18/200\n",
      "105/107 [============================>.] - ETA: 0s - loss: 4.4476e-04\n",
      "Epoch 00018: val_loss did not improve from 0.00067\n",
      "107/107 [==============================] - 2s 14ms/step - loss: 4.5783e-04 - val_loss: 8.8627e-04\n",
      "Epoch 19/200\n",
      "105/107 [============================>.] - ETA: 0s - loss: 4.9150e-04\n",
      "Epoch 00019: val_loss did not improve from 0.00067\n",
      "107/107 [==============================] - 1s 14ms/step - loss: 5.0113e-04 - val_loss: 9.1404e-04\n",
      "Epoch 20/200\n",
      "106/107 [============================>.] - ETA: 0s - loss: 3.9383e-04\n",
      "Epoch 00020: val_loss did not improve from 0.00067\n",
      "107/107 [==============================] - 1s 14ms/step - loss: 3.9519e-04 - val_loss: 6.9047e-04\n",
      "Epoch 21/200\n",
      "104/107 [============================>.] - ETA: 0s - loss: 5.2494e-04\n",
      "Epoch 00021: val_loss did not improve from 0.00067\n",
      "107/107 [==============================] - 2s 14ms/step - loss: 5.3383e-04 - val_loss: 0.0016\n",
      "Epoch 22/200\n",
      "106/107 [============================>.] - ETA: 0s - loss: 5.0954e-04\n",
      "Epoch 00022: val_loss improved from 0.00067 to 0.00053, saving model to best_model.h5\n",
      "107/107 [==============================] - 2s 15ms/step - loss: 5.1221e-04 - val_loss: 5.2948e-04\n",
      "Epoch 23/200\n",
      "106/107 [============================>.] - ETA: 0s - loss: 0.0015 \n",
      "Epoch 00023: val_loss did not improve from 0.00053\n",
      "107/107 [==============================] - 2s 15ms/step - loss: 0.0015 - val_loss: 0.0030\n",
      "Epoch 24/200\n",
      "104/107 [============================>.] - ETA: 0s - loss: 0.0012\n",
      "Epoch 00024: val_loss did not improve from 0.00053\n",
      "107/107 [==============================] - 1s 13ms/step - loss: 0.0012 - val_loss: 0.0021\n",
      "Epoch 25/200\n",
      "106/107 [============================>.] - ETA: 0s - loss: 0.0015\n",
      "Epoch 00025: val_loss did not improve from 0.00053\n",
      "107/107 [==============================] - 2s 17ms/step - loss: 0.0015 - val_loss: 0.0013\n",
      "Epoch 26/200\n",
      "105/107 [============================>.] - ETA: 0s - loss: 0.0014\n",
      "Epoch 00026: val_loss did not improve from 0.00053\n",
      "107/107 [==============================] - 1s 14ms/step - loss: 0.0014 - val_loss: 6.3031e-04\n",
      "Epoch 27/200\n",
      "105/107 [============================>.] - ETA: 0s - loss: 0.0015\n",
      "Epoch 00027: val_loss improved from 0.00053 to 0.00052, saving model to best_model.h5\n",
      "107/107 [==============================] - 2s 15ms/step - loss: 0.0015 - val_loss: 5.1656e-04\n",
      "Epoch 28/200\n",
      "105/107 [============================>.] - ETA: 0s - loss: 0.0011   \n",
      "Epoch 00028: val_loss did not improve from 0.00052\n",
      "107/107 [==============================] - 2s 17ms/step - loss: 0.0011 - val_loss: 0.0020\n",
      "Epoch 29/200\n",
      "104/107 [============================>.] - ETA: 0s - loss: 6.0825e-04\n",
      "Epoch 00029: val_loss did not improve from 0.00052\n",
      "107/107 [==============================] - 2s 14ms/step - loss: 6.1643e-04 - val_loss: 0.0011\n",
      "Epoch 30/200\n",
      "105/107 [============================>.] - ETA: 0s - loss: 5.0906e-04\n",
      "Epoch 00030: val_loss did not improve from 0.00052\n",
      "107/107 [==============================] - 2s 15ms/step - loss: 5.1786e-04 - val_loss: 7.9567e-04\n",
      "Epoch 31/200\n",
      "105/107 [============================>.] - ETA: 0s - loss: 5.0804e-04\n",
      "Epoch 00031: val_loss did not improve from 0.00052\n",
      "107/107 [==============================] - 2s 15ms/step - loss: 5.2240e-04 - val_loss: 8.7437e-04\n",
      "Epoch 32/200\n",
      "105/107 [============================>.] - ETA: 0s - loss: 4.4789e-04\n",
      "Epoch 00032: val_loss did not improve from 0.00052\n",
      "107/107 [==============================] - 2s 16ms/step - loss: 4.5542e-04 - val_loss: 6.4534e-04\n",
      "Epoch 33/200\n",
      "104/107 [============================>.] - ETA: 0s - loss: 3.8299e-04\n",
      "Epoch 00033: val_loss did not improve from 0.00052\n",
      "107/107 [==============================] - 2s 14ms/step - loss: 3.9205e-04 - val_loss: 6.5005e-04\n",
      "Epoch 34/200\n",
      "105/107 [============================>.] - ETA: 0s - loss: 3.4837e-04\n",
      "Epoch 00034: val_loss improved from 0.00052 to 0.00052, saving model to best_model.h5\n",
      "107/107 [==============================] - 1s 14ms/step - loss: 3.5333e-04 - val_loss: 5.1651e-04\n",
      "Epoch 35/200\n",
      "105/107 [============================>.] - ETA: 0s - loss: 3.5704e-04\n",
      "Epoch 00035: val_loss did not improve from 0.00052\n",
      "107/107 [==============================] - 1s 14ms/step - loss: 3.6549e-04 - val_loss: 8.3141e-04\n",
      "Epoch 36/200\n",
      "105/107 [============================>.] - ETA: 0s - loss: 4.0203e-04\n",
      "Epoch 00036: val_loss did not improve from 0.00052\n",
      "107/107 [==============================] - 2s 15ms/step - loss: 4.0868e-04 - val_loss: 7.8882e-04\n",
      "Epoch 37/200\n",
      "105/107 [============================>.] - ETA: 0s - loss: 4.3394e-04\n",
      "Epoch 00037: val_loss did not improve from 0.00052\n",
      "107/107 [==============================] - 1s 13ms/step - loss: 4.3765e-04 - val_loss: 0.0010\n",
      "Epoch 38/200\n",
      "105/107 [============================>.] - ETA: 0s - loss: 3.6792e-04\n",
      "Epoch 00038: val_loss did not improve from 0.00052\n",
      "107/107 [==============================] - 1s 13ms/step - loss: 3.7881e-04 - val_loss: 7.9184e-04\n",
      "Epoch 39/200\n",
      "104/107 [============================>.] - ETA: 0s - loss: 4.4901e-04\n",
      "Epoch 00039: val_loss did not improve from 0.00052\n",
      "107/107 [==============================] - 2s 15ms/step - loss: 4.5741e-04 - val_loss: 9.4135e-04\n",
      "Epoch 40/200\n",
      "103/107 [===========================>..] - ETA: 0s - loss: 4.3373e-04\n",
      "Epoch 00040: val_loss did not improve from 0.00052\n",
      "107/107 [==============================] - 2s 18ms/step - loss: 4.6360e-04 - val_loss: 5.9588e-04\n",
      "Epoch 41/200\n",
      "104/107 [============================>.] - ETA: 0s - loss: 6.1247e-04\n",
      "Epoch 00041: val_loss did not improve from 0.00052\n",
      "107/107 [==============================] - 1s 13ms/step - loss: 6.1686e-04 - val_loss: 9.1409e-04\n",
      "Epoch 42/200\n",
      "105/107 [============================>.] - ETA: 0s - loss: 6.5152e-04\n",
      "Epoch 00042: val_loss did not improve from 0.00052\n",
      "107/107 [==============================] - 2s 18ms/step - loss: 6.6213e-04 - val_loss: 5.4440e-04\n",
      "Epoch 43/200\n",
      "106/107 [============================>.] - ETA: 0s - loss: 0.0012 \n",
      "Epoch 00043: val_loss did not improve from 0.00052\n",
      "107/107 [==============================] - 2s 19ms/step - loss: 0.0012 - val_loss: 0.0013\n",
      "Epoch 44/200\n",
      "105/107 [============================>.] - ETA: 0s - loss: 7.2995e-04\n",
      "Epoch 00044: val_loss did not improve from 0.00052\n",
      "107/107 [==============================] - 2s 19ms/step - loss: 7.3639e-04 - val_loss: 5.2254e-04\n",
      "Epoch 00044: early stopping\n"
     ]
    }
   ],
   "source": [
    "model = build_lstm_model(X_train, output_size=1, neurons=lstm_neurons, dropout=dropout, loss=loss, optimizer=optimizer)\n",
    "history = model.fit(X_train, y_train, validation_data=(X_val, y_val), epochs=epochs, batch_size=batch_size, verbose=1, shuffle=False, callbacks=[es, mc])"
   ]
  },
  {
   "cell_type": "code",
   "execution_count": 12,
   "metadata": {},
   "outputs": [
    {
     "name": "stdout",
     "output_type": "stream",
     "text": [
      "Train: 0.000, Test: 0.001\n"
     ]
    }
   ],
   "source": [
    "# load the best modell\n",
    "model = load_model('best_model.h5')\n",
    "\n",
    "# evaluate the model\n",
    "train_acc = model.evaluate(X_train, y_train, verbose=0)\n",
    "test_acc = model.evaluate(X_test, y_test, verbose=0)\n",
    "print('Train: %.3f, Test: %.3f' % (train_acc, test_acc))"
   ]
  },
  {
   "cell_type": "code",
   "execution_count": 13,
   "metadata": {
    "colab": {
     "base_uri": "https://localhost:8080/",
     "height": 204
    },
    "id": "8yi9lvtOmRRM",
    "outputId": "0abee8bb-e7a8-4729-d35e-40d7bde97d40"
   },
   "outputs": [
    {
     "data": {
      "text/html": [
       "<div>\n",
       "<style scoped>\n",
       "    .dataframe tbody tr th:only-of-type {\n",
       "        vertical-align: middle;\n",
       "    }\n",
       "\n",
       "    .dataframe tbody tr th {\n",
       "        vertical-align: top;\n",
       "    }\n",
       "\n",
       "    .dataframe thead th {\n",
       "        text-align: right;\n",
       "    }\n",
       "</style>\n",
       "<table border=\"1\" class=\"dataframe\">\n",
       "  <thead>\n",
       "    <tr style=\"text-align: right;\">\n",
       "      <th></th>\n",
       "      <th>high</th>\n",
       "      <th>low</th>\n",
       "      <th>open</th>\n",
       "      <th>volumefrom</th>\n",
       "      <th>volumeto</th>\n",
       "      <th>close</th>\n",
       "    </tr>\n",
       "  </thead>\n",
       "  <tbody>\n",
       "    <tr>\n",
       "      <th>0</th>\n",
       "      <td>0.04951</td>\n",
       "      <td>0.01</td>\n",
       "      <td>0.04951</td>\n",
       "      <td>0.0</td>\n",
       "      <td>0.0</td>\n",
       "      <td>9932.226166</td>\n",
       "    </tr>\n",
       "    <tr>\n",
       "      <th>1</th>\n",
       "      <td>0.04951</td>\n",
       "      <td>0.01</td>\n",
       "      <td>0.04951</td>\n",
       "      <td>0.0</td>\n",
       "      <td>0.0</td>\n",
       "      <td>9992.352271</td>\n",
       "    </tr>\n",
       "    <tr>\n",
       "      <th>2</th>\n",
       "      <td>0.04951</td>\n",
       "      <td>0.01</td>\n",
       "      <td>0.04951</td>\n",
       "      <td>0.0</td>\n",
       "      <td>0.0</td>\n",
       "      <td>9728.943108</td>\n",
       "    </tr>\n",
       "    <tr>\n",
       "      <th>3</th>\n",
       "      <td>0.04951</td>\n",
       "      <td>0.01</td>\n",
       "      <td>0.04951</td>\n",
       "      <td>0.0</td>\n",
       "      <td>0.0</td>\n",
       "      <td>9639.783073</td>\n",
       "    </tr>\n",
       "    <tr>\n",
       "      <th>4</th>\n",
       "      <td>0.04951</td>\n",
       "      <td>0.01</td>\n",
       "      <td>0.04951</td>\n",
       "      <td>0.0</td>\n",
       "      <td>0.0</td>\n",
       "      <td>9670.751292</td>\n",
       "    </tr>\n",
       "  </tbody>\n",
       "</table>\n",
       "</div>"
      ],
      "text/plain": [
       "      high   low     open  volumefrom  volumeto        close\n",
       "0  0.04951  0.01  0.04951         0.0       0.0  9932.226166\n",
       "1  0.04951  0.01  0.04951         0.0       0.0  9992.352271\n",
       "2  0.04951  0.01  0.04951         0.0       0.0  9728.943108\n",
       "3  0.04951  0.01  0.04951         0.0       0.0  9639.783073\n",
       "4  0.04951  0.01  0.04951         0.0       0.0  9670.751292"
      ]
     },
     "execution_count": 13,
     "metadata": {},
     "output_type": "execute_result"
    }
   ],
   "source": [
    "preds = model.predict(X_test).squeeze()\n",
    "\n",
    "arr = np.zeros([preds.shape[0], 6])\n",
    "arr[:, 5] = preds\n",
    "\n",
    "res = scaler.inverse_transform(arr)\n",
    "\n",
    "df_res = pd.DataFrame(res, columns=df.columns)\n",
    "\n",
    "df_res.head()"
   ]
  },
  {
   "cell_type": "code",
   "execution_count": 14,
   "metadata": {},
   "outputs": [
    {
     "data": {
      "text/plain": [
       "array([[4.95100000e-02, 1.00000000e-02, 4.95100000e-02, 0.00000000e+00,\n",
       "        0.00000000e+00, 9.93222617e+03],\n",
       "       [4.95100000e-02, 1.00000000e-02, 4.95100000e-02, 0.00000000e+00,\n",
       "        0.00000000e+00, 9.99235227e+03],\n",
       "       [4.95100000e-02, 1.00000000e-02, 4.95100000e-02, 0.00000000e+00,\n",
       "        0.00000000e+00, 9.72894311e+03],\n",
       "       ...,\n",
       "       [4.95100000e-02, 1.00000000e-02, 4.95100000e-02, 0.00000000e+00,\n",
       "        0.00000000e+00, 1.65232552e+04],\n",
       "       [4.95100000e-02, 1.00000000e-02, 4.95100000e-02, 0.00000000e+00,\n",
       "        0.00000000e+00, 1.69307646e+04],\n",
       "       [4.95100000e-02, 1.00000000e-02, 4.95100000e-02, 0.00000000e+00,\n",
       "        0.00000000e+00, 1.75760571e+04]])"
      ]
     },
     "execution_count": 14,
     "metadata": {},
     "output_type": "execute_result"
    }
   ],
   "source": [
    "res"
   ]
  },
  {
   "cell_type": "code",
   "execution_count": 15,
   "metadata": {
    "colab": {
     "base_uri": "https://localhost:8080/",
     "height": 446
    },
    "id": "vMMtJeVAhDRT",
    "outputId": "a435c2bc-52d7-4547-a60b-315357c7cd9f",
    "scrolled": true
   },
   "outputs": [
    {
     "data": {
      "image/png": "[encoded data removed]",
      "text/plain": [
       "<Figure size 936x504 with 1 Axes>"
      ]
     },
     "metadata": {
      "needs_background": "light"
     },
     "output_type": "display_data"
    }
   ],
   "source": [
    "predicted_closing_prices = df_res[target_col].values\n",
    "actual_closing_prices = test_df[target_col][window_len:]\n",
    "predicted_closing_prices = pd.Series(index=actual_closing_prices.index, data=predicted_closing_prices)\n",
    "\n",
    "fig, ax = plt.subplots(1, figsize=(13, 7))\n",
    "ax.plot(actual_closing_prices, label='actual')\n",
    "ax.plot(predicted_closing_prices, label='predicted')\n",
    "ax.set_ylabel('price [USD]', fontsize=14)\n",
    "ax.set_title('Evaluation', fontsize=16)\n",
    "ax.legend(loc='best', fontsize=16)\n",
    "plt.show()"
   ]
  },
  {
   "cell_type": "code",
   "execution_count": 16,
   "metadata": {
    "scrolled": true
   },
   "outputs": [],
   "source": [
    "res_data = {'time': test_df.index[window_len:], 'actual': test_df[target_col][window_len:], 'preds' :predicted_closing_prices}\n",
    "res_df = pd.DataFrame(data=res_data)\n",
    "res_df = res_df.set_index('time')"
   ]
  },
  {
   "cell_type": "code",
   "execution_count": 17,
   "metadata": {
    "scrolled": true
   },
   "outputs": [
    {
     "data": {
      "text/html": [
       "<div>\n",
       "<style scoped>\n",
       "    .dataframe tbody tr th:only-of-type {\n",
       "        vertical-align: middle;\n",
       "    }\n",
       "\n",
       "    .dataframe tbody tr th {\n",
       "        vertical-align: top;\n",
       "    }\n",
       "\n",
       "    .dataframe thead th {\n",
       "        text-align: right;\n",
       "    }\n",
       "</style>\n",
       "<table border=\"1\" class=\"dataframe\">\n",
       "  <thead>\n",
       "    <tr style=\"text-align: right;\">\n",
       "      <th></th>\n",
       "      <th>actual</th>\n",
       "      <th>preds</th>\n",
       "    </tr>\n",
       "    <tr>\n",
       "      <th>time</th>\n",
       "      <th></th>\n",
       "      <th></th>\n",
       "    </tr>\n",
       "  </thead>\n",
       "  <tbody>\n",
       "    <tr>\n",
       "      <th>2020-06-10</th>\n",
       "      <td>9891.84</td>\n",
       "      <td>9932.226166</td>\n",
       "    </tr>\n",
       "    <tr>\n",
       "      <th>2020-06-11</th>\n",
       "      <td>9268.13</td>\n",
       "      <td>9992.352271</td>\n",
       "    </tr>\n",
       "    <tr>\n",
       "      <th>2020-06-12</th>\n",
       "      <td>9464.23</td>\n",
       "      <td>9728.943108</td>\n",
       "    </tr>\n",
       "    <tr>\n",
       "      <th>2020-06-13</th>\n",
       "      <td>9474.65</td>\n",
       "      <td>9639.783073</td>\n",
       "    </tr>\n",
       "    <tr>\n",
       "      <th>2020-06-14</th>\n",
       "      <td>9333.70</td>\n",
       "      <td>9670.751292</td>\n",
       "    </tr>\n",
       "  </tbody>\n",
       "</table>\n",
       "</div>"
      ],
      "text/plain": [
       "             actual        preds\n",
       "time                            \n",
       "2020-06-10  9891.84  9932.226166\n",
       "2020-06-11  9268.13  9992.352271\n",
       "2020-06-12  9464.23  9728.943108\n",
       "2020-06-13  9474.65  9639.783073\n",
       "2020-06-14  9333.70  9670.751292"
      ]
     },
     "execution_count": 17,
     "metadata": {},
     "output_type": "execute_result"
    }
   ],
   "source": [
    "res_df.head()"
   ]
  },
  {
   "cell_type": "code",
   "execution_count": 18,
   "metadata": {},
   "outputs": [],
   "source": [
    "res_df.to_json(r'results.json')"
   ]
  },
  {
   "cell_type": "code",
   "execution_count": 19,
   "metadata": {},
   "outputs": [
    {
     "name": "stdout",
     "output_type": "stream",
     "text": [
      "('Failed to import pydot. You must `pip install pydot` and install graphviz (https://graphviz.gitlab.io/download/), ', 'for `pydotprint` to work.')\n"
     ]
    }
   ],
   "source": [
    "tf.keras.utils.plot_model(model, to_file='model.png', show_shapes=True)"
   ]
  },
  {
   "cell_type": "code",
   "execution_count": 20,
   "metadata": {},
   "outputs": [
    {
     "name": "stdout",
     "output_type": "stream",
     "text": [
      "<tensorflow.python.keras.layers.recurrent_v2.LSTM object at 0x7fac9d414e20>\n",
      "<tensorflow.python.keras.layers.recurrent_v2.LSTM object at 0x7fac8c20a340>\n",
      "<tensorflow.python.keras.layers.core.Dropout object at 0x7fac8c28f130>\n",
      "<tensorflow.python.keras.layers.core.Dense object at 0x7fac8c1df310>\n",
      "<tensorflow.python.keras.layers.core.Activation object at 0x7fac8c1558e0>\n"
     ]
    }
   ],
   "source": [
    "for layer in model.layers:\n",
    "    print(layer)\n"
   ]
  },
  {
   "cell_type": "code",
   "execution_count": 21,
   "metadata": {},
   "outputs": [
    {
     "name": "stdout",
     "output_type": "stream",
     "text": [
      "input (None, 15, 6)\n",
      "output (None, 15, 100)\n",
      "input (None, 15, 100)\n",
      "output (None, 100)\n",
      "input (None, 100)\n",
      "output (None, 100)\n",
      "input (None, 100)\n",
      "output (None, 1)\n",
      "input (None, 1)\n",
      "output (None, 1)\n"
     ]
    }
   ],
   "source": [
    "for layer in model.layers:\n",
    "    print('input', layer.input_shape)\n",
    "    print('output', layer.output_shape)\n"
   ]
  },
  {
   "cell_type": "code",
   "execution_count": null,
   "metadata": {},
   "outputs": [],
   "source": []
  }
 ],
 "metadata": {
  "accelerator": "GPU",
  "colab": {
   "collapsed_sections": [],
   "name": "Predict BitCoin.ipynb",
   "provenance": [],
   "toc_visible": true
  },
  "kernelspec": {
   "display_name": "crypto-v3.8",
   "language": "python",
   "name": "crypto-v3.8"
  },
  "language_info": {
   "codemirror_mode": {
    "name": "ipython",
    "version": 3
   },
   "file_extension": ".py",
   "mimetype": "text/x-python",
   "name": "python",
   "nbconvert_exporter": "python",
   "pygments_lexer": "ipython3",
   "version": "3.8.5"
  }
 },
 "nbformat": 4,
 "nbformat_minor": 4
}
