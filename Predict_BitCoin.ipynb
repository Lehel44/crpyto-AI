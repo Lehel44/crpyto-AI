{
  "nbformat": 4,
  "nbformat_minor": 0,
  "metadata": {
    "colab": {
      "name": "Predict BitCoin 2.ipynb",
      "provenance": [],
      "collapsed_sections": [],
      "toc_visible": true,
      "include_colab_link": true
    },
    "kernelspec": {
      "name": "python3",
      "display_name": "Python 3"
    },
    "accelerator": "GPU"
  },
  "cells": [
    {
      "cell_type": "markdown",
      "metadata": {
        "id": "view-in-github",
        "colab_type": "text"
      },
      "source": [
        "<a href=\"https://colab.research.google.com/github/Lehel44/crpyto-AI/blob/main/Predict_BitCoin.ipynb\" target=\"_parent\"><img src=\"https://colab.research.google.com/assets/colab-badge.svg\" alt=\"Open In Colab\"/></a>"
      ]
    },
    {
      "cell_type": "code",
      "metadata": {
        "id": "AjnNx60adMo5"
      },
      "source": [
        "import json\n",
        "import requests\n",
        "from keras.models import Sequential\n",
        "from keras.layers import Activation, Dense, Dropout, LSTM\n",
        "import matplotlib.pyplot as plt\n",
        "import numpy as np\n",
        "import pandas as pd\n",
        "import seaborn as sns\n",
        "from sklearn.metrics import mean_absolute_error\n",
        "%matplotlib inline\n",
        "from sklearn.preprocessing import MinMaxScaler"
      ],
      "execution_count": 58,
      "outputs": []
    },
    {
      "cell_type": "code",
      "metadata": {
        "colab": {
          "base_uri": "https://localhost:8080/",
          "height": 450
        },
        "id": "SS6yHZW6dXAd",
        "outputId": "8bf7baf8-678b-4906-c437-85d91dcdd5d6"
      },
      "source": [
        "with open('/content/BTC_hist_daily_prices.json') as json_file:\n",
        "    data = json.load(json_file)\n",
        "\n",
        "df = pd.DataFrame(data['Data']['Data'])\n",
        "df = df.set_index('time')\n",
        "df.index = pd.to_datetime(df.index, unit='s')\n",
        "df = df.drop(['conversionType', 'conversionSymbol'], axis=1 )\n",
        "target_col = 'close'\n",
        "\n",
        "df.head(100)"
      ],
      "execution_count": 65,
      "outputs": [
        {
          "output_type": "execute_result",
          "data": {
            "text/html": [
              "<div>\n",
              "<style scoped>\n",
              "    .dataframe tbody tr th:only-of-type {\n",
              "        vertical-align: middle;\n",
              "    }\n",
              "\n",
              "    .dataframe tbody tr th {\n",
              "        vertical-align: top;\n",
              "    }\n",
              "\n",
              "    .dataframe thead th {\n",
              "        text-align: right;\n",
              "    }\n",
              "</style>\n",
              "<table border=\"1\" class=\"dataframe\">\n",
              "  <thead>\n",
              "    <tr style=\"text-align: right;\">\n",
              "      <th></th>\n",
              "      <th>high</th>\n",
              "      <th>low</th>\n",
              "      <th>open</th>\n",
              "      <th>volumefrom</th>\n",
              "      <th>volumeto</th>\n",
              "      <th>close</th>\n",
              "    </tr>\n",
              "    <tr>\n",
              "      <th>time</th>\n",
              "      <th></th>\n",
              "      <th></th>\n",
              "      <th></th>\n",
              "      <th></th>\n",
              "      <th></th>\n",
              "      <th></th>\n",
              "    </tr>\n",
              "  </thead>\n",
              "  <tbody>\n",
              "    <tr>\n",
              "      <th>2010-07-17</th>\n",
              "      <td>0.04951</td>\n",
              "      <td>0.04951</td>\n",
              "      <td>0.04951</td>\n",
              "      <td>20.00</td>\n",
              "      <td>0.9902</td>\n",
              "      <td>0.04951</td>\n",
              "    </tr>\n",
              "    <tr>\n",
              "      <th>2010-07-18</th>\n",
              "      <td>0.08585</td>\n",
              "      <td>0.05941</td>\n",
              "      <td>0.04951</td>\n",
              "      <td>75.01</td>\n",
              "      <td>5.0920</td>\n",
              "      <td>0.08584</td>\n",
              "    </tr>\n",
              "    <tr>\n",
              "      <th>2010-07-19</th>\n",
              "      <td>0.09307</td>\n",
              "      <td>0.07723</td>\n",
              "      <td>0.08584</td>\n",
              "      <td>574.00</td>\n",
              "      <td>49.6600</td>\n",
              "      <td>0.08080</td>\n",
              "    </tr>\n",
              "    <tr>\n",
              "      <th>2010-07-20</th>\n",
              "      <td>0.08181</td>\n",
              "      <td>0.07426</td>\n",
              "      <td>0.08080</td>\n",
              "      <td>262.00</td>\n",
              "      <td>20.5900</td>\n",
              "      <td>0.07474</td>\n",
              "    </tr>\n",
              "    <tr>\n",
              "      <th>2010-07-21</th>\n",
              "      <td>0.07921</td>\n",
              "      <td>0.06634</td>\n",
              "      <td>0.07474</td>\n",
              "      <td>575.00</td>\n",
              "      <td>42.2600</td>\n",
              "      <td>0.07921</td>\n",
              "    </tr>\n",
              "    <tr>\n",
              "      <th>...</th>\n",
              "      <td>...</td>\n",
              "      <td>...</td>\n",
              "      <td>...</td>\n",
              "      <td>...</td>\n",
              "      <td>...</td>\n",
              "      <td>...</td>\n",
              "    </tr>\n",
              "    <tr>\n",
              "      <th>2010-10-20</th>\n",
              "      <td>0.10300</td>\n",
              "      <td>0.09400</td>\n",
              "      <td>0.09700</td>\n",
              "      <td>31855.00</td>\n",
              "      <td>3221.0800</td>\n",
              "      <td>0.09900</td>\n",
              "    </tr>\n",
              "    <tr>\n",
              "      <th>2010-10-21</th>\n",
              "      <td>0.10900</td>\n",
              "      <td>0.09700</td>\n",
              "      <td>0.09900</td>\n",
              "      <td>44867.00</td>\n",
              "      <td>4616.8500</td>\n",
              "      <td>0.10700</td>\n",
              "    </tr>\n",
              "    <tr>\n",
              "      <th>2010-10-22</th>\n",
              "      <td>0.10900</td>\n",
              "      <td>0.10150</td>\n",
              "      <td>0.10700</td>\n",
              "      <td>34603.91</td>\n",
              "      <td>3665.4300</td>\n",
              "      <td>0.10250</td>\n",
              "    </tr>\n",
              "    <tr>\n",
              "      <th>2010-10-23</th>\n",
              "      <td>0.10900</td>\n",
              "      <td>0.10450</td>\n",
              "      <td>0.10250</td>\n",
              "      <td>4423.47</td>\n",
              "      <td>481.5200</td>\n",
              "      <td>0.10550</td>\n",
              "    </tr>\n",
              "    <tr>\n",
              "      <th>2010-10-24</th>\n",
              "      <td>0.19000</td>\n",
              "      <td>0.10800</td>\n",
              "      <td>0.10550</td>\n",
              "      <td>13800.23</td>\n",
              "      <td>1560.6100</td>\n",
              "      <td>0.11500</td>\n",
              "    </tr>\n",
              "  </tbody>\n",
              "</table>\n",
              "<p>100 rows × 6 columns</p>\n",
              "</div>"
            ],
            "text/plain": [
              "               high      low     open  volumefrom   volumeto    close\n",
              "time                                                                 \n",
              "2010-07-17  0.04951  0.04951  0.04951       20.00     0.9902  0.04951\n",
              "2010-07-18  0.08585  0.05941  0.04951       75.01     5.0920  0.08584\n",
              "2010-07-19  0.09307  0.07723  0.08584      574.00    49.6600  0.08080\n",
              "2010-07-20  0.08181  0.07426  0.08080      262.00    20.5900  0.07474\n",
              "2010-07-21  0.07921  0.06634  0.07474      575.00    42.2600  0.07921\n",
              "...             ...      ...      ...         ...        ...      ...\n",
              "2010-10-20  0.10300  0.09400  0.09700    31855.00  3221.0800  0.09900\n",
              "2010-10-21  0.10900  0.09700  0.09900    44867.00  4616.8500  0.10700\n",
              "2010-10-22  0.10900  0.10150  0.10700    34603.91  3665.4300  0.10250\n",
              "2010-10-23  0.10900  0.10450  0.10250     4423.47   481.5200  0.10550\n",
              "2010-10-24  0.19000  0.10800  0.10550    13800.23  1560.6100  0.11500\n",
              "\n",
              "[100 rows x 6 columns]"
            ]
          },
          "metadata": {
            "tags": []
          },
          "execution_count": 65
        }
      ]
    },
    {
      "cell_type": "code",
      "metadata": {
        "id": "kYYKJk4jd8LK"
      },
      "source": [
        "def train_test_split(df, test_size=0.2):\n",
        "    split_row = len(df) - int(test_size * len(df))\n",
        "    train_data = df.iloc[:split_row]\n",
        "    test_data = df.iloc[split_row:]\n",
        "    return train_data, test_data\n",
        "\n",
        "train, test = train_test_split(df, test_size=0.2)"
      ],
      "execution_count": 66,
      "outputs": []
    },
    {
      "cell_type": "code",
      "metadata": {
        "colab": {
          "base_uri": "https://localhost:8080/",
          "height": 428
        },
        "id": "mqgciSpHfoy8",
        "outputId": "685c32ff-7994-4078-ff27-fb44519eb7ac"
      },
      "source": [
        "def line_plot(line1, line2, label1=None, label2=None, title='', lw=2):\n",
        "    fig, ax = plt.subplots(1, figsize=(13, 7))\n",
        "    ax.plot(line1, label=label1, linewidth=lw)\n",
        "    ax.plot(line2, label=label2, linewidth=lw)\n",
        "    ax.set_ylabel('price [CAD]', fontsize=14)\n",
        "    ax.set_title(title, fontsize=16)\n",
        "    ax.legend(loc='best', fontsize=16)\n",
        "    \n",
        "line_plot(train[target_col], test[target_col], 'training', 'test', title='')"
      ],
      "execution_count": 67,
      "outputs": [
        {
          "output_type": "display_data",
          "data": {
            "image/png": "[encoded data removed]",
            "text/plain": [
              "<Figure size 936x504 with 1 Axes>"
            ]
          },
          "metadata": {
            "tags": [],
            "needs_background": "light"
          }
        }
      ]
    },
    {
      "cell_type": "code",
      "metadata": {
        "colab": {
          "base_uri": "https://localhost:8080/"
        },
        "id": "hRUUxbXB6NpH",
        "outputId": "18abcec2-81a5-4268-d9cb-cbdc789885b7"
      },
      "source": [
        "# Normalize data with min-max scaler\r\n",
        "\r\n",
        "scaler = MinMaxScaler()\r\n",
        "print(scaler.fit(df))\r\n",
        "print(scaler.transform(df))\r\n"
      ],
      "execution_count": 68,
      "outputs": [
        {
          "output_type": "stream",
          "text": [
            "MinMaxScaler(copy=True, feature_range=(0, 1))\n",
            "[[0.00000000e+00 2.10709886e-06 0.00000000e+00 3.49436949e-05\n",
            "  1.58540276e-10 0.00000000e+00]\n",
            " [1.82505392e-06 2.63507352e-06 0.00000000e+00 1.31056328e-04\n",
            "  8.15276800e-10 1.84539703e-06]\n",
            " [2.18765406e-06 3.58542790e-06 1.84539703e-06 1.00288404e-03\n",
            "  7.95103022e-09 1.58938819e-06]\n",
            " ...\n",
            " [9.21425754e-01 9.35610557e-01 9.01102872e-01 4.74555644e-02\n",
            "  7.84023439e-02 9.24434725e-01]\n",
            " [9.96908357e-01 9.70567813e-01 9.24434725e-01 1.36254726e-01\n",
            "  2.39169417e-01 1.00000000e+00]\n",
            " [1.00000000e+00 9.70308625e-01 1.00000000e+00 1.53313015e-01\n",
            "  2.68948489e-01 9.70661591e-01]]\n"
          ],
          "name": "stdout"
        }
      ]
    },
    {
      "cell_type": "code",
      "metadata": {
        "id": "u3EtleUrgD3l"
      },
      "source": [
        "def normalise_zero_base(df):\n",
        "    return df / df.iloc[0][0] - 1\n",
        "\n",
        "def normalise_min_max(df):\n",
        "    return (df - df.min()) / (data.max() - df.min())\n",
        "\n",
        "def extract_window_data(df, window_len=5, zero_base=True):\n",
        "    window_data = []\n",
        "    for idx in range(len(df) - window_len):\n",
        "        tmp = df[idx: (idx + window_len)].copy()\n",
        "        if zero_base:\n",
        "            tmp = normalise_zero_base(tmp)\n",
        "        window_data.append(tmp.values)\n",
        "    \n",
        "    return np.array(window_data)\n",
        "\n",
        "def prepare_data(df, target_col, window_len=10, zero_base=True, test_size=0.2):\n",
        "    train_data, test_data = train_test_split(df, test_size=test_size)\n",
        "    X_train = extract_window_data(train_data, window_len, zero_base)\n",
        "    X_test = extract_window_data(test_data, window_len, zero_base)\n",
        "    y_train = train_data[target_col][window_len:].values\n",
        "    y_test = test_data[target_col][window_len:].values\n",
        "    if zero_base:\n",
        "        y_train = y_train / train_data[target_col][:-window_len].values - 1\n",
        "        y_test = y_test / test_data[target_col][:-window_len].values - 1\n",
        "\n",
        "    return train_data, test_data, X_train, X_test, y_train, y_test\n",
        "\n",
        "def build_lstm_model(input_data, output_size, neurons=100, activ_func='linear', dropout=0.2, loss='mse', optimizer='adam'):\n",
        "    model = Sequential()\n",
        "    model.add(LSTM(neurons, input_shape =(input_data.shape[1],input_data.shape[2])))\n",
        "    model.add(Dropout(dropout))\n",
        "    model.add(Dense(units=output_size))\n",
        "    model.add(Activation(activ_func))\n",
        "    model.compile(loss=loss, optimizer=optimizer)\n",
        "    \n",
        "    return model"
      ],
      "execution_count": 69,
      "outputs": []
    },
    {
      "cell_type": "code",
      "metadata": {
        "id": "VWxIw0FCgUUa"
      },
      "source": [
        "np.random.seed(42)\n",
        "window_len = 5\n",
        "test_size = 0.2\n",
        "zero_base = False\n",
        "lstm_neurons = 100\n",
        "epochs = 20\n",
        "batch_size = 32\n",
        "loss = 'mse'\n",
        "dropout = 0.2\n",
        "optimizer = 'adam'"
      ],
      "execution_count": null,
      "outputs": []
    },
    {
      "cell_type": "code",
      "metadata": {
        "id": "aI9RtVclghX0"
      },
      "source": [
        "train, test, X_train, X_test, y_train, y_test = prepare_data(df, target_col, window_len=window_len, zero_base=zero_base, test_size=test_size)"
      ],
      "execution_count": 106,
      "outputs": []
    },
    {
      "cell_type": "code",
      "metadata": {
        "colab": {
          "base_uri": "https://localhost:8080/"
        },
        "id": "t5ghdGoTDiFc",
        "outputId": "3dc60721-a118-4444-a4ff-cd39f5a592a4"
      },
      "source": [
        "model = build_lstm_model(X_train, output_size=1, neurons=lstm_neurons, dropout=dropout, loss=loss, optimizer=optimizer)\r\n",
        "history = model.fit(X_train, y_train, epochs=epochs, batch_size=batch_size, verbose=1, shuffle=True)"
      ],
      "execution_count": 107,
      "outputs": [
        {
          "output_type": "stream",
          "text": [
            "Epoch 1/20\n",
            "95/95 [==============================] - 2s 3ms/step - loss: 0.1812\n",
            "Epoch 2/20\n",
            "95/95 [==============================] - 0s 4ms/step - loss: 0.1000\n",
            "Epoch 3/20\n",
            "95/95 [==============================] - 0s 3ms/step - loss: 0.0895\n",
            "Epoch 4/20\n",
            "95/95 [==============================] - 0s 3ms/step - loss: 0.0607\n",
            "Epoch 5/20\n",
            "95/95 [==============================] - 0s 4ms/step - loss: 0.0501\n",
            "Epoch 6/20\n",
            "95/95 [==============================] - 0s 4ms/step - loss: 0.0475\n",
            "Epoch 7/20\n",
            "95/95 [==============================] - 0s 4ms/step - loss: 0.0294\n",
            "Epoch 8/20\n",
            "95/95 [==============================] - 0s 4ms/step - loss: 0.0336\n",
            "Epoch 9/20\n",
            "95/95 [==============================] - 0s 4ms/step - loss: 0.0610\n",
            "Epoch 10/20\n",
            "95/95 [==============================] - 0s 4ms/step - loss: 0.0349\n",
            "Epoch 11/20\n",
            "95/95 [==============================] - 0s 4ms/step - loss: 0.0276\n",
            "Epoch 12/20\n",
            "95/95 [==============================] - 0s 4ms/step - loss: 0.0328\n",
            "Epoch 13/20\n",
            "95/95 [==============================] - 0s 3ms/step - loss: 0.0274\n",
            "Epoch 14/20\n",
            "95/95 [==============================] - 0s 3ms/step - loss: 0.0348\n",
            "Epoch 15/20\n",
            "95/95 [==============================] - 0s 3ms/step - loss: 0.0473\n",
            "Epoch 16/20\n",
            "95/95 [==============================] - 0s 3ms/step - loss: 0.0273\n",
            "Epoch 17/20\n",
            "95/95 [==============================] - 0s 4ms/step - loss: 0.0269\n",
            "Epoch 18/20\n",
            "95/95 [==============================] - 0s 3ms/step - loss: 0.0457\n",
            "Epoch 19/20\n",
            "95/95 [==============================] - 0s 3ms/step - loss: 0.0282\n",
            "Epoch 20/20\n",
            "95/95 [==============================] - 0s 4ms/step - loss: 0.0397\n"
          ],
          "name": "stdout"
        }
      ]
    },
    {
      "cell_type": "code",
      "metadata": {
        "id": "6wjz7lC__Xc6",
        "colab": {
          "base_uri": "https://localhost:8080/",
          "height": 204
        },
        "outputId": "d696bb62-785e-404c-8b3d-b418e0f51a97"
      },
      "source": [
        "X_test = extract_window_data(test, window_len, False)\r\n",
        "display(X_test[0])\r\n",
        "a = np.expand_dims(X_test[0], axis=0)\r\n",
        "preds = model.predict(a)\r\n",
        "preds"
      ],
      "execution_count": 105,
      "outputs": [
        {
          "output_type": "display_data",
          "data": {
            "text/plain": [
              "array([[6.47580000e+03, 6.40669000e+03, 6.46705000e+03, 2.41420000e+04,\n",
              "        1.55758902e+08, 6.43374000e+03],\n",
              "       [6.48281000e+03, 6.41256000e+03, 6.43353000e+03, 3.71623600e+04,\n",
              "        2.39808254e+08, 6.47972000e+03],\n",
              "       [6.56279000e+03, 6.47659000e+03, 6.47972000e+03, 5.51004400e+04,\n",
              "        3.60052789e+08, 6.52968000e+03],\n",
              "       [6.54242000e+03, 6.43827000e+03, 6.53094000e+03, 4.20734500e+04,\n",
              "        2.73205387e+08, 6.44606000e+03],\n",
              "       [6.45797000e+03, 6.35245000e+03, 6.44606000e+03, 3.70860400e+04,\n",
              "        2.37893037e+08, 6.37799000e+03]])"
            ]
          },
          "metadata": {
            "tags": []
          }
        },
        {
          "output_type": "execute_result",
          "data": {
            "text/plain": [
              "array([[0.00288807]], dtype=float32)"
            ]
          },
          "metadata": {
            "tags": []
          },
          "execution_count": 105
        }
      ]
    },
    {
      "cell_type": "code",
      "metadata": {
        "colab": {
          "base_uri": "https://localhost:8080/",
          "height": 476
        },
        "id": "8yi9lvtOmRRM",
        "outputId": "564af5ed-e4aa-4442-d986-c1f31ef8f5a5"
      },
      "source": [
        "targets = test[target_col][window_len:]\n",
        "preds = model.predict(X_test).squeeze()\n",
        "\n",
        "#display(preds.shape[0])\n",
        "arr = np.zeros([preds.shape[0], 6])\n",
        "arr[:, 5] = preds\n",
        "display(arr)\n",
        "#display(arr.shape)\n",
        "\n",
        "res = scaler.inverse_transform(arr)\n",
        "\n",
        "df_res = pd.DataFrame(res)\n",
        "\n",
        "print(df_res)\n",
        "#mean_absolute_error(preds, y_test)"
      ],
      "execution_count": 108,
      "outputs": [
        {
          "output_type": "display_data",
          "data": {
            "text/plain": [
              "array([[0.        , 0.        , 0.        , 0.        , 0.        ,\n",
              "        0.00840896],\n",
              "       [0.        , 0.        , 0.        , 0.        , 0.        ,\n",
              "        0.00840896],\n",
              "       [0.        , 0.        , 0.        , 0.        , 0.        ,\n",
              "        0.00840896],\n",
              "       ...,\n",
              "       [0.        , 0.        , 0.        , 0.        , 0.        ,\n",
              "        0.00840896],\n",
              "       [0.        , 0.        , 0.        , 0.        , 0.        ,\n",
              "        0.00840896],\n",
              "       [0.        , 0.        , 0.        , 0.        , 0.        ,\n",
              "        0.00840896]])"
            ]
          },
          "metadata": {
            "tags": []
          }
        },
        {
          "output_type": "stream",
          "text": [
            "           0     1        2    3    4           5\n",
            "0    0.04951  0.01  0.04951  0.0  0.0  165.595103\n",
            "1    0.04951  0.01  0.04951  0.0  0.0  165.595103\n",
            "2    0.04951  0.01  0.04951  0.0  0.0  165.595103\n",
            "3    0.04951  0.01  0.04951  0.0  0.0  165.595103\n",
            "4    0.04951  0.01  0.04951  0.0  0.0  165.595103\n",
            "..       ...   ...      ...  ...  ...         ...\n",
            "748  0.04951  0.01  0.04951  0.0  0.0  165.595103\n",
            "749  0.04951  0.01  0.04951  0.0  0.0  165.595103\n",
            "750  0.04951  0.01  0.04951  0.0  0.0  165.595103\n",
            "751  0.04951  0.01  0.04951  0.0  0.0  165.595103\n",
            "752  0.04951  0.01  0.04951  0.0  0.0  165.595103\n",
            "\n",
            "[753 rows x 6 columns]\n"
          ],
          "name": "stdout"
        }
      ]
    },
    {
      "cell_type": "code",
      "metadata": {
        "colab": {
          "base_uri": "https://localhost:8080/",
          "height": 1000
        },
        "id": "XXcPEe9skO-3",
        "outputId": "08e58564-569a-4ae1-b553-88b791c2698b"
      },
      "source": [
        "preds = test[target_col].values[:-window_len]\n",
        "display(preds)\n",
        "preds = pd.Series(index=targets.index, data=preds)\n",
        "line_plot(targets, preds, 'actual', 'prediction', lw=3)"
      ],
      "execution_count": null,
      "outputs": [
        {
          "output_type": "display_data",
          "data": {
            "text/plain": [
              "array([ 6433.74,  6479.72,  6529.68,  6446.06,  6377.99,  6396.37,\n",
              "        6408.18,  6375.08,  6339.17,  5741.47,  5647.5 ,  5586.27,\n",
              "        5568.94,  5615.26,  4809.62,  4441.81,  4593.04,  4320.68,\n",
              "        4343.42,  3854.11,  4004.15,  3784.59,  3822.99,  4263.55,\n",
              "        4286.69,  4009.67,  4197.46,  4143.86,  3871.41,  3948.44,\n",
              "        3737.53,  3485.18,  3420.57,  3461.07,  3592.84,  3467.16,\n",
              "        3401.02,  3485.59,  3305.11,  3235.48,  3232.51,  3255.37,\n",
              "        3548.19,  3715.85,  3736.54,  4137.66,  3898.81,  4045.24,\n",
              "        4007.63,  4081.95,  3834.73,  3848.78,  3646.09,  3947.86,\n",
              "        3797.06,  3896.21,  3747.39,  3880.15,  3961.01,  3835.86,\n",
              "        3874.06,  3855.39,  4102.85,  4050.4 ,  4040.75,  4048.34,\n",
              "        3668.15,  3669.2 ,  3664.38,  3551.24,  3703.9 ,  3621.24,\n",
              "        3643.99,  3685.3 ,  3648.05,  3729.78,  3567.73,  3571.92,\n",
              "        3602.04,  3572.05,  3598.52,  3582.89,  3596.5 ,  3565.08,\n",
              "        3453.42,  3418.25,  3467.21,  3434.13,  3461.63,  3508.68,\n",
              "        3449.62,  3431.24,  3447.66,  3394.89,  3375.33,  3660.03,\n",
              "        3652.26,  3685.14,  3611.34,  3617.41,  3605.87,  3588.72,\n",
              "        3593.49,  3617.24,  3670.92,  3912.57,  3924.24,  3974.05,\n",
              "        3937.04,  3983.53,  4149.09,  3771.62,  3845.51,  3817.88,\n",
              "        3830.72,  3823.37,  3831.48,  3842.94,  3812.31,  3731.28,\n",
              "        3874.18,  3874.98,  3882.61,  3868.02,  3947.74,  3929.84,\n",
              "        3874.89,  3888.57,  3878.44,  3881.44,  3927.08,  4027.01,\n",
              "        3998.  ,  3988.85,  4024.14,  4056.75,  3996.93,  4000.84,\n",
              "        4007.21,  3994.11,  3924.55,  3942.22,  4045.98,  4036.45,\n",
              "        4111.38,  4118.13,  4112.69,  4151.32,  4906.93,  4976.59,\n",
              "        4913.36,  5047.23,  5057.25,  5201.16,  5294.09,  5201.3 ,\n",
              "        5318.6 ,  5048.56,  5081.5 ,  5080.66,  5165.59,  5037.27,\n",
              "        5212.81,  5236.26,  5289.75,  5295.53,  5326.18,  5305.74,\n",
              "        5394.67,  5539.1 ,  5454.58,  5162.67,  5234.09,  5229.48,\n",
              "        5272.45,  5237.96,  5350.64,  5389.54,  5500.72,  5753.38,\n",
              "        5840.08,  5794.14,  5748.17,  5819.57,  5998.71,  6171.96,\n",
              "        6358.29,  7191.36,  6977.63,  7806.36,  7980.13,  8183.83,\n",
              "        7874.11,  7371.96,  7266.08,  8193.14,  7998.29,  7947.93,\n",
              "        7626.89,  7876.5 ,  7996.4 ,  8059.13,  8726.23,  8785.17,\n",
              "        8718.85,  8664.56,  8276.25,  8550.67,  8555.87,  8737.91,\n",
              "        8114.49,  7677.47,  7791.29,  7807.36,  8002.63,  7933.78,\n",
              "        7643.44,  8021.  ,  7917.32,  8174.14,  8235.57,  8693.96,\n",
              "        8853.56,  8979.18,  9336.01,  9081.71,  9280.54,  9536.85,\n",
              "       10218.87, 10689.54, 10855.99, 11035.74, 11740.34, 12913.28,\n",
              "       11154.09, 12355.06, 11884.1 , 10769.05, 10591.87, 10844.13,\n",
              "       11981.61, 11156.52, 10993.25, 11248.94, 11474.28, 12296.16,\n",
              "       12567.02, 12099.12, 11343.12, 11797.37, 11363.97, 10204.41,\n",
              "       10850.26,  9423.44,  9696.15, 10638.35, 10532.94, 10759.42,\n",
              "       10586.71, 10325.87,  9854.15,  9772.14,  9882.43,  9847.45,\n",
              "        9478.32,  9531.77,  9506.93,  9595.52, 10089.25, 10409.79,\n",
              "       10528.99, 10820.41, 10978.91, 11807.96, 11467.1 , 11974.28,\n",
              "       11982.8 , 11865.21, 11293.59, 11549.06, 11387.41, 10872.  ,\n",
              "       10031.89, 10308.51, 10360.43, 10220.75, 10326.25, 10922.16,\n",
              "       10770.76, 10131.67, 10104.11, 10410.49, 10150.07, 10141.75,\n",
              "       10364.91, 10175.47,  9722.83,  9492.81,  9587.25,  9624.54,\n",
              "        9768.36, 10387.5 , 10625.1 , 10585.2 , 10556.16, 10309.91,\n",
              "       10491.96, 10420.88, 10314.88, 10109.46, 10165.01, 10428.96,\n",
              "       10372.29, 10365.56, 10313.02, 10271.79, 10198.62, 10163.38,\n",
              "       10281.03, 10176.38,  9988.38, 10036.98,  9694.6 ,  8542.54,\n",
              "        8446.97,  8074.99,  8201.36,  8223.65,  8065.26,  8314.62,\n",
              "        8326.64,  8391.52,  8246.3 ,  8168.05,  8172.48,  7868.31,\n",
              "        8215.11,  8191.87,  8593.16,  8596.57,  8278.05,  8316.66,\n",
              "        8296.34,  8363.94,  8173.48,  8014.39,  8082.46,  7972.62,\n",
              "        7973.63,  8247.25,  8223.25,  8034.5 ,  7479.54,  7444.2 ,\n",
              "        8671.1 ,  9258.98,  9550.6 ,  9222.23,  9432.86,  9169.86,\n",
              "        9157.52,  9260.59,  9311.99,  9221.61,  9421.54,  9323.61,\n",
              "        9347.27,  9208.52,  8772.31,  8822.19,  9045.85,  8726.31,\n",
              "        8815.14,  8773.82,  8640.42,  8468.57,  8498.94,  8515.28,\n",
              "        8190.16,  8133.57,  8093.6 ,  7632.59,  7292.2 ,  7339.24,\n",
              "        6930.09,  7138.23,  7170.11,  7531.5 ,  7442.33,  7769.38,\n",
              "        7571.77,  7420.53,  7320.94,  7313.64,  7207.78,  7406.75,\n",
              "        7558.58,  7514.86,  7539.7 ,  7350.62,  7233.84,  7212.01,\n",
              "        7199.39,  7261.72,  7080.29,  7132.39,  6897.33,  6635.84,\n",
              "        7294.53,  7159.26,  7203.41,  7159.47,  7517.58,  7326.6 ,\n",
              "        7260.91,  7202.72,  7207.23,  7253.82,  7316.23,  7399.49,\n",
              "        7234.44,  7183.88,  7189.94,  6965.72,  7339.7 ,  7357.5 ,\n",
              "        7359.96,  7762.69,  8160.36,  8045.15,  7817.35,  8190.31,\n",
              "        8024.58,  8181.49,  8106.56,  8820.95,  8813.21,  8719.63,\n",
              "        8894.83,  8909.28,  8702.59,  8634.03,  8724.84,  8667.26,\n",
              "        8394.28,  8431.78,  8345.88,  8602.37,  8898.94,  9391.97,\n",
              "        9286.18,  9501.38,  9342.23,  9384.45,  9334.25,  9288.96,\n",
              "        9171.98,  9611.42,  9755.84,  9808.36,  9898.25, 10157.78,\n",
              "        9858.03, 10269.43, 10347.93, 10233.32, 10360.37,  9905.43,\n",
              "        9925.51,  9702.48, 10182.6 ,  9602.43,  9608.8 ,  9697.86,\n",
              "        9671.46,  9977.39,  9664.21,  9316.18,  8793.5 ,  8821.5 ,\n",
              "        8719.29,  8545.45,  8549.38,  8919.74,  8765.68,  8773.78,\n",
              "        9074.82,  9160.39,  8903.72,  8057.67,  7944.4 ,  7894.66,\n",
              "        7945.36,  4916.78,  5632.58,  5181.77,  5357.02,  5045.  ,\n",
              "        5337.66,  5413.06,  6184.88,  6206.44,  6195.43,  5828.15,\n",
              "        6503.53,  6767.18,  6694.21,  6757.95,  6382.8 ,  6252.49,\n",
              "        5882.2 ,  6403.31,  6423.61,  6663.63,  6804.42,  6743.68,\n",
              "        6875.95,  6781.64,  7347.22,  7201.57,  7367.37,  7294.55,\n",
              "        6876.49,  6887.6 ,  6913.76,  6859.43,  6879.44,  6629.54,\n",
              "        7114.55,  7037.12,  7264.29,  7132.88,  6842.45,  6855.11,\n",
              "        7135.41,  7489.25,  7509.44,  7546.92,  7701.35,  7787.41,\n",
              "        7760.32,  8784.96,  8637.56,  8829.12,  8981.11,  8907.19,\n",
              "        8881.65,  9029.75,  9153.2 ,  9999.93,  9808.18,  9541.13,\n",
              "        8735.05,  8568.88,  8821.18,  9317.44,  9793.19,  9311.69,\n",
              "        9387.08,  9670.56,  9722.73,  9780.2 ,  9509.45,  9059.11,\n",
              "        9170.74,  9186.19,  8718.49,  8901.48,  8844.5 ,  9204.62,\n",
              "        9579.71,  9424.62,  9699.78,  9450.47, 10211.23,  9523.75,\n",
              "        9666.06,  9794.55,  9622.02,  9671.46,  9750.7 ,  9782.58,\n",
              "        9779.7 ,  9891.84,  9268.13,  9464.23,  9474.65,  9333.7 ,\n",
              "        9429.65,  9526.7 ,  9459.13,  9380.67,  9301.83,  9359.18,\n",
              "        9292.81,  9691.61,  9624.3 ,  9292.94,  9241.32,  9158.07,\n",
              "        9007.14,  9120.39,  9187.07,  9136.47,  9238.89,  9092.8 ,\n",
              "        9066.46,  9142.2 ,  9081.44,  9347.05,  9257.32,  9439.2 ,\n",
              "        9238.95,  9288.57,  9237.13,  9300.95,  9237.89,  9256.07,\n",
              "        9193.22,  9133.23,  9156.79,  9177.22,  9216.02,  9164.42,\n",
              "        9392.83,  9537.24,  9615.21,  9550.23,  9708.41,  9942.01,\n",
              "       11042.94, 10933.26, 11112.04, 11113.66, 11352.72, 11812.42,\n",
              "       11063.5 , 11234.73, 11194.18, 11752.05, 11771.27, 11603.82,\n",
              "       11770.77, 11686.34, 11897.41, 11389.01, 11570.19, 11790.68,\n",
              "       11774.52, 11860.91, 11917.97, 12301.19, 11956.69, 11760.37,\n",
              "       11863.43, 11527.35, 11670.42, 11651.52, 11756.4 , 11330.56,\n",
              "       11466.89, 11331.02, 11535.21, 11480.48, 11716.54, 11657.81,\n",
              "       11926.69, 11397.9 , 10174.62, 10467.33, 10167.97, 10260.37,\n",
              "       10379.08, 10128.54, 10228.85, 10345.68, 10398.5 , 10448.  ,\n",
              "       10332.36, 10678.31, 10786.7 , 10957.1 , 10945.14, 10937.89,\n",
              "       11083.61, 10921.85, 10418.14, 10534.73, 10238.09, 10742.98,\n",
              "       10694.12, 10734.23, 10781.47, 10699.  , 10841.29, 10779.42,\n",
              "       10622.79, 10576.64, 10552.04, 10675.52, 10795.11, 10603.9 ,\n",
              "       10672.67, 10929.4 , 11058.78, 11301.57, 11375.51, 11539.76,\n",
              "       11427.29, 11429.3 , 11508.31, 11326.25, 11367.65, 11513.33,\n",
              "       11756.88, 11921.78, 12813.11, 12990.25, 12937.2 , 13126.13,\n",
              "       13041.21, 13069.43, 13646.02, 13285.97, 13462.18, 13565.95,\n",
              "       13803.41, 13761.72, 13571.24, 14023.78, 14157.73, 15599.92,\n",
              "       15590.62, 14838.16, 15488.25, 15335.03, 15313.73, 15707.08,\n",
              "       16306.53, 16332.85, 16075.95, 15964.7 , 16721.46, 17681.54,\n",
              "       17786.27, 17824.64, 18672.78, 18704.06, 18430.59, 18385.74,\n",
              "       19157.16, 18725.76, 17175.86])"
            ]
          },
          "metadata": {
            "tags": []
          }
        },
        {
          "output_type": "display_data",
          "data": {
            "image/png": "[encoded data removed]",
            "text/plain": [
              "<Figure size 936x504 with 1 Axes>"
            ]
          },
          "metadata": {
            "tags": [],
            "needs_background": "light"
          }
        }
      ]
    },
    {
      "cell_type": "code",
      "metadata": {
        "id": "nVzHRPhKxsFP"
      },
      "source": [
        "from google.colab import drive\n",
        "drive.mount('/content/drive')"
      ],
      "execution_count": null,
      "outputs": []
    },
    {
      "cell_type": "code",
      "metadata": {
        "colab": {
          "base_uri": "https://localhost:8080/"
        },
        "id": "f1Ss597EgPM4",
        "outputId": "62c3bbfe-86dd-41de-e63f-65763dabf74d"
      },
      "source": [
        "a = [1, 2, 3, 4, 5]\r\n",
        "\r\n",
        "a[:-2]"
      ],
      "execution_count": null,
      "outputs": [
        {
          "output_type": "execute_result",
          "data": {
            "text/plain": [
              "[1, 2, 3]"
            ]
          },
          "metadata": {
            "tags": []
          },
          "execution_count": 26
        }
      ]
    }
  ]
}