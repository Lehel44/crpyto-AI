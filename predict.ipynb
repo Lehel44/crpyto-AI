{
 "cells": [
  {
   "cell_type": "code",
   "execution_count": 1,
   "id": "specific-registrar",
   "metadata": {},
   "outputs": [],
   "source": [
    "import requests\n",
    "import urllib.request\n",
    "from bs4 import BeautifulSoup\n",
    "import json\n",
    "import pandas as pd\n",
    "import numpy as np\n",
    "from sklearn.preprocessing import MinMaxScaler\n",
    "from keras.models import load_model\n",
    "from pickle import load\n",
    "import matplotlib.pyplot as plt\n",
    "%matplotlib inline"
   ]
  },
  {
   "cell_type": "code",
   "execution_count": 2,
   "id": "flush-tower",
   "metadata": {},
   "outputs": [],
   "source": [
    "url = 'https://min-api.cryptocompare.com/data/v2/histoday?fsym=BTC&tsym=USD&limit=100'\n",
    "response = requests.get(url)"
   ]
  },
  {
   "cell_type": "code",
   "execution_count": 3,
   "id": "duplicate-absence",
   "metadata": {},
   "outputs": [],
   "source": [
    "soup = BeautifulSoup(response.text, \"html.parser\")"
   ]
  },
  {
   "cell_type": "code",
   "execution_count": 4,
   "id": "express-springfield",
   "metadata": {},
   "outputs": [
    {
     "data": {
      "text/html": [
       "<div>\n",
       "<style scoped>\n",
       "    .dataframe tbody tr th:only-of-type {\n",
       "        vertical-align: middle;\n",
       "    }\n",
       "\n",
       "    .dataframe tbody tr th {\n",
       "        vertical-align: top;\n",
       "    }\n",
       "\n",
       "    .dataframe thead th {\n",
       "        text-align: right;\n",
       "    }\n",
       "</style>\n",
       "<table border=\"1\" class=\"dataframe\">\n",
       "  <thead>\n",
       "    <tr style=\"text-align: right;\">\n",
       "      <th></th>\n",
       "      <th>high</th>\n",
       "      <th>low</th>\n",
       "      <th>open</th>\n",
       "      <th>volumefrom</th>\n",
       "      <th>volumeto</th>\n",
       "      <th>close</th>\n",
       "    </tr>\n",
       "    <tr>\n",
       "      <th>time</th>\n",
       "      <th></th>\n",
       "      <th></th>\n",
       "      <th></th>\n",
       "      <th></th>\n",
       "      <th></th>\n",
       "      <th></th>\n",
       "    </tr>\n",
       "  </thead>\n",
       "  <tbody>\n",
       "    <tr>\n",
       "      <th>2020-12-04</th>\n",
       "      <td>19541.62</td>\n",
       "      <td>18603.79</td>\n",
       "      <td>19448.44</td>\n",
       "      <td>42234.35</td>\n",
       "      <td>8.043665e+08</td>\n",
       "      <td>18665.00</td>\n",
       "    </tr>\n",
       "    <tr>\n",
       "      <th>2020-12-05</th>\n",
       "      <td>19178.40</td>\n",
       "      <td>18514.92</td>\n",
       "      <td>18665.00</td>\n",
       "      <td>20517.48</td>\n",
       "      <td>3.884669e+08</td>\n",
       "      <td>19156.84</td>\n",
       "    </tr>\n",
       "    <tr>\n",
       "      <th>2020-12-06</th>\n",
       "      <td>19417.33</td>\n",
       "      <td>18885.88</td>\n",
       "      <td>19156.84</td>\n",
       "      <td>21172.50</td>\n",
       "      <td>4.057086e+08</td>\n",
       "      <td>19378.94</td>\n",
       "    </tr>\n",
       "    <tr>\n",
       "      <th>2020-12-07</th>\n",
       "      <td>19411.51</td>\n",
       "      <td>18909.97</td>\n",
       "      <td>19378.94</td>\n",
       "      <td>24908.46</td>\n",
       "      <td>4.773346e+08</td>\n",
       "      <td>19181.41</td>\n",
       "    </tr>\n",
       "    <tr>\n",
       "      <th>2020-12-08</th>\n",
       "      <td>19295.38</td>\n",
       "      <td>18227.31</td>\n",
       "      <td>19181.41</td>\n",
       "      <td>46151.65</td>\n",
       "      <td>8.665434e+08</td>\n",
       "      <td>18323.52</td>\n",
       "    </tr>\n",
       "  </tbody>\n",
       "</table>\n",
       "</div>"
      ],
      "text/plain": [
       "                high       low      open  volumefrom      volumeto     close\n",
       "time                                                                        \n",
       "2020-12-04  19541.62  18603.79  19448.44    42234.35  8.043665e+08  18665.00\n",
       "2020-12-05  19178.40  18514.92  18665.00    20517.48  3.884669e+08  19156.84\n",
       "2020-12-06  19417.33  18885.88  19156.84    21172.50  4.057086e+08  19378.94\n",
       "2020-12-07  19411.51  18909.97  19378.94    24908.46  4.773346e+08  19181.41\n",
       "2020-12-08  19295.38  18227.31  19181.41    46151.65  8.665434e+08  18323.52"
      ]
     },
     "execution_count": 4,
     "metadata": {},
     "output_type": "execute_result"
    }
   ],
   "source": [
    "data = json.loads(str(soup))\n",
    "\n",
    "df = pd.DataFrame(data['Data']['Data'])\n",
    "df = df.set_index('time')\n",
    "df.index = pd.to_datetime(df.index, unit='s')\n",
    "df = df.drop(['conversionType', 'conversionSymbol'], axis=1 )\n",
    "target_col = 'close'\n",
    "\n",
    "df.head()"
   ]
  },
  {
   "cell_type": "code",
   "execution_count": 5,
   "id": "varied-welsh",
   "metadata": {},
   "outputs": [],
   "source": [
    "model = load_model('best_model.h5')\n",
    "scaler = load(open('scaler.pkl', 'rb'))"
   ]
  },
  {
   "cell_type": "code",
   "execution_count": 6,
   "id": "missing-halifax",
   "metadata": {},
   "outputs": [],
   "source": [
    "window_len = model.input_shape[1]"
   ]
  },
  {
   "cell_type": "code",
   "execution_count": 7,
   "id": "twenty-surname",
   "metadata": {},
   "outputs": [],
   "source": [
    "scaled = scaler.transform(df)\n",
    "scaled_df = pd.DataFrame(scaled, columns=df.columns,index=df.index)"
   ]
  },
  {
   "cell_type": "code",
   "execution_count": 8,
   "id": "everyday-catch",
   "metadata": {},
   "outputs": [],
   "source": [
    "def extract_window_data(df, window_len=5):\n",
    "    window_data = []\n",
    "    for idx in range(len(df) - window_len):\n",
    "        tmp = df[idx: (idx + window_len)].copy()\n",
    "        window_data.append(tmp.values)\n",
    "    \n",
    "    return np.array(window_data)\n",
    "\n",
    "def prepare_data(df, target_col, window_len=10):\n",
    "\n",
    "    x = extract_window_data(df, window_len)\n",
    "    y = df[target_col][window_len:].values\n",
    "    \n",
    "    return x, y\n"
   ]
  },
  {
   "cell_type": "code",
   "execution_count": 9,
   "id": "colonial-digest",
   "metadata": {},
   "outputs": [],
   "source": [
    "x_test, y_test = prepare_data(scaled_df, target_col, window_len)"
   ]
  },
  {
   "cell_type": "code",
   "execution_count": 10,
   "id": "later-israeli",
   "metadata": {},
   "outputs": [
    {
     "data": {
      "text/html": [
       "<div>\n",
       "<style scoped>\n",
       "    .dataframe tbody tr th:only-of-type {\n",
       "        vertical-align: middle;\n",
       "    }\n",
       "\n",
       "    .dataframe tbody tr th {\n",
       "        vertical-align: top;\n",
       "    }\n",
       "\n",
       "    .dataframe thead th {\n",
       "        text-align: right;\n",
       "    }\n",
       "</style>\n",
       "<table border=\"1\" class=\"dataframe\">\n",
       "  <thead>\n",
       "    <tr style=\"text-align: right;\">\n",
       "      <th></th>\n",
       "      <th>high</th>\n",
       "      <th>low</th>\n",
       "      <th>open</th>\n",
       "      <th>volumefrom</th>\n",
       "      <th>volumeto</th>\n",
       "      <th>close</th>\n",
       "    </tr>\n",
       "  </thead>\n",
       "  <tbody>\n",
       "    <tr>\n",
       "      <th>0</th>\n",
       "      <td>0.04951</td>\n",
       "      <td>0.01</td>\n",
       "      <td>0.04951</td>\n",
       "      <td>0.0</td>\n",
       "      <td>0.0</td>\n",
       "      <td>17456.556647</td>\n",
       "    </tr>\n",
       "    <tr>\n",
       "      <th>1</th>\n",
       "      <td>0.04951</td>\n",
       "      <td>0.01</td>\n",
       "      <td>0.04951</td>\n",
       "      <td>0.0</td>\n",
       "      <td>0.0</td>\n",
       "      <td>17550.990285</td>\n",
       "    </tr>\n",
       "    <tr>\n",
       "      <th>2</th>\n",
       "      <td>0.04951</td>\n",
       "      <td>0.01</td>\n",
       "      <td>0.04951</td>\n",
       "      <td>0.0</td>\n",
       "      <td>0.0</td>\n",
       "      <td>17651.673606</td>\n",
       "    </tr>\n",
       "    <tr>\n",
       "      <th>3</th>\n",
       "      <td>0.04951</td>\n",
       "      <td>0.01</td>\n",
       "      <td>0.04951</td>\n",
       "      <td>0.0</td>\n",
       "      <td>0.0</td>\n",
       "      <td>18611.621509</td>\n",
       "    </tr>\n",
       "    <tr>\n",
       "      <th>4</th>\n",
       "      <td>0.04951</td>\n",
       "      <td>0.01</td>\n",
       "      <td>0.04951</td>\n",
       "      <td>0.0</td>\n",
       "      <td>0.0</td>\n",
       "      <td>20040.611607</td>\n",
       "    </tr>\n",
       "  </tbody>\n",
       "</table>\n",
       "</div>"
      ],
      "text/plain": [
       "      high   low     open  volumefrom  volumeto         close\n",
       "0  0.04951  0.01  0.04951         0.0       0.0  17456.556647\n",
       "1  0.04951  0.01  0.04951         0.0       0.0  17550.990285\n",
       "2  0.04951  0.01  0.04951         0.0       0.0  17651.673606\n",
       "3  0.04951  0.01  0.04951         0.0       0.0  18611.621509\n",
       "4  0.04951  0.01  0.04951         0.0       0.0  20040.611607"
      ]
     },
     "execution_count": 10,
     "metadata": {},
     "output_type": "execute_result"
    }
   ],
   "source": [
    "preds = model.predict(x_test).squeeze()\n",
    "\n",
    "preds_arr = np.zeros([preds.shape[0], 6])\n",
    "preds_arr[:, 5] = preds\n",
    "\n",
    "preds = scaler.inverse_transform(preds_arr)\n",
    "\n",
    "preds_df = pd.DataFrame(preds, columns=df.columns)\n",
    "\n",
    "preds_df.head()"
   ]
  },
  {
   "cell_type": "code",
   "execution_count": 12,
   "id": "talented-compression",
   "metadata": {},
   "outputs": [
    {
     "data": {
      "image/png": "[encoded data removed]",
      "text/plain": [
       "<Figure size 936x504 with 1 Axes>"
      ]
     },
     "metadata": {
      "needs_background": "light"
     },
     "output_type": "display_data"
    }
   ],
   "source": [
    "predicted_closing_prices = preds_df[target_col].values\n",
    "actual_closing_prices = df[target_col][window_len:]\n",
    "predicted_closing_prices = pd.Series(index=actual_closing_prices.index, data=predicted_closing_prices)\n",
    "\n",
    "fig, ax = plt.subplots(1, figsize=(13, 7))\n",
    "ax.plot(actual_closing_prices, label='actual')\n",
    "ax.plot(predicted_closing_prices, label='predicted')\n",
    "ax.set_ylabel('price [USD]', fontsize=14)\n",
    "ax.set_title('Evaluation', fontsize=16)\n",
    "ax.legend(loc='best', fontsize=16)\n",
    "plt.show()"
   ]
  },
  {
   "cell_type": "code",
   "execution_count": 14,
   "id": "acceptable-extent",
   "metadata": {},
   "outputs": [],
   "source": [
    "w = scaled_df[len(df)-window_len:len(df)]\n",
    "wn = np.array(w)\n",
    "wn = wn[np.newaxis, :, :]\n",
    "\n",
    "t = model.predict(wn).squeeze()\n",
    "t_arr = np.zeros(6)\n",
    "t_arr[5] = t\n",
    "t_arr = t_arr[np.newaxis, :]\n",
    "tomorrow = scaler.inverse_transform(t_arr)\n",
    "tomorrow = tomorrow[0,5]"
   ]
  },
  {
   "cell_type": "code",
   "execution_count": 15,
   "id": "julian-maximum",
   "metadata": {},
   "outputs": [
    {
     "data": {
      "text/plain": [
       "40993.51216472368"
      ]
     },
     "execution_count": 15,
     "metadata": {},
     "output_type": "execute_result"
    }
   ],
   "source": [
    "tomorrow"
   ]
  },
  {
   "cell_type": "code",
   "execution_count": null,
   "id": "jewish-austin",
   "metadata": {},
   "outputs": [],
   "source": []
  }
 ],
 "metadata": {
  "kernelspec": {
   "display_name": "crypto-v3.8",
   "language": "python",
   "name": "crypto-v3.8"
  },
  "language_info": {
   "codemirror_mode": {
    "name": "ipython",
    "version": 3
   },
   "file_extension": ".py",
   "mimetype": "text/x-python",
   "name": "python",
   "nbconvert_exporter": "python",
   "pygments_lexer": "ipython3",
   "version": "3.8.5"
  }
 },
 "nbformat": 4,
 "nbformat_minor": 5
}
